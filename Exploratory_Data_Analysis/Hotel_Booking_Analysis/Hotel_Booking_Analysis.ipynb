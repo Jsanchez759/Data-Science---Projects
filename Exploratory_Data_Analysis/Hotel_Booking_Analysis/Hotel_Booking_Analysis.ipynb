{
 "cells": [
  {
   "cell_type": "code",
   "execution_count": 1,
   "metadata": {},
   "outputs": [],
   "source": [
    "import pandas as pd\n",
    "import seaborn as sns\n",
    "import matplotlib.pyplot as plt\n",
    "import plotly.express as px\n",
    "import sort_dataframeby_monthorweek as sd"
   ]
  },
  {
   "cell_type": "code",
   "execution_count": 2,
   "metadata": {
    "pycharm": {
     "name": "#%%\n"
    }
   },
   "outputs": [
    {
     "data": {
      "text/plain": "          hotel  is_canceled  lead_time  arrival_date_year arrival_date_month  \\\n0  Resort Hotel            0        342               2015               July   \n1  Resort Hotel            0        737               2015               July   \n2  Resort Hotel            0          7               2015               July   \n3  Resort Hotel            0         13               2015               July   \n4  Resort Hotel            0         14               2015               July   \n\n   arrival_date_week_number  arrival_date_day_of_month  \\\n0                        27                          1   \n1                        27                          1   \n2                        27                          1   \n3                        27                          1   \n4                        27                          1   \n\n   stays_in_weekend_nights  stays_in_week_nights  adults  ...  deposit_type  \\\n0                        0                     0       2  ...    No Deposit   \n1                        0                     0       2  ...    No Deposit   \n2                        0                     1       1  ...    No Deposit   \n3                        0                     1       1  ...    No Deposit   \n4                        0                     2       2  ...    No Deposit   \n\n   agent company days_in_waiting_list customer_type   adr  \\\n0    NaN     NaN                    0     Transient   0.0   \n1    NaN     NaN                    0     Transient   0.0   \n2    NaN     NaN                    0     Transient  75.0   \n3  304.0     NaN                    0     Transient  75.0   \n4  240.0     NaN                    0     Transient  98.0   \n\n   required_car_parking_spaces  total_of_special_requests  reservation_status  \\\n0                            0                          0           Check-Out   \n1                            0                          0           Check-Out   \n2                            0                          0           Check-Out   \n3                            0                          0           Check-Out   \n4                            0                          1           Check-Out   \n\n  reservation_status_date  \n0                7/1/2015  \n1                7/1/2015  \n2                7/2/2015  \n3                7/2/2015  \n4                7/3/2015  \n\n[5 rows x 32 columns]",
      "text/html": "<div>\n<style scoped>\n    .dataframe tbody tr th:only-of-type {\n        vertical-align: middle;\n    }\n\n    .dataframe tbody tr th {\n        vertical-align: top;\n    }\n\n    .dataframe thead th {\n        text-align: right;\n    }\n</style>\n<table border=\"1\" class=\"dataframe\">\n  <thead>\n    <tr style=\"text-align: right;\">\n      <th></th>\n      <th>hotel</th>\n      <th>is_canceled</th>\n      <th>lead_time</th>\n      <th>arrival_date_year</th>\n      <th>arrival_date_month</th>\n      <th>arrival_date_week_number</th>\n      <th>arrival_date_day_of_month</th>\n      <th>stays_in_weekend_nights</th>\n      <th>stays_in_week_nights</th>\n      <th>adults</th>\n      <th>...</th>\n      <th>deposit_type</th>\n      <th>agent</th>\n      <th>company</th>\n      <th>days_in_waiting_list</th>\n      <th>customer_type</th>\n      <th>adr</th>\n      <th>required_car_parking_spaces</th>\n      <th>total_of_special_requests</th>\n      <th>reservation_status</th>\n      <th>reservation_status_date</th>\n    </tr>\n  </thead>\n  <tbody>\n    <tr>\n      <th>0</th>\n      <td>Resort Hotel</td>\n      <td>0</td>\n      <td>342</td>\n      <td>2015</td>\n      <td>July</td>\n      <td>27</td>\n      <td>1</td>\n      <td>0</td>\n      <td>0</td>\n      <td>2</td>\n      <td>...</td>\n      <td>No Deposit</td>\n      <td>NaN</td>\n      <td>NaN</td>\n      <td>0</td>\n      <td>Transient</td>\n      <td>0.0</td>\n      <td>0</td>\n      <td>0</td>\n      <td>Check-Out</td>\n      <td>7/1/2015</td>\n    </tr>\n    <tr>\n      <th>1</th>\n      <td>Resort Hotel</td>\n      <td>0</td>\n      <td>737</td>\n      <td>2015</td>\n      <td>July</td>\n      <td>27</td>\n      <td>1</td>\n      <td>0</td>\n      <td>0</td>\n      <td>2</td>\n      <td>...</td>\n      <td>No Deposit</td>\n      <td>NaN</td>\n      <td>NaN</td>\n      <td>0</td>\n      <td>Transient</td>\n      <td>0.0</td>\n      <td>0</td>\n      <td>0</td>\n      <td>Check-Out</td>\n      <td>7/1/2015</td>\n    </tr>\n    <tr>\n      <th>2</th>\n      <td>Resort Hotel</td>\n      <td>0</td>\n      <td>7</td>\n      <td>2015</td>\n      <td>July</td>\n      <td>27</td>\n      <td>1</td>\n      <td>0</td>\n      <td>1</td>\n      <td>1</td>\n      <td>...</td>\n      <td>No Deposit</td>\n      <td>NaN</td>\n      <td>NaN</td>\n      <td>0</td>\n      <td>Transient</td>\n      <td>75.0</td>\n      <td>0</td>\n      <td>0</td>\n      <td>Check-Out</td>\n      <td>7/2/2015</td>\n    </tr>\n    <tr>\n      <th>3</th>\n      <td>Resort Hotel</td>\n      <td>0</td>\n      <td>13</td>\n      <td>2015</td>\n      <td>July</td>\n      <td>27</td>\n      <td>1</td>\n      <td>0</td>\n      <td>1</td>\n      <td>1</td>\n      <td>...</td>\n      <td>No Deposit</td>\n      <td>304.0</td>\n      <td>NaN</td>\n      <td>0</td>\n      <td>Transient</td>\n      <td>75.0</td>\n      <td>0</td>\n      <td>0</td>\n      <td>Check-Out</td>\n      <td>7/2/2015</td>\n    </tr>\n    <tr>\n      <th>4</th>\n      <td>Resort Hotel</td>\n      <td>0</td>\n      <td>14</td>\n      <td>2015</td>\n      <td>July</td>\n      <td>27</td>\n      <td>1</td>\n      <td>0</td>\n      <td>2</td>\n      <td>2</td>\n      <td>...</td>\n      <td>No Deposit</td>\n      <td>240.0</td>\n      <td>NaN</td>\n      <td>0</td>\n      <td>Transient</td>\n      <td>98.0</td>\n      <td>0</td>\n      <td>1</td>\n      <td>Check-Out</td>\n      <td>7/3/2015</td>\n    </tr>\n  </tbody>\n</table>\n<p>5 rows × 32 columns</p>\n</div>"
     },
     "execution_count": 2,
     "metadata": {},
     "output_type": "execute_result"
    }
   ],
   "source": [
    "df = pd.read_csv('hotel_bookings.csv')\n",
    "df.head()"
   ]
  },
  {
   "cell_type": "markdown",
   "metadata": {},
   "source": [
    "## Data preprocessing"
   ]
  },
  {
   "cell_type": "code",
   "execution_count": 3,
   "metadata": {
    "pycharm": {
     "name": "#%%\n"
    }
   },
   "outputs": [
    {
     "data": {
      "text/plain": "True"
     },
     "execution_count": 3,
     "metadata": {},
     "output_type": "execute_result"
    }
   ],
   "source": [
    "# Nan Values check\n",
    "df.isnull().values.any()"
   ]
  },
  {
   "cell_type": "code",
   "execution_count": 4,
   "metadata": {
    "pycharm": {
     "name": "#%%\n"
    }
   },
   "outputs": [
    {
     "data": {
      "text/plain": "hotel                                  0\nis_canceled                            0\nlead_time                              0\narrival_date_year                      0\narrival_date_month                     0\narrival_date_week_number               0\narrival_date_day_of_month              0\nstays_in_weekend_nights                0\nstays_in_week_nights                   0\nadults                                 0\nchildren                               4\nbabies                                 0\nmeal                                   0\ncountry                              488\nmarket_segment                         0\ndistribution_channel                   0\nis_repeated_guest                      0\nprevious_cancellations                 0\nprevious_bookings_not_canceled         0\nreserved_room_type                     0\nassigned_room_type                     0\nbooking_changes                        0\ndeposit_type                           0\nagent                              16340\ncompany                           112593\ndays_in_waiting_list                   0\ncustomer_type                          0\nadr                                    0\nrequired_car_parking_spaces            0\ntotal_of_special_requests              0\nreservation_status                     0\nreservation_status_date                0\ndtype: int64"
     },
     "execution_count": 4,
     "metadata": {},
     "output_type": "execute_result"
    }
   ],
   "source": [
    "df.isnull().sum()"
   ]
  },
  {
   "cell_type": "markdown",
   "metadata": {},
   "source": [
    "### We can fill all the NaN values with 0\n",
    "- Children nan values we are going to assume them in 0 children\n",
    "- Agent, company and country like are not number values, so that we are going to assume them as private information, filling them with 0"
   ]
  },
  {
   "cell_type": "code",
   "execution_count": 5,
   "metadata": {
    "pycharm": {
     "name": "#%%\n"
    }
   },
   "outputs": [
    {
     "data": {
      "text/plain": "               hotel  is_canceled  lead_time  arrival_date_year  \\\n2224    Resort Hotel            0          1               2015   \n2409    Resort Hotel            0          0               2015   \n3181    Resort Hotel            0         36               2015   \n3684    Resort Hotel            0        165               2015   \n3708    Resort Hotel            0        165               2015   \n...              ...          ...        ...                ...   \n115029    City Hotel            0        107               2017   \n115091    City Hotel            0          1               2017   \n116251    City Hotel            0         44               2017   \n116534    City Hotel            0          2               2017   \n117087    City Hotel            0        170               2017   \n\n       arrival_date_month  arrival_date_week_number  \\\n2224              October                        41   \n2409              October                        42   \n3181             November                        47   \n3684             December                        53   \n3708             December                        53   \n...                   ...                       ...   \n115029               June                        26   \n115091               June                        26   \n116251               July                        28   \n116534               July                        28   \n117087               July                        30   \n\n        arrival_date_day_of_month  stays_in_weekend_nights  \\\n2224                            6                        0   \n2409                           12                        0   \n3181                           20                        1   \n3684                           30                        1   \n3708                           30                        2   \n...                           ...                      ...   \n115029                         27                        0   \n115091                         30                        0   \n116251                         15                        1   \n116534                         15                        2   \n117087                         27                        0   \n\n        stays_in_week_nights  adults  ...  deposit_type  agent company  \\\n2224                       3       0  ...    No Deposit    NaN   174.0   \n2409                       0       0  ...    No Deposit    NaN   174.0   \n3181                       2       0  ...    No Deposit   38.0     NaN   \n3684                       4       0  ...    No Deposit  308.0     NaN   \n3708                       4       0  ...    No Deposit  308.0     NaN   \n...                      ...     ...  ...           ...    ...     ...   \n115029                     3       0  ...    No Deposit    7.0     NaN   \n115091                     1       0  ...    No Deposit    NaN     NaN   \n116251                     1       0  ...    No Deposit  425.0     NaN   \n116534                     5       0  ...    No Deposit    9.0     NaN   \n117087                     2       0  ...    No Deposit   52.0     NaN   \n\n       days_in_waiting_list    customer_type     adr  \\\n2224                      0  Transient-Party    0.00   \n2409                      0        Transient    0.00   \n3181                      0  Transient-Party    0.00   \n3684                    122  Transient-Party    0.00   \n3708                    122  Transient-Party    0.00   \n...                     ...              ...     ...   \n115029                    0        Transient  100.80   \n115091                    0        Transient    0.00   \n116251                    0        Transient   73.80   \n116534                    0  Transient-Party   22.86   \n117087                    0        Transient    0.00   \n\n        required_car_parking_spaces  total_of_special_requests  \\\n2224                              0                          0   \n2409                              0                          0   \n3181                              0                          0   \n3684                              0                          0   \n3708                              0                          0   \n...                             ...                        ...   \n115029                            0                          0   \n115091                            1                          1   \n116251                            0                          0   \n116534                            0                          1   \n117087                            0                          0   \n\n        reservation_status reservation_status_date  \n2224             Check-Out               10/6/2015  \n2409             Check-Out              10/12/2015  \n3181             Check-Out              11/23/2015  \n3684             Check-Out                1/4/2016  \n3708             Check-Out                1/5/2016  \n...                    ...                     ...  \n115029           Check-Out               6/30/2017  \n115091           Check-Out                7/1/2017  \n116251           Check-Out               7/17/2017  \n116534           Check-Out               7/22/2017  \n117087           Check-Out               7/29/2017  \n\n[180 rows x 32 columns]",
      "text/html": "<div>\n<style scoped>\n    .dataframe tbody tr th:only-of-type {\n        vertical-align: middle;\n    }\n\n    .dataframe tbody tr th {\n        vertical-align: top;\n    }\n\n    .dataframe thead th {\n        text-align: right;\n    }\n</style>\n<table border=\"1\" class=\"dataframe\">\n  <thead>\n    <tr style=\"text-align: right;\">\n      <th></th>\n      <th>hotel</th>\n      <th>is_canceled</th>\n      <th>lead_time</th>\n      <th>arrival_date_year</th>\n      <th>arrival_date_month</th>\n      <th>arrival_date_week_number</th>\n      <th>arrival_date_day_of_month</th>\n      <th>stays_in_weekend_nights</th>\n      <th>stays_in_week_nights</th>\n      <th>adults</th>\n      <th>...</th>\n      <th>deposit_type</th>\n      <th>agent</th>\n      <th>company</th>\n      <th>days_in_waiting_list</th>\n      <th>customer_type</th>\n      <th>adr</th>\n      <th>required_car_parking_spaces</th>\n      <th>total_of_special_requests</th>\n      <th>reservation_status</th>\n      <th>reservation_status_date</th>\n    </tr>\n  </thead>\n  <tbody>\n    <tr>\n      <th>2224</th>\n      <td>Resort Hotel</td>\n      <td>0</td>\n      <td>1</td>\n      <td>2015</td>\n      <td>October</td>\n      <td>41</td>\n      <td>6</td>\n      <td>0</td>\n      <td>3</td>\n      <td>0</td>\n      <td>...</td>\n      <td>No Deposit</td>\n      <td>NaN</td>\n      <td>174.0</td>\n      <td>0</td>\n      <td>Transient-Party</td>\n      <td>0.00</td>\n      <td>0</td>\n      <td>0</td>\n      <td>Check-Out</td>\n      <td>10/6/2015</td>\n    </tr>\n    <tr>\n      <th>2409</th>\n      <td>Resort Hotel</td>\n      <td>0</td>\n      <td>0</td>\n      <td>2015</td>\n      <td>October</td>\n      <td>42</td>\n      <td>12</td>\n      <td>0</td>\n      <td>0</td>\n      <td>0</td>\n      <td>...</td>\n      <td>No Deposit</td>\n      <td>NaN</td>\n      <td>174.0</td>\n      <td>0</td>\n      <td>Transient</td>\n      <td>0.00</td>\n      <td>0</td>\n      <td>0</td>\n      <td>Check-Out</td>\n      <td>10/12/2015</td>\n    </tr>\n    <tr>\n      <th>3181</th>\n      <td>Resort Hotel</td>\n      <td>0</td>\n      <td>36</td>\n      <td>2015</td>\n      <td>November</td>\n      <td>47</td>\n      <td>20</td>\n      <td>1</td>\n      <td>2</td>\n      <td>0</td>\n      <td>...</td>\n      <td>No Deposit</td>\n      <td>38.0</td>\n      <td>NaN</td>\n      <td>0</td>\n      <td>Transient-Party</td>\n      <td>0.00</td>\n      <td>0</td>\n      <td>0</td>\n      <td>Check-Out</td>\n      <td>11/23/2015</td>\n    </tr>\n    <tr>\n      <th>3684</th>\n      <td>Resort Hotel</td>\n      <td>0</td>\n      <td>165</td>\n      <td>2015</td>\n      <td>December</td>\n      <td>53</td>\n      <td>30</td>\n      <td>1</td>\n      <td>4</td>\n      <td>0</td>\n      <td>...</td>\n      <td>No Deposit</td>\n      <td>308.0</td>\n      <td>NaN</td>\n      <td>122</td>\n      <td>Transient-Party</td>\n      <td>0.00</td>\n      <td>0</td>\n      <td>0</td>\n      <td>Check-Out</td>\n      <td>1/4/2016</td>\n    </tr>\n    <tr>\n      <th>3708</th>\n      <td>Resort Hotel</td>\n      <td>0</td>\n      <td>165</td>\n      <td>2015</td>\n      <td>December</td>\n      <td>53</td>\n      <td>30</td>\n      <td>2</td>\n      <td>4</td>\n      <td>0</td>\n      <td>...</td>\n      <td>No Deposit</td>\n      <td>308.0</td>\n      <td>NaN</td>\n      <td>122</td>\n      <td>Transient-Party</td>\n      <td>0.00</td>\n      <td>0</td>\n      <td>0</td>\n      <td>Check-Out</td>\n      <td>1/5/2016</td>\n    </tr>\n    <tr>\n      <th>...</th>\n      <td>...</td>\n      <td>...</td>\n      <td>...</td>\n      <td>...</td>\n      <td>...</td>\n      <td>...</td>\n      <td>...</td>\n      <td>...</td>\n      <td>...</td>\n      <td>...</td>\n      <td>...</td>\n      <td>...</td>\n      <td>...</td>\n      <td>...</td>\n      <td>...</td>\n      <td>...</td>\n      <td>...</td>\n      <td>...</td>\n      <td>...</td>\n      <td>...</td>\n      <td>...</td>\n    </tr>\n    <tr>\n      <th>115029</th>\n      <td>City Hotel</td>\n      <td>0</td>\n      <td>107</td>\n      <td>2017</td>\n      <td>June</td>\n      <td>26</td>\n      <td>27</td>\n      <td>0</td>\n      <td>3</td>\n      <td>0</td>\n      <td>...</td>\n      <td>No Deposit</td>\n      <td>7.0</td>\n      <td>NaN</td>\n      <td>0</td>\n      <td>Transient</td>\n      <td>100.80</td>\n      <td>0</td>\n      <td>0</td>\n      <td>Check-Out</td>\n      <td>6/30/2017</td>\n    </tr>\n    <tr>\n      <th>115091</th>\n      <td>City Hotel</td>\n      <td>0</td>\n      <td>1</td>\n      <td>2017</td>\n      <td>June</td>\n      <td>26</td>\n      <td>30</td>\n      <td>0</td>\n      <td>1</td>\n      <td>0</td>\n      <td>...</td>\n      <td>No Deposit</td>\n      <td>NaN</td>\n      <td>NaN</td>\n      <td>0</td>\n      <td>Transient</td>\n      <td>0.00</td>\n      <td>1</td>\n      <td>1</td>\n      <td>Check-Out</td>\n      <td>7/1/2017</td>\n    </tr>\n    <tr>\n      <th>116251</th>\n      <td>City Hotel</td>\n      <td>0</td>\n      <td>44</td>\n      <td>2017</td>\n      <td>July</td>\n      <td>28</td>\n      <td>15</td>\n      <td>1</td>\n      <td>1</td>\n      <td>0</td>\n      <td>...</td>\n      <td>No Deposit</td>\n      <td>425.0</td>\n      <td>NaN</td>\n      <td>0</td>\n      <td>Transient</td>\n      <td>73.80</td>\n      <td>0</td>\n      <td>0</td>\n      <td>Check-Out</td>\n      <td>7/17/2017</td>\n    </tr>\n    <tr>\n      <th>116534</th>\n      <td>City Hotel</td>\n      <td>0</td>\n      <td>2</td>\n      <td>2017</td>\n      <td>July</td>\n      <td>28</td>\n      <td>15</td>\n      <td>2</td>\n      <td>5</td>\n      <td>0</td>\n      <td>...</td>\n      <td>No Deposit</td>\n      <td>9.0</td>\n      <td>NaN</td>\n      <td>0</td>\n      <td>Transient-Party</td>\n      <td>22.86</td>\n      <td>0</td>\n      <td>1</td>\n      <td>Check-Out</td>\n      <td>7/22/2017</td>\n    </tr>\n    <tr>\n      <th>117087</th>\n      <td>City Hotel</td>\n      <td>0</td>\n      <td>170</td>\n      <td>2017</td>\n      <td>July</td>\n      <td>30</td>\n      <td>27</td>\n      <td>0</td>\n      <td>2</td>\n      <td>0</td>\n      <td>...</td>\n      <td>No Deposit</td>\n      <td>52.0</td>\n      <td>NaN</td>\n      <td>0</td>\n      <td>Transient</td>\n      <td>0.00</td>\n      <td>0</td>\n      <td>0</td>\n      <td>Check-Out</td>\n      <td>7/29/2017</td>\n    </tr>\n  </tbody>\n</table>\n<p>180 rows × 32 columns</p>\n</div>"
     },
     "execution_count": 5,
     "metadata": {},
     "output_type": "execute_result"
    }
   ],
   "source": [
    "conditions = (df['children'] == 0) & (df['adults'] == 0) & (df['babies'] == 0)\n",
    "df[conditions]"
   ]
  },
  {
   "cell_type": "markdown",
   "metadata": {},
   "source": [
    "### With that filter we can erase illogical rows"
   ]
  },
  {
   "cell_type": "code",
   "execution_count": 6,
   "metadata": {
    "pycharm": {
     "name": "#%%\n"
    }
   },
   "outputs": [],
   "source": [
    "data = df[conditions]"
   ]
  },
  {
   "cell_type": "markdown",
   "metadata": {},
   "source": [
    "## Spatial Analysis"
   ]
  },
  {
   "cell_type": "code",
   "execution_count": 7,
   "metadata": {
    "pycharm": {
     "name": "#%%\n"
    }
   },
   "outputs": [
    {
     "data": {
      "text/plain": "array(['Resort Hotel', 'City Hotel'], dtype=object)"
     },
     "execution_count": 7,
     "metadata": {},
     "output_type": "execute_result"
    }
   ],
   "source": [
    "data['hotel'].unique()"
   ]
  },
  {
   "cell_type": "code",
   "execution_count": 54,
   "metadata": {
    "pycharm": {
     "name": "#%%\n"
    }
   },
   "outputs": [
    {
     "data": {
      "text/plain": "<Figure size 864x576 with 1 Axes>",
      "image/png": "[encoded data removed]"
     },
     "metadata": {},
     "output_type": "display_data"
    },
    {
     "data": {
      "text/plain": "<Figure size 864x576 with 1 Axes>",
      "image/png": "[encoded data removed]"
     },
     "metadata": {},
     "output_type": "display_data"
    }
   ],
   "source": [
    "for i in data['hotel'].unique():\n",
    "    hotel = data[(data['hotel'] == i) & (data['is_canceled'] == 0)]\n",
    "    labels = hotel['country'].value_counts().index\n",
    "    values = hotel['country'].value_counts()\n",
    "    colors = sns.color_palette('bright')\n",
    "    plt.figure(figsize=(12,8))\n",
    "    plt.title('Countries per guests in {}'.format(i), fontsize=16)\n",
    "    plt.pie(values, labels = labels, colors = colors, autopct='%.0f%%')\n",
    "    plt.show()"
   ]
  },
  {
   "cell_type": "code",
   "execution_count": 9,
   "metadata": {
    "pycharm": {
     "name": "#%%\n"
    }
   },
   "outputs": [
    {
     "data": {
      "text/plain": "   Country  Number of guest\n0      PRT               94\n1      FRA               13\n2      GBR                8\n3      ESP                8\n4      ITA                5\n5      SWE                4\n6      CHE                4\n7      USA                4\n8      DEU                2\n9      RUS                2\n10     BRA                2\n11     LUX                1\n12     IRL                1\n13     IRN                1\n14     FIN                1\n15     SGP                1\n16     POL                1\n17     NLD                1\n18     SVN                1\n19     IND                1",
      "text/html": "<div>\n<style scoped>\n    .dataframe tbody tr th:only-of-type {\n        vertical-align: middle;\n    }\n\n    .dataframe tbody tr th {\n        vertical-align: top;\n    }\n\n    .dataframe thead th {\n        text-align: right;\n    }\n</style>\n<table border=\"1\" class=\"dataframe\">\n  <thead>\n    <tr style=\"text-align: right;\">\n      <th></th>\n      <th>Country</th>\n      <th>Number of guest</th>\n    </tr>\n  </thead>\n  <tbody>\n    <tr>\n      <th>0</th>\n      <td>PRT</td>\n      <td>94</td>\n    </tr>\n    <tr>\n      <th>1</th>\n      <td>FRA</td>\n      <td>13</td>\n    </tr>\n    <tr>\n      <th>2</th>\n      <td>GBR</td>\n      <td>8</td>\n    </tr>\n    <tr>\n      <th>3</th>\n      <td>ESP</td>\n      <td>8</td>\n    </tr>\n    <tr>\n      <th>4</th>\n      <td>ITA</td>\n      <td>5</td>\n    </tr>\n    <tr>\n      <th>5</th>\n      <td>SWE</td>\n      <td>4</td>\n    </tr>\n    <tr>\n      <th>6</th>\n      <td>CHE</td>\n      <td>4</td>\n    </tr>\n    <tr>\n      <th>7</th>\n      <td>USA</td>\n      <td>4</td>\n    </tr>\n    <tr>\n      <th>8</th>\n      <td>DEU</td>\n      <td>2</td>\n    </tr>\n    <tr>\n      <th>9</th>\n      <td>RUS</td>\n      <td>2</td>\n    </tr>\n    <tr>\n      <th>10</th>\n      <td>BRA</td>\n      <td>2</td>\n    </tr>\n    <tr>\n      <th>11</th>\n      <td>LUX</td>\n      <td>1</td>\n    </tr>\n    <tr>\n      <th>12</th>\n      <td>IRL</td>\n      <td>1</td>\n    </tr>\n    <tr>\n      <th>13</th>\n      <td>IRN</td>\n      <td>1</td>\n    </tr>\n    <tr>\n      <th>14</th>\n      <td>FIN</td>\n      <td>1</td>\n    </tr>\n    <tr>\n      <th>15</th>\n      <td>SGP</td>\n      <td>1</td>\n    </tr>\n    <tr>\n      <th>16</th>\n      <td>POL</td>\n      <td>1</td>\n    </tr>\n    <tr>\n      <th>17</th>\n      <td>NLD</td>\n      <td>1</td>\n    </tr>\n    <tr>\n      <th>18</th>\n      <td>SVN</td>\n      <td>1</td>\n    </tr>\n    <tr>\n      <th>19</th>\n      <td>IND</td>\n      <td>1</td>\n    </tr>\n  </tbody>\n</table>\n</div>"
     },
     "execution_count": 9,
     "metadata": {},
     "output_type": "execute_result"
    }
   ],
   "source": [
    "country_data = data[data['is_canceled'] == 0]['country'].value_counts().reset_index()\n",
    "country_data.columns = ['Country', 'Number of guest']\n",
    "country_data"
   ]
  },
  {
   "cell_type": "code",
   "execution_count": 10,
   "metadata": {
    "pycharm": {
     "name": "#%%\n"
    }
   },
   "outputs": [
    {
     "data": {
      "application/vnd.plotly.v1+json": {
       "data": [
        {
         "coloraxis": "coloraxis",
         "geo": "geo",
         "hovertemplate": "<b>%{hovertext}</b><br><br>Country=%{location}<br>Number of guest=%{z}<extra></extra>",
         "hovertext": [
          "PRT",
          "FRA",
          "GBR",
          "ESP",
          "ITA",
          "SWE",
          "CHE",
          "USA",
          "DEU",
          "RUS",
          "BRA",
          "LUX",
          "IRL",
          "IRN",
          "FIN",
          "SGP",
          "POL",
          "NLD",
          "SVN",
          "IND"
         ],
         "locations": [
          "PRT",
          "FRA",
          "GBR",
          "ESP",
          "ITA",
          "SWE",
          "CHE",
          "USA",
          "DEU",
          "RUS",
          "BRA",
          "LUX",
          "IRL",
          "IRN",
          "FIN",
          "SGP",
          "POL",
          "NLD",
          "SVN",
          "IND"
         ],
         "name": "",
         "z": [
          94,
          13,
          8,
          8,
          5,
          4,
          4,
          4,
          2,
          2,
          2,
          1,
          1,
          1,
          1,
          1,
          1,
          1,
          1,
          1
         ],
         "type": "choropleth"
        }
       ],
       "layout": {
        "template": {
         "data": {
          "bar": [
           {
            "error_x": {
             "color": "#2a3f5f"
            },
            "error_y": {
             "color": "#2a3f5f"
            },
            "marker": {
             "line": {
              "color": "#E5ECF6",
              "width": 0.5
             },
             "pattern": {
              "fillmode": "overlay",
              "size": 10,
              "solidity": 0.2
             }
            },
            "type": "bar"
           }
          ],
          "barpolar": [
           {
            "marker": {
             "line": {
              "color": "#E5ECF6",
              "width": 0.5
             },
             "pattern": {
              "fillmode": "overlay",
              "size": 10,
              "solidity": 0.2
             }
            },
            "type": "barpolar"
           }
          ],
          "carpet": [
           {
            "aaxis": {
             "endlinecolor": "#2a3f5f",
             "gridcolor": "white",
             "linecolor": "white",
             "minorgridcolor": "white",
             "startlinecolor": "#2a3f5f"
            },
            "baxis": {
             "endlinecolor": "#2a3f5f",
             "gridcolor": "white",
             "linecolor": "white",
             "minorgridcolor": "white",
             "startlinecolor": "#2a3f5f"
            },
            "type": "carpet"
           }
          ],
          "choropleth": [
           {
            "colorbar": {
             "outlinewidth": 0,
             "ticks": ""
            },
            "type": "choropleth"
           }
          ],
          "contour": [
           {
            "colorbar": {
             "outlinewidth": 0,
             "ticks": ""
            },
            "colorscale": [
             [
              0.0,
              "#0d0887"
             ],
             [
              0.1111111111111111,
              "#46039f"
             ],
             [
              0.2222222222222222,
              "#7201a8"
             ],
             [
              0.3333333333333333,
              "#9c179e"
             ],
             [
              0.4444444444444444,
              "#bd3786"
             ],
             [
              0.5555555555555556,
              "#d8576b"
             ],
             [
              0.6666666666666666,
              "#ed7953"
             ],
             [
              0.7777777777777778,
              "#fb9f3a"
             ],
             [
              0.8888888888888888,
              "#fdca26"
             ],
             [
              1.0,
              "#f0f921"
             ]
            ],
            "type": "contour"
           }
          ],
          "contourcarpet": [
           {
            "colorbar": {
             "outlinewidth": 0,
             "ticks": ""
            },
            "type": "contourcarpet"
           }
          ],
          "heatmap": [
           {
            "colorbar": {
             "outlinewidth": 0,
             "ticks": ""
            },
            "colorscale": [
             [
              0.0,
              "#0d0887"
             ],
             [
              0.1111111111111111,
              "#46039f"
             ],
             [
              0.2222222222222222,
              "#7201a8"
             ],
             [
              0.3333333333333333,
              "#9c179e"
             ],
             [
              0.4444444444444444,
              "#bd3786"
             ],
             [
              0.5555555555555556,
              "#d8576b"
             ],
             [
              0.6666666666666666,
              "#ed7953"
             ],
             [
              0.7777777777777778,
              "#fb9f3a"
             ],
             [
              0.8888888888888888,
              "#fdca26"
             ],
             [
              1.0,
              "#f0f921"
             ]
            ],
            "type": "heatmap"
           }
          ],
          "heatmapgl": [
           {
            "colorbar": {
             "outlinewidth": 0,
             "ticks": ""
            },
            "colorscale": [
             [
              0.0,
              "#0d0887"
             ],
             [
              0.1111111111111111,
              "#46039f"
             ],
             [
              0.2222222222222222,
              "#7201a8"
             ],
             [
              0.3333333333333333,
              "#9c179e"
             ],
             [
              0.4444444444444444,
              "#bd3786"
             ],
             [
              0.5555555555555556,
              "#d8576b"
             ],
             [
              0.6666666666666666,
              "#ed7953"
             ],
             [
              0.7777777777777778,
              "#fb9f3a"
             ],
             [
              0.8888888888888888,
              "#fdca26"
             ],
             [
              1.0,
              "#f0f921"
             ]
            ],
            "type": "heatmapgl"
           }
          ],
          "histogram": [
           {
            "marker": {
             "pattern": {
              "fillmode": "overlay",
              "size": 10,
              "solidity": 0.2
             }
            },
            "type": "histogram"
           }
          ],
          "histogram2d": [
           {
            "colorbar": {
             "outlinewidth": 0,
             "ticks": ""
            },
            "colorscale": [
             [
              0.0,
              "#0d0887"
             ],
             [
              0.1111111111111111,
              "#46039f"
             ],
             [
              0.2222222222222222,
              "#7201a8"
             ],
             [
              0.3333333333333333,
              "#9c179e"
             ],
             [
              0.4444444444444444,
              "#bd3786"
             ],
             [
              0.5555555555555556,
              "#d8576b"
             ],
             [
              0.6666666666666666,
              "#ed7953"
             ],
             [
              0.7777777777777778,
              "#fb9f3a"
             ],
             [
              0.8888888888888888,
              "#fdca26"
             ],
             [
              1.0,
              "#f0f921"
             ]
            ],
            "type": "histogram2d"
           }
          ],
          "histogram2dcontour": [
           {
            "colorbar": {
             "outlinewidth": 0,
             "ticks": ""
            },
            "colorscale": [
             [
              0.0,
              "#0d0887"
             ],
             [
              0.1111111111111111,
              "#46039f"
             ],
             [
              0.2222222222222222,
              "#7201a8"
             ],
             [
              0.3333333333333333,
              "#9c179e"
             ],
             [
              0.4444444444444444,
              "#bd3786"
             ],
             [
              0.5555555555555556,
              "#d8576b"
             ],
             [
              0.6666666666666666,
              "#ed7953"
             ],
             [
              0.7777777777777778,
              "#fb9f3a"
             ],
             [
              0.8888888888888888,
              "#fdca26"
             ],
             [
              1.0,
              "#f0f921"
             ]
            ],
            "type": "histogram2dcontour"
           }
          ],
          "mesh3d": [
           {
            "colorbar": {
             "outlinewidth": 0,
             "ticks": ""
            },
            "type": "mesh3d"
           }
          ],
          "parcoords": [
           {
            "line": {
             "colorbar": {
              "outlinewidth": 0,
              "ticks": ""
             }
            },
            "type": "parcoords"
           }
          ],
          "pie": [
           {
            "automargin": true,
            "type": "pie"
           }
          ],
          "scatter": [
           {
            "marker": {
             "colorbar": {
              "outlinewidth": 0,
              "ticks": ""
             }
            },
            "type": "scatter"
           }
          ],
          "scatter3d": [
           {
            "line": {
             "colorbar": {
              "outlinewidth": 0,
              "ticks": ""
             }
            },
            "marker": {
             "colorbar": {
              "outlinewidth": 0,
              "ticks": ""
             }
            },
            "type": "scatter3d"
           }
          ],
          "scattercarpet": [
           {
            "marker": {
             "colorbar": {
              "outlinewidth": 0,
              "ticks": ""
             }
            },
            "type": "scattercarpet"
           }
          ],
          "scattergeo": [
           {
            "marker": {
             "colorbar": {
              "outlinewidth": 0,
              "ticks": ""
             }
            },
            "type": "scattergeo"
           }
          ],
          "scattergl": [
           {
            "marker": {
             "colorbar": {
              "outlinewidth": 0,
              "ticks": ""
             }
            },
            "type": "scattergl"
           }
          ],
          "scattermapbox": [
           {
            "marker": {
             "colorbar": {
              "outlinewidth": 0,
              "ticks": ""
             }
            },
            "type": "scattermapbox"
           }
          ],
          "scatterpolar": [
           {
            "marker": {
             "colorbar": {
              "outlinewidth": 0,
              "ticks": ""
             }
            },
            "type": "scatterpolar"
           }
          ],
          "scatterpolargl": [
           {
            "marker": {
             "colorbar": {
              "outlinewidth": 0,
              "ticks": ""
             }
            },
            "type": "scatterpolargl"
           }
          ],
          "scatterternary": [
           {
            "marker": {
             "colorbar": {
              "outlinewidth": 0,
              "ticks": ""
             }
            },
            "type": "scatterternary"
           }
          ],
          "surface": [
           {
            "colorbar": {
             "outlinewidth": 0,
             "ticks": ""
            },
            "colorscale": [
             [
              0.0,
              "#0d0887"
             ],
             [
              0.1111111111111111,
              "#46039f"
             ],
             [
              0.2222222222222222,
              "#7201a8"
             ],
             [
              0.3333333333333333,
              "#9c179e"
             ],
             [
              0.4444444444444444,
              "#bd3786"
             ],
             [
              0.5555555555555556,
              "#d8576b"
             ],
             [
              0.6666666666666666,
              "#ed7953"
             ],
             [
              0.7777777777777778,
              "#fb9f3a"
             ],
             [
              0.8888888888888888,
              "#fdca26"
             ],
             [
              1.0,
              "#f0f921"
             ]
            ],
            "type": "surface"
           }
          ],
          "table": [
           {
            "cells": {
             "fill": {
              "color": "#EBF0F8"
             },
             "line": {
              "color": "white"
             }
            },
            "header": {
             "fill": {
              "color": "#C8D4E3"
             },
             "line": {
              "color": "white"
             }
            },
            "type": "table"
           }
          ]
         },
         "layout": {
          "annotationdefaults": {
           "arrowcolor": "#2a3f5f",
           "arrowhead": 0,
           "arrowwidth": 1
          },
          "autotypenumbers": "strict",
          "coloraxis": {
           "colorbar": {
            "outlinewidth": 0,
            "ticks": ""
           }
          },
          "colorscale": {
           "diverging": [
            [
             0,
             "#8e0152"
            ],
            [
             0.1,
             "#c51b7d"
            ],
            [
             0.2,
             "#de77ae"
            ],
            [
             0.3,
             "#f1b6da"
            ],
            [
             0.4,
             "#fde0ef"
            ],
            [
             0.5,
             "#f7f7f7"
            ],
            [
             0.6,
             "#e6f5d0"
            ],
            [
             0.7,
             "#b8e186"
            ],
            [
             0.8,
             "#7fbc41"
            ],
            [
             0.9,
             "#4d9221"
            ],
            [
             1,
             "#276419"
            ]
           ],
           "sequential": [
            [
             0.0,
             "#0d0887"
            ],
            [
             0.1111111111111111,
             "#46039f"
            ],
            [
             0.2222222222222222,
             "#7201a8"
            ],
            [
             0.3333333333333333,
             "#9c179e"
            ],
            [
             0.4444444444444444,
             "#bd3786"
            ],
            [
             0.5555555555555556,
             "#d8576b"
            ],
            [
             0.6666666666666666,
             "#ed7953"
            ],
            [
             0.7777777777777778,
             "#fb9f3a"
            ],
            [
             0.8888888888888888,
             "#fdca26"
            ],
            [
             1.0,
             "#f0f921"
            ]
           ],
           "sequentialminus": [
            [
             0.0,
             "#0d0887"
            ],
            [
             0.1111111111111111,
             "#46039f"
            ],
            [
             0.2222222222222222,
             "#7201a8"
            ],
            [
             0.3333333333333333,
             "#9c179e"
            ],
            [
             0.4444444444444444,
             "#bd3786"
            ],
            [
             0.5555555555555556,
             "#d8576b"
            ],
            [
             0.6666666666666666,
             "#ed7953"
            ],
            [
             0.7777777777777778,
             "#fb9f3a"
            ],
            [
             0.8888888888888888,
             "#fdca26"
            ],
            [
             1.0,
             "#f0f921"
            ]
           ]
          },
          "colorway": [
           "#636efa",
           "#EF553B",
           "#00cc96",
           "#ab63fa",
           "#FFA15A",
           "#19d3f3",
           "#FF6692",
           "#B6E880",
           "#FF97FF",
           "#FECB52"
          ],
          "font": {
           "color": "#2a3f5f"
          },
          "geo": {
           "bgcolor": "white",
           "lakecolor": "white",
           "landcolor": "#E5ECF6",
           "showlakes": true,
           "showland": true,
           "subunitcolor": "white"
          },
          "hoverlabel": {
           "align": "left"
          },
          "hovermode": "closest",
          "mapbox": {
           "style": "light"
          },
          "paper_bgcolor": "white",
          "plot_bgcolor": "#E5ECF6",
          "polar": {
           "angularaxis": {
            "gridcolor": "white",
            "linecolor": "white",
            "ticks": ""
           },
           "bgcolor": "#E5ECF6",
           "radialaxis": {
            "gridcolor": "white",
            "linecolor": "white",
            "ticks": ""
           }
          },
          "scene": {
           "xaxis": {
            "backgroundcolor": "#E5ECF6",
            "gridcolor": "white",
            "gridwidth": 2,
            "linecolor": "white",
            "showbackground": true,
            "ticks": "",
            "zerolinecolor": "white"
           },
           "yaxis": {
            "backgroundcolor": "#E5ECF6",
            "gridcolor": "white",
            "gridwidth": 2,
            "linecolor": "white",
            "showbackground": true,
            "ticks": "",
            "zerolinecolor": "white"
           },
           "zaxis": {
            "backgroundcolor": "#E5ECF6",
            "gridcolor": "white",
            "gridwidth": 2,
            "linecolor": "white",
            "showbackground": true,
            "ticks": "",
            "zerolinecolor": "white"
           }
          },
          "shapedefaults": {
           "line": {
            "color": "#2a3f5f"
           }
          },
          "ternary": {
           "aaxis": {
            "gridcolor": "white",
            "linecolor": "white",
            "ticks": ""
           },
           "baxis": {
            "gridcolor": "white",
            "linecolor": "white",
            "ticks": ""
           },
           "bgcolor": "#E5ECF6",
           "caxis": {
            "gridcolor": "white",
            "linecolor": "white",
            "ticks": ""
           }
          },
          "title": {
           "x": 0.05
          },
          "xaxis": {
           "automargin": true,
           "gridcolor": "white",
           "linecolor": "white",
           "ticks": "",
           "title": {
            "standoff": 15
           },
           "zerolinecolor": "white",
           "zerolinewidth": 2
          },
          "yaxis": {
           "automargin": true,
           "gridcolor": "white",
           "linecolor": "white",
           "ticks": "",
           "title": {
            "standoff": 15
           },
           "zerolinecolor": "white",
           "zerolinewidth": 2
          }
         }
        },
        "geo": {
         "domain": {
          "x": [
           0.0,
           1.0
          ],
          "y": [
           0.0,
           1.0
          ]
         },
         "center": {}
        },
        "coloraxis": {
         "colorbar": {
          "title": {
           "text": "Number of guest"
          }
         },
         "colorscale": [
          [
           0.0,
           "#0d0887"
          ],
          [
           0.1111111111111111,
           "#46039f"
          ],
          [
           0.2222222222222222,
           "#7201a8"
          ],
          [
           0.3333333333333333,
           "#9c179e"
          ],
          [
           0.4444444444444444,
           "#bd3786"
          ],
          [
           0.5555555555555556,
           "#d8576b"
          ],
          [
           0.6666666666666666,
           "#ed7953"
          ],
          [
           0.7777777777777778,
           "#fb9f3a"
          ],
          [
           0.8888888888888888,
           "#fdca26"
          ],
          [
           1.0,
           "#f0f921"
          ]
         ]
        },
        "legend": {
         "tracegroupgap": 0
        },
        "title": {
         "text": "Home country of guest"
        }
       },
       "config": {
        "plotlyServerURL": "https://plot.ly"
       }
      },
      "text/html": "<div>                            <div id=\"e18e432a-05fc-4abb-b212-af054e65c9fd\" class=\"plotly-graph-div\" style=\"height:525px; width:100%;\"></div>            <script type=\"text/javascript\">                require([\"plotly\"], function(Plotly) {                    window.PLOTLYENV=window.PLOTLYENV || {};                                    if (document.getElementById(\"e18e432a-05fc-4abb-b212-af054e65c9fd\")) {                    Plotly.newPlot(                        \"e18e432a-05fc-4abb-b212-af054e65c9fd\",                        [{\"coloraxis\":\"coloraxis\",\"geo\":\"geo\",\"hovertemplate\":\"<b>%{hovertext}</b><br><br>Country=%{location}<br>Number of guest=%{z}<extra></extra>\",\"hovertext\":[\"PRT\",\"FRA\",\"GBR\",\"ESP\",\"ITA\",\"SWE\",\"CHE\",\"USA\",\"DEU\",\"RUS\",\"BRA\",\"LUX\",\"IRL\",\"IRN\",\"FIN\",\"SGP\",\"POL\",\"NLD\",\"SVN\",\"IND\"],\"locations\":[\"PRT\",\"FRA\",\"GBR\",\"ESP\",\"ITA\",\"SWE\",\"CHE\",\"USA\",\"DEU\",\"RUS\",\"BRA\",\"LUX\",\"IRL\",\"IRN\",\"FIN\",\"SGP\",\"POL\",\"NLD\",\"SVN\",\"IND\"],\"name\":\"\",\"z\":[94,13,8,8,5,4,4,4,2,2,2,1,1,1,1,1,1,1,1,1],\"type\":\"choropleth\"}],                        {\"template\":{\"data\":{\"bar\":[{\"error_x\":{\"color\":\"#2a3f5f\"},\"error_y\":{\"color\":\"#2a3f5f\"},\"marker\":{\"line\":{\"color\":\"#E5ECF6\",\"width\":0.5},\"pattern\":{\"fillmode\":\"overlay\",\"size\":10,\"solidity\":0.2}},\"type\":\"bar\"}],\"barpolar\":[{\"marker\":{\"line\":{\"color\":\"#E5ECF6\",\"width\":0.5},\"pattern\":{\"fillmode\":\"overlay\",\"size\":10,\"solidity\":0.2}},\"type\":\"barpolar\"}],\"carpet\":[{\"aaxis\":{\"endlinecolor\":\"#2a3f5f\",\"gridcolor\":\"white\",\"linecolor\":\"white\",\"minorgridcolor\":\"white\",\"startlinecolor\":\"#2a3f5f\"},\"baxis\":{\"endlinecolor\":\"#2a3f5f\",\"gridcolor\":\"white\",\"linecolor\":\"white\",\"minorgridcolor\":\"white\",\"startlinecolor\":\"#2a3f5f\"},\"type\":\"carpet\"}],\"choropleth\":[{\"colorbar\":{\"outlinewidth\":0,\"ticks\":\"\"},\"type\":\"choropleth\"}],\"contour\":[{\"colorbar\":{\"outlinewidth\":0,\"ticks\":\"\"},\"colorscale\":[[0.0,\"#0d0887\"],[0.1111111111111111,\"#46039f\"],[0.2222222222222222,\"#7201a8\"],[0.3333333333333333,\"#9c179e\"],[0.4444444444444444,\"#bd3786\"],[0.5555555555555556,\"#d8576b\"],[0.6666666666666666,\"#ed7953\"],[0.7777777777777778,\"#fb9f3a\"],[0.8888888888888888,\"#fdca26\"],[1.0,\"#f0f921\"]],\"type\":\"contour\"}],\"contourcarpet\":[{\"colorbar\":{\"outlinewidth\":0,\"ticks\":\"\"},\"type\":\"contourcarpet\"}],\"heatmap\":[{\"colorbar\":{\"outlinewidth\":0,\"ticks\":\"\"},\"colorscale\":[[0.0,\"#0d0887\"],[0.1111111111111111,\"#46039f\"],[0.2222222222222222,\"#7201a8\"],[0.3333333333333333,\"#9c179e\"],[0.4444444444444444,\"#bd3786\"],[0.5555555555555556,\"#d8576b\"],[0.6666666666666666,\"#ed7953\"],[0.7777777777777778,\"#fb9f3a\"],[0.8888888888888888,\"#fdca26\"],[1.0,\"#f0f921\"]],\"type\":\"heatmap\"}],\"heatmapgl\":[{\"colorbar\":{\"outlinewidth\":0,\"ticks\":\"\"},\"colorscale\":[[0.0,\"#0d0887\"],[0.1111111111111111,\"#46039f\"],[0.2222222222222222,\"#7201a8\"],[0.3333333333333333,\"#9c179e\"],[0.4444444444444444,\"#bd3786\"],[0.5555555555555556,\"#d8576b\"],[0.6666666666666666,\"#ed7953\"],[0.7777777777777778,\"#fb9f3a\"],[0.8888888888888888,\"#fdca26\"],[1.0,\"#f0f921\"]],\"type\":\"heatmapgl\"}],\"histogram\":[{\"marker\":{\"pattern\":{\"fillmode\":\"overlay\",\"size\":10,\"solidity\":0.2}},\"type\":\"histogram\"}],\"histogram2d\":[{\"colorbar\":{\"outlinewidth\":0,\"ticks\":\"\"},\"colorscale\":[[0.0,\"#0d0887\"],[0.1111111111111111,\"#46039f\"],[0.2222222222222222,\"#7201a8\"],[0.3333333333333333,\"#9c179e\"],[0.4444444444444444,\"#bd3786\"],[0.5555555555555556,\"#d8576b\"],[0.6666666666666666,\"#ed7953\"],[0.7777777777777778,\"#fb9f3a\"],[0.8888888888888888,\"#fdca26\"],[1.0,\"#f0f921\"]],\"type\":\"histogram2d\"}],\"histogram2dcontour\":[{\"colorbar\":{\"outlinewidth\":0,\"ticks\":\"\"},\"colorscale\":[[0.0,\"#0d0887\"],[0.1111111111111111,\"#46039f\"],[0.2222222222222222,\"#7201a8\"],[0.3333333333333333,\"#9c179e\"],[0.4444444444444444,\"#bd3786\"],[0.5555555555555556,\"#d8576b\"],[0.6666666666666666,\"#ed7953\"],[0.7777777777777778,\"#fb9f3a\"],[0.8888888888888888,\"#fdca26\"],[1.0,\"#f0f921\"]],\"type\":\"histogram2dcontour\"}],\"mesh3d\":[{\"colorbar\":{\"outlinewidth\":0,\"ticks\":\"\"},\"type\":\"mesh3d\"}],\"parcoords\":[{\"line\":{\"colorbar\":{\"outlinewidth\":0,\"ticks\":\"\"}},\"type\":\"parcoords\"}],\"pie\":[{\"automargin\":true,\"type\":\"pie\"}],\"scatter\":[{\"marker\":{\"colorbar\":{\"outlinewidth\":0,\"ticks\":\"\"}},\"type\":\"scatter\"}],\"scatter3d\":[{\"line\":{\"colorbar\":{\"outlinewidth\":0,\"ticks\":\"\"}},\"marker\":{\"colorbar\":{\"outlinewidth\":0,\"ticks\":\"\"}},\"type\":\"scatter3d\"}],\"scattercarpet\":[{\"marker\":{\"colorbar\":{\"outlinewidth\":0,\"ticks\":\"\"}},\"type\":\"scattercarpet\"}],\"scattergeo\":[{\"marker\":{\"colorbar\":{\"outlinewidth\":0,\"ticks\":\"\"}},\"type\":\"scattergeo\"}],\"scattergl\":[{\"marker\":{\"colorbar\":{\"outlinewidth\":0,\"ticks\":\"\"}},\"type\":\"scattergl\"}],\"scattermapbox\":[{\"marker\":{\"colorbar\":{\"outlinewidth\":0,\"ticks\":\"\"}},\"type\":\"scattermapbox\"}],\"scatterpolar\":[{\"marker\":{\"colorbar\":{\"outlinewidth\":0,\"ticks\":\"\"}},\"type\":\"scatterpolar\"}],\"scatterpolargl\":[{\"marker\":{\"colorbar\":{\"outlinewidth\":0,\"ticks\":\"\"}},\"type\":\"scatterpolargl\"}],\"scatterternary\":[{\"marker\":{\"colorbar\":{\"outlinewidth\":0,\"ticks\":\"\"}},\"type\":\"scatterternary\"}],\"surface\":[{\"colorbar\":{\"outlinewidth\":0,\"ticks\":\"\"},\"colorscale\":[[0.0,\"#0d0887\"],[0.1111111111111111,\"#46039f\"],[0.2222222222222222,\"#7201a8\"],[0.3333333333333333,\"#9c179e\"],[0.4444444444444444,\"#bd3786\"],[0.5555555555555556,\"#d8576b\"],[0.6666666666666666,\"#ed7953\"],[0.7777777777777778,\"#fb9f3a\"],[0.8888888888888888,\"#fdca26\"],[1.0,\"#f0f921\"]],\"type\":\"surface\"}],\"table\":[{\"cells\":{\"fill\":{\"color\":\"#EBF0F8\"},\"line\":{\"color\":\"white\"}},\"header\":{\"fill\":{\"color\":\"#C8D4E3\"},\"line\":{\"color\":\"white\"}},\"type\":\"table\"}]},\"layout\":{\"annotationdefaults\":{\"arrowcolor\":\"#2a3f5f\",\"arrowhead\":0,\"arrowwidth\":1},\"autotypenumbers\":\"strict\",\"coloraxis\":{\"colorbar\":{\"outlinewidth\":0,\"ticks\":\"\"}},\"colorscale\":{\"diverging\":[[0,\"#8e0152\"],[0.1,\"#c51b7d\"],[0.2,\"#de77ae\"],[0.3,\"#f1b6da\"],[0.4,\"#fde0ef\"],[0.5,\"#f7f7f7\"],[0.6,\"#e6f5d0\"],[0.7,\"#b8e186\"],[0.8,\"#7fbc41\"],[0.9,\"#4d9221\"],[1,\"#276419\"]],\"sequential\":[[0.0,\"#0d0887\"],[0.1111111111111111,\"#46039f\"],[0.2222222222222222,\"#7201a8\"],[0.3333333333333333,\"#9c179e\"],[0.4444444444444444,\"#bd3786\"],[0.5555555555555556,\"#d8576b\"],[0.6666666666666666,\"#ed7953\"],[0.7777777777777778,\"#fb9f3a\"],[0.8888888888888888,\"#fdca26\"],[1.0,\"#f0f921\"]],\"sequentialminus\":[[0.0,\"#0d0887\"],[0.1111111111111111,\"#46039f\"],[0.2222222222222222,\"#7201a8\"],[0.3333333333333333,\"#9c179e\"],[0.4444444444444444,\"#bd3786\"],[0.5555555555555556,\"#d8576b\"],[0.6666666666666666,\"#ed7953\"],[0.7777777777777778,\"#fb9f3a\"],[0.8888888888888888,\"#fdca26\"],[1.0,\"#f0f921\"]]},\"colorway\":[\"#636efa\",\"#EF553B\",\"#00cc96\",\"#ab63fa\",\"#FFA15A\",\"#19d3f3\",\"#FF6692\",\"#B6E880\",\"#FF97FF\",\"#FECB52\"],\"font\":{\"color\":\"#2a3f5f\"},\"geo\":{\"bgcolor\":\"white\",\"lakecolor\":\"white\",\"landcolor\":\"#E5ECF6\",\"showlakes\":true,\"showland\":true,\"subunitcolor\":\"white\"},\"hoverlabel\":{\"align\":\"left\"},\"hovermode\":\"closest\",\"mapbox\":{\"style\":\"light\"},\"paper_bgcolor\":\"white\",\"plot_bgcolor\":\"#E5ECF6\",\"polar\":{\"angularaxis\":{\"gridcolor\":\"white\",\"linecolor\":\"white\",\"ticks\":\"\"},\"bgcolor\":\"#E5ECF6\",\"radialaxis\":{\"gridcolor\":\"white\",\"linecolor\":\"white\",\"ticks\":\"\"}},\"scene\":{\"xaxis\":{\"backgroundcolor\":\"#E5ECF6\",\"gridcolor\":\"white\",\"gridwidth\":2,\"linecolor\":\"white\",\"showbackground\":true,\"ticks\":\"\",\"zerolinecolor\":\"white\"},\"yaxis\":{\"backgroundcolor\":\"#E5ECF6\",\"gridcolor\":\"white\",\"gridwidth\":2,\"linecolor\":\"white\",\"showbackground\":true,\"ticks\":\"\",\"zerolinecolor\":\"white\"},\"zaxis\":{\"backgroundcolor\":\"#E5ECF6\",\"gridcolor\":\"white\",\"gridwidth\":2,\"linecolor\":\"white\",\"showbackground\":true,\"ticks\":\"\",\"zerolinecolor\":\"white\"}},\"shapedefaults\":{\"line\":{\"color\":\"#2a3f5f\"}},\"ternary\":{\"aaxis\":{\"gridcolor\":\"white\",\"linecolor\":\"white\",\"ticks\":\"\"},\"baxis\":{\"gridcolor\":\"white\",\"linecolor\":\"white\",\"ticks\":\"\"},\"bgcolor\":\"#E5ECF6\",\"caxis\":{\"gridcolor\":\"white\",\"linecolor\":\"white\",\"ticks\":\"\"}},\"title\":{\"x\":0.05},\"xaxis\":{\"automargin\":true,\"gridcolor\":\"white\",\"linecolor\":\"white\",\"ticks\":\"\",\"title\":{\"standoff\":15},\"zerolinecolor\":\"white\",\"zerolinewidth\":2},\"yaxis\":{\"automargin\":true,\"gridcolor\":\"white\",\"linecolor\":\"white\",\"ticks\":\"\",\"title\":{\"standoff\":15},\"zerolinecolor\":\"white\",\"zerolinewidth\":2}}},\"geo\":{\"domain\":{\"x\":[0.0,1.0],\"y\":[0.0,1.0]},\"center\":{}},\"coloraxis\":{\"colorbar\":{\"title\":{\"text\":\"Number of guest\"}},\"colorscale\":[[0.0,\"#0d0887\"],[0.1111111111111111,\"#46039f\"],[0.2222222222222222,\"#7201a8\"],[0.3333333333333333,\"#9c179e\"],[0.4444444444444444,\"#bd3786\"],[0.5555555555555556,\"#d8576b\"],[0.6666666666666666,\"#ed7953\"],[0.7777777777777778,\"#fb9f3a\"],[0.8888888888888888,\"#fdca26\"],[1.0,\"#f0f921\"]]},\"legend\":{\"tracegroupgap\":0},\"title\":{\"text\":\"Home country of guest\"}},                        {\"responsive\": true}                    ).then(function(){\n                            \nvar gd = document.getElementById('e18e432a-05fc-4abb-b212-af054e65c9fd');\nvar x = new MutationObserver(function (mutations, observer) {{\n        var display = window.getComputedStyle(gd).display;\n        if (!display || display === 'none') {{\n            console.log([gd, 'removed!']);\n            Plotly.purge(gd);\n            observer.disconnect();\n        }}\n}});\n\n// Listen for the removal of the full notebook cells\nvar notebookContainer = gd.closest('#notebook-container');\nif (notebookContainer) {{\n    x.observe(notebookContainer, {childList: true});\n}}\n\n// Listen for the clearing of the current output cell\nvar outputEl = gd.closest('.output');\nif (outputEl) {{\n    x.observe(outputEl, {childList: true});\n}}\n\n                        })                };                });            </script>        </div>"
     },
     "metadata": {},
     "output_type": "display_data"
    }
   ],
   "source": [
    "px.choropleth(country_data, locations=country_data['Country'], color=country_data['Number of guest'],\n",
    "              hover_name=country_data['Country'], title='Home country of guest')"
   ]
  },
  {
   "cell_type": "markdown",
   "metadata": {},
   "source": [
    "## Booking price analysis"
   ]
  },
  {
   "cell_type": "code",
   "execution_count": 11,
   "metadata": {
    "pycharm": {
     "name": "#%%\n"
    }
   },
   "outputs": [
    {
     "data": {
      "text/plain": "          hotel  is_canceled  lead_time  arrival_date_year arrival_date_month  \\\n0  Resort Hotel            0        342               2015               July   \n1  Resort Hotel            0        737               2015               July   \n2  Resort Hotel            0          7               2015               July   \n3  Resort Hotel            0         13               2015               July   \n4  Resort Hotel            0         14               2015               July   \n\n   arrival_date_week_number  arrival_date_day_of_month  \\\n0                        27                          1   \n1                        27                          1   \n2                        27                          1   \n3                        27                          1   \n4                        27                          1   \n\n   stays_in_weekend_nights  stays_in_week_nights  adults  ...  deposit_type  \\\n0                        0                     0       2  ...    No Deposit   \n1                        0                     0       2  ...    No Deposit   \n2                        0                     1       1  ...    No Deposit   \n3                        0                     1       1  ...    No Deposit   \n4                        0                     2       2  ...    No Deposit   \n\n   agent company days_in_waiting_list customer_type   adr  \\\n0    NaN     NaN                    0     Transient   0.0   \n1    NaN     NaN                    0     Transient   0.0   \n2    NaN     NaN                    0     Transient  75.0   \n3  304.0     NaN                    0     Transient  75.0   \n4  240.0     NaN                    0     Transient  98.0   \n\n   required_car_parking_spaces  total_of_special_requests  reservation_status  \\\n0                            0                          0           Check-Out   \n1                            0                          0           Check-Out   \n2                            0                          0           Check-Out   \n3                            0                          0           Check-Out   \n4                            0                          1           Check-Out   \n\n  reservation_status_date  \n0                7/1/2015  \n1                7/1/2015  \n2                7/2/2015  \n3                7/2/2015  \n4                7/3/2015  \n\n[5 rows x 32 columns]",
      "text/html": "<div>\n<style scoped>\n    .dataframe tbody tr th:only-of-type {\n        vertical-align: middle;\n    }\n\n    .dataframe tbody tr th {\n        vertical-align: top;\n    }\n\n    .dataframe thead th {\n        text-align: right;\n    }\n</style>\n<table border=\"1\" class=\"dataframe\">\n  <thead>\n    <tr style=\"text-align: right;\">\n      <th></th>\n      <th>hotel</th>\n      <th>is_canceled</th>\n      <th>lead_time</th>\n      <th>arrival_date_year</th>\n      <th>arrival_date_month</th>\n      <th>arrival_date_week_number</th>\n      <th>arrival_date_day_of_month</th>\n      <th>stays_in_weekend_nights</th>\n      <th>stays_in_week_nights</th>\n      <th>adults</th>\n      <th>...</th>\n      <th>deposit_type</th>\n      <th>agent</th>\n      <th>company</th>\n      <th>days_in_waiting_list</th>\n      <th>customer_type</th>\n      <th>adr</th>\n      <th>required_car_parking_spaces</th>\n      <th>total_of_special_requests</th>\n      <th>reservation_status</th>\n      <th>reservation_status_date</th>\n    </tr>\n  </thead>\n  <tbody>\n    <tr>\n      <th>0</th>\n      <td>Resort Hotel</td>\n      <td>0</td>\n      <td>342</td>\n      <td>2015</td>\n      <td>July</td>\n      <td>27</td>\n      <td>1</td>\n      <td>0</td>\n      <td>0</td>\n      <td>2</td>\n      <td>...</td>\n      <td>No Deposit</td>\n      <td>NaN</td>\n      <td>NaN</td>\n      <td>0</td>\n      <td>Transient</td>\n      <td>0.0</td>\n      <td>0</td>\n      <td>0</td>\n      <td>Check-Out</td>\n      <td>7/1/2015</td>\n    </tr>\n    <tr>\n      <th>1</th>\n      <td>Resort Hotel</td>\n      <td>0</td>\n      <td>737</td>\n      <td>2015</td>\n      <td>July</td>\n      <td>27</td>\n      <td>1</td>\n      <td>0</td>\n      <td>0</td>\n      <td>2</td>\n      <td>...</td>\n      <td>No Deposit</td>\n      <td>NaN</td>\n      <td>NaN</td>\n      <td>0</td>\n      <td>Transient</td>\n      <td>0.0</td>\n      <td>0</td>\n      <td>0</td>\n      <td>Check-Out</td>\n      <td>7/1/2015</td>\n    </tr>\n    <tr>\n      <th>2</th>\n      <td>Resort Hotel</td>\n      <td>0</td>\n      <td>7</td>\n      <td>2015</td>\n      <td>July</td>\n      <td>27</td>\n      <td>1</td>\n      <td>0</td>\n      <td>1</td>\n      <td>1</td>\n      <td>...</td>\n      <td>No Deposit</td>\n      <td>NaN</td>\n      <td>NaN</td>\n      <td>0</td>\n      <td>Transient</td>\n      <td>75.0</td>\n      <td>0</td>\n      <td>0</td>\n      <td>Check-Out</td>\n      <td>7/2/2015</td>\n    </tr>\n    <tr>\n      <th>3</th>\n      <td>Resort Hotel</td>\n      <td>0</td>\n      <td>13</td>\n      <td>2015</td>\n      <td>July</td>\n      <td>27</td>\n      <td>1</td>\n      <td>0</td>\n      <td>1</td>\n      <td>1</td>\n      <td>...</td>\n      <td>No Deposit</td>\n      <td>304.0</td>\n      <td>NaN</td>\n      <td>0</td>\n      <td>Transient</td>\n      <td>75.0</td>\n      <td>0</td>\n      <td>0</td>\n      <td>Check-Out</td>\n      <td>7/2/2015</td>\n    </tr>\n    <tr>\n      <th>4</th>\n      <td>Resort Hotel</td>\n      <td>0</td>\n      <td>14</td>\n      <td>2015</td>\n      <td>July</td>\n      <td>27</td>\n      <td>1</td>\n      <td>0</td>\n      <td>2</td>\n      <td>2</td>\n      <td>...</td>\n      <td>No Deposit</td>\n      <td>240.0</td>\n      <td>NaN</td>\n      <td>0</td>\n      <td>Transient</td>\n      <td>98.0</td>\n      <td>0</td>\n      <td>1</td>\n      <td>Check-Out</td>\n      <td>7/3/2015</td>\n    </tr>\n  </tbody>\n</table>\n<p>5 rows × 32 columns</p>\n</div>"
     },
     "execution_count": 11,
     "metadata": {},
     "output_type": "execute_result"
    }
   ],
   "source": [
    "data_process = df[df['is_canceled'] == 0]\n",
    "data_process.head()"
   ]
  },
  {
   "cell_type": "code",
   "execution_count": 12,
   "metadata": {
    "pycharm": {
     "name": "#%%\n"
    }
   },
   "outputs": [
    {
     "data": {
      "text/plain": "<Figure size 864x576 with 1 Axes>",
      "image/png": "[encoded data removed]"
     },
     "metadata": {
      "needs_background": "light"
     },
     "output_type": "display_data"
    }
   ],
   "source": [
    "plt.figure(figsize=(12,8))\n",
    "sns.boxplot(data=data_process, x='reserved_room_type', y='adr', hue='hotel')\n",
    "plt.title('Price of room types per night and per person', fontsize=16)\n",
    "plt.xlabel('Room type')\n",
    "plt.ylabel('Price')\n",
    "plt.show()"
   ]
  },
  {
   "cell_type": "code",
   "execution_count": 13,
   "metadata": {
    "pycharm": {
     "name": "#%%\n"
    }
   },
   "outputs": [],
   "source": [
    "resort = df[(df['hotel'] == 'Resort Hotel') & (df['is_canceled'] == 0)]\n",
    "city = df[(df['hotel'] == 'City Hotel') & (df['is_canceled'] == 0)]"
   ]
  },
  {
   "cell_type": "code",
   "execution_count": 14,
   "metadata": {
    "pycharm": {
     "name": "#%%\n"
    }
   },
   "outputs": [],
   "source": [
    "resort_price_data = resort.groupby('arrival_date_month')['adr'].mean().reset_index()\n",
    "city_price_data = city.groupby('arrival_date_month')['adr'].mean().reset_index()"
   ]
  },
  {
   "cell_type": "code",
   "execution_count": 61,
   "metadata": {
    "pycharm": {
     "name": "#%%\n"
    }
   },
   "outputs": [
    {
     "data": {
      "text/plain": "        month  price for resort  price for city\n0       April        111.856824       75.867816\n1      August        118.412083      181.205892\n2    December         87.856764       68.322236\n3    February         86.183025       54.147478\n4     January         82.160634       48.708919\n5        July        115.563810      150.122528\n6        June        117.702075      107.921869\n7       March         90.170722       57.012487\n8         May        120.445842       76.657558\n9    November         86.500456       48.681640\n10    October        101.745956       61.727505\n11  September        112.598452       96.416860",
      "text/html": "<div>\n<style scoped>\n    .dataframe tbody tr th:only-of-type {\n        vertical-align: middle;\n    }\n\n    .dataframe tbody tr th {\n        vertical-align: top;\n    }\n\n    .dataframe thead th {\n        text-align: right;\n    }\n</style>\n<table border=\"1\" class=\"dataframe\">\n  <thead>\n    <tr style=\"text-align: right;\">\n      <th></th>\n      <th>month</th>\n      <th>price for resort</th>\n      <th>price for city</th>\n    </tr>\n  </thead>\n  <tbody>\n    <tr>\n      <th>0</th>\n      <td>April</td>\n      <td>111.856824</td>\n      <td>75.867816</td>\n    </tr>\n    <tr>\n      <th>1</th>\n      <td>August</td>\n      <td>118.412083</td>\n      <td>181.205892</td>\n    </tr>\n    <tr>\n      <th>2</th>\n      <td>December</td>\n      <td>87.856764</td>\n      <td>68.322236</td>\n    </tr>\n    <tr>\n      <th>3</th>\n      <td>February</td>\n      <td>86.183025</td>\n      <td>54.147478</td>\n    </tr>\n    <tr>\n      <th>4</th>\n      <td>January</td>\n      <td>82.160634</td>\n      <td>48.708919</td>\n    </tr>\n    <tr>\n      <th>5</th>\n      <td>July</td>\n      <td>115.563810</td>\n      <td>150.122528</td>\n    </tr>\n    <tr>\n      <th>6</th>\n      <td>June</td>\n      <td>117.702075</td>\n      <td>107.921869</td>\n    </tr>\n    <tr>\n      <th>7</th>\n      <td>March</td>\n      <td>90.170722</td>\n      <td>57.012487</td>\n    </tr>\n    <tr>\n      <th>8</th>\n      <td>May</td>\n      <td>120.445842</td>\n      <td>76.657558</td>\n    </tr>\n    <tr>\n      <th>9</th>\n      <td>November</td>\n      <td>86.500456</td>\n      <td>48.681640</td>\n    </tr>\n    <tr>\n      <th>10</th>\n      <td>October</td>\n      <td>101.745956</td>\n      <td>61.727505</td>\n    </tr>\n    <tr>\n      <th>11</th>\n      <td>September</td>\n      <td>112.598452</td>\n      <td>96.416860</td>\n    </tr>\n  </tbody>\n</table>\n</div>"
     },
     "execution_count": 61,
     "metadata": {},
     "output_type": "execute_result"
    }
   ],
   "source": [
    "final = city_price_data.merge(resort_price_data, on='arrival_date_month')\n",
    "final.columns = ['month', 'price for resort', 'price for city']\n",
    "final"
   ]
  },
  {
   "cell_type": "code",
   "execution_count": 62,
   "metadata": {
    "pycharm": {
     "name": "#%%\n"
    }
   },
   "outputs": [
    {
     "data": {
      "text/plain": "        month  price for resort  price for city\n0     January         82.160634       48.708919\n1    February         86.183025       54.147478\n2       March         90.170722       57.012487\n3       April        111.856824       75.867816\n4         May        120.445842       76.657558\n5        June        117.702075      107.921869\n6        July        115.563810      150.122528\n7      August        118.412083      181.205892\n8   September        112.598452       96.416860\n9     October        101.745956       61.727505\n10   November         86.500456       48.681640\n11   December         87.856764       68.322236",
      "text/html": "<div>\n<style scoped>\n    .dataframe tbody tr th:only-of-type {\n        vertical-align: middle;\n    }\n\n    .dataframe tbody tr th {\n        vertical-align: top;\n    }\n\n    .dataframe thead th {\n        text-align: right;\n    }\n</style>\n<table border=\"1\" class=\"dataframe\">\n  <thead>\n    <tr style=\"text-align: right;\">\n      <th></th>\n      <th>month</th>\n      <th>price for resort</th>\n      <th>price for city</th>\n    </tr>\n  </thead>\n  <tbody>\n    <tr>\n      <th>0</th>\n      <td>January</td>\n      <td>82.160634</td>\n      <td>48.708919</td>\n    </tr>\n    <tr>\n      <th>1</th>\n      <td>February</td>\n      <td>86.183025</td>\n      <td>54.147478</td>\n    </tr>\n    <tr>\n      <th>2</th>\n      <td>March</td>\n      <td>90.170722</td>\n      <td>57.012487</td>\n    </tr>\n    <tr>\n      <th>3</th>\n      <td>April</td>\n      <td>111.856824</td>\n      <td>75.867816</td>\n    </tr>\n    <tr>\n      <th>4</th>\n      <td>May</td>\n      <td>120.445842</td>\n      <td>76.657558</td>\n    </tr>\n    <tr>\n      <th>5</th>\n      <td>June</td>\n      <td>117.702075</td>\n      <td>107.921869</td>\n    </tr>\n    <tr>\n      <th>6</th>\n      <td>July</td>\n      <td>115.563810</td>\n      <td>150.122528</td>\n    </tr>\n    <tr>\n      <th>7</th>\n      <td>August</td>\n      <td>118.412083</td>\n      <td>181.205892</td>\n    </tr>\n    <tr>\n      <th>8</th>\n      <td>September</td>\n      <td>112.598452</td>\n      <td>96.416860</td>\n    </tr>\n    <tr>\n      <th>9</th>\n      <td>October</td>\n      <td>101.745956</td>\n      <td>61.727505</td>\n    </tr>\n    <tr>\n      <th>10</th>\n      <td>November</td>\n      <td>86.500456</td>\n      <td>48.681640</td>\n    </tr>\n    <tr>\n      <th>11</th>\n      <td>December</td>\n      <td>87.856764</td>\n      <td>68.322236</td>\n    </tr>\n  </tbody>\n</table>\n</div>"
     },
     "execution_count": 62,
     "metadata": {},
     "output_type": "execute_result"
    }
   ],
   "source": [
    "final = sd.Sort_Dataframeby_Month(final, 'month')\n",
    "final"
   ]
  },
  {
   "cell_type": "code",
   "execution_count": 64,
   "outputs": [
    {
     "data": {
      "text/plain": "<Figure size 864x576 with 1 Axes>",
      "image/png": "[encoded data removed]"
     },
     "metadata": {
      "needs_background": "light"
     },
     "output_type": "display_data"
    },
    {
     "data": {
      "text/plain": "<Figure size 864x576 with 1 Axes>",
      "image/png": "[encoded data removed]"
     },
     "metadata": {
      "needs_background": "light"
     },
     "output_type": "display_data"
    }
   ],
   "source": [
    "plt.figure(figsize=(12,8))\n",
    "sns.lineplot(x = \"month\", y = 'price for resort', data = final)\n",
    "plt.show()\n",
    "plt.figure(figsize=(12,8))\n",
    "sns.lineplot(x = \"month\", y = 'price for city', data = final)\n",
    "plt.show()"
   ],
   "metadata": {
    "collapsed": false,
    "pycharm": {
     "name": "#%%\n"
    }
   }
  },
  {
   "cell_type": "markdown",
   "source": [
    "## Analysing Preference of Guests"
   ],
   "metadata": {
    "collapsed": false
   }
  },
  {
   "cell_type": "code",
   "execution_count": 18,
   "outputs": [
    {
     "data": {
      "text/plain": "             hotel  is_canceled  lead_time  arrival_date_year  \\\n2224  Resort Hotel            0          1               2015   \n2409  Resort Hotel            0          0               2015   \n3181  Resort Hotel            0         36               2015   \n3684  Resort Hotel            0        165               2015   \n3708  Resort Hotel            0        165               2015   \n\n     arrival_date_month  arrival_date_week_number  arrival_date_day_of_month  \\\n2224            October                        41                          6   \n2409            October                        42                         12   \n3181           November                        47                         20   \n3684           December                        53                         30   \n3708           December                        53                         30   \n\n      stays_in_weekend_nights  stays_in_week_nights  adults  ...  \\\n2224                        0                     3       0  ...   \n2409                        0                     0       0  ...   \n3181                        1                     2       0  ...   \n3684                        1                     4       0  ...   \n3708                        2                     4       0  ...   \n\n      deposit_type  agent company days_in_waiting_list    customer_type  adr  \\\n2224    No Deposit    NaN   174.0                    0  Transient-Party  0.0   \n2409    No Deposit    NaN   174.0                    0        Transient  0.0   \n3181    No Deposit   38.0     NaN                    0  Transient-Party  0.0   \n3684    No Deposit  308.0     NaN                  122  Transient-Party  0.0   \n3708    No Deposit  308.0     NaN                  122  Transient-Party  0.0   \n\n      required_car_parking_spaces  total_of_special_requests  \\\n2224                            0                          0   \n2409                            0                          0   \n3181                            0                          0   \n3684                            0                          0   \n3708                            0                          0   \n\n      reservation_status reservation_status_date  \n2224           Check-Out               10/6/2015  \n2409           Check-Out              10/12/2015  \n3181           Check-Out              11/23/2015  \n3684           Check-Out                1/4/2016  \n3708           Check-Out                1/5/2016  \n\n[5 rows x 32 columns]",
      "text/html": "<div>\n<style scoped>\n    .dataframe tbody tr th:only-of-type {\n        vertical-align: middle;\n    }\n\n    .dataframe tbody tr th {\n        vertical-align: top;\n    }\n\n    .dataframe thead th {\n        text-align: right;\n    }\n</style>\n<table border=\"1\" class=\"dataframe\">\n  <thead>\n    <tr style=\"text-align: right;\">\n      <th></th>\n      <th>hotel</th>\n      <th>is_canceled</th>\n      <th>lead_time</th>\n      <th>arrival_date_year</th>\n      <th>arrival_date_month</th>\n      <th>arrival_date_week_number</th>\n      <th>arrival_date_day_of_month</th>\n      <th>stays_in_weekend_nights</th>\n      <th>stays_in_week_nights</th>\n      <th>adults</th>\n      <th>...</th>\n      <th>deposit_type</th>\n      <th>agent</th>\n      <th>company</th>\n      <th>days_in_waiting_list</th>\n      <th>customer_type</th>\n      <th>adr</th>\n      <th>required_car_parking_spaces</th>\n      <th>total_of_special_requests</th>\n      <th>reservation_status</th>\n      <th>reservation_status_date</th>\n    </tr>\n  </thead>\n  <tbody>\n    <tr>\n      <th>2224</th>\n      <td>Resort Hotel</td>\n      <td>0</td>\n      <td>1</td>\n      <td>2015</td>\n      <td>October</td>\n      <td>41</td>\n      <td>6</td>\n      <td>0</td>\n      <td>3</td>\n      <td>0</td>\n      <td>...</td>\n      <td>No Deposit</td>\n      <td>NaN</td>\n      <td>174.0</td>\n      <td>0</td>\n      <td>Transient-Party</td>\n      <td>0.0</td>\n      <td>0</td>\n      <td>0</td>\n      <td>Check-Out</td>\n      <td>10/6/2015</td>\n    </tr>\n    <tr>\n      <th>2409</th>\n      <td>Resort Hotel</td>\n      <td>0</td>\n      <td>0</td>\n      <td>2015</td>\n      <td>October</td>\n      <td>42</td>\n      <td>12</td>\n      <td>0</td>\n      <td>0</td>\n      <td>0</td>\n      <td>...</td>\n      <td>No Deposit</td>\n      <td>NaN</td>\n      <td>174.0</td>\n      <td>0</td>\n      <td>Transient</td>\n      <td>0.0</td>\n      <td>0</td>\n      <td>0</td>\n      <td>Check-Out</td>\n      <td>10/12/2015</td>\n    </tr>\n    <tr>\n      <th>3181</th>\n      <td>Resort Hotel</td>\n      <td>0</td>\n      <td>36</td>\n      <td>2015</td>\n      <td>November</td>\n      <td>47</td>\n      <td>20</td>\n      <td>1</td>\n      <td>2</td>\n      <td>0</td>\n      <td>...</td>\n      <td>No Deposit</td>\n      <td>38.0</td>\n      <td>NaN</td>\n      <td>0</td>\n      <td>Transient-Party</td>\n      <td>0.0</td>\n      <td>0</td>\n      <td>0</td>\n      <td>Check-Out</td>\n      <td>11/23/2015</td>\n    </tr>\n    <tr>\n      <th>3684</th>\n      <td>Resort Hotel</td>\n      <td>0</td>\n      <td>165</td>\n      <td>2015</td>\n      <td>December</td>\n      <td>53</td>\n      <td>30</td>\n      <td>1</td>\n      <td>4</td>\n      <td>0</td>\n      <td>...</td>\n      <td>No Deposit</td>\n      <td>308.0</td>\n      <td>NaN</td>\n      <td>122</td>\n      <td>Transient-Party</td>\n      <td>0.0</td>\n      <td>0</td>\n      <td>0</td>\n      <td>Check-Out</td>\n      <td>1/4/2016</td>\n    </tr>\n    <tr>\n      <th>3708</th>\n      <td>Resort Hotel</td>\n      <td>0</td>\n      <td>165</td>\n      <td>2015</td>\n      <td>December</td>\n      <td>53</td>\n      <td>30</td>\n      <td>2</td>\n      <td>4</td>\n      <td>0</td>\n      <td>...</td>\n      <td>No Deposit</td>\n      <td>308.0</td>\n      <td>NaN</td>\n      <td>122</td>\n      <td>Transient-Party</td>\n      <td>0.0</td>\n      <td>0</td>\n      <td>0</td>\n      <td>Check-Out</td>\n      <td>1/5/2016</td>\n    </tr>\n  </tbody>\n</table>\n<p>5 rows × 32 columns</p>\n</div>"
     },
     "execution_count": 18,
     "metadata": {},
     "output_type": "execute_result"
    }
   ],
   "source": [
    "data.head()"
   ],
   "metadata": {
    "collapsed": false,
    "pycharm": {
     "name": "#%%\n"
    }
   }
  },
  {
   "cell_type": "code",
   "execution_count": 19,
   "outputs": [
    {
     "data": {
      "text/plain": "<AxesSubplot:xlabel='market_segment', ylabel='stays_in_weekend_nights'>"
     },
     "execution_count": 19,
     "metadata": {},
     "output_type": "execute_result"
    },
    {
     "data": {
      "text/plain": "<Figure size 1080x720 with 1 Axes>",
      "image/png": "[encoded data removed]"
     },
     "metadata": {
      "needs_background": "light"
     },
     "output_type": "display_data"
    }
   ],
   "source": [
    "plt.figure(figsize=(15,10))\n",
    "sns.boxplot(x='market_segment', y='stays_in_weekend_nights', data=data_process, hue='hotel')"
   ],
   "metadata": {
    "collapsed": false,
    "pycharm": {
     "name": "#%%\n"
    }
   }
  },
  {
   "cell_type": "code",
   "execution_count": 65,
   "outputs": [
    {
     "data": {
      "text/plain": "<Figure size 864x576 with 1 Axes>",
      "image/png": "[encoded data removed]"
     },
     "metadata": {},
     "output_type": "display_data"
    }
   ],
   "source": [
    "labels = data_process['meal'].value_counts().index\n",
    "values = data_process['meal'].value_counts()\n",
    "colors = sns.color_palette('bright')\n",
    "plt.figure(figsize=(12,8))\n",
    "plt.title('Meal preferences for guests', fontsize=16)\n",
    "plt.pie(values, labels = labels, colors = colors, autopct='%.0f%%')\n",
    "plt.show()"
   ],
   "metadata": {
    "collapsed": false,
    "pycharm": {
     "name": "#%%\n"
    }
   }
  },
  {
   "cell_type": "markdown",
   "source": [
    "## Analysing occupations by month"
   ],
   "metadata": {
    "collapsed": false,
    "pycharm": {
     "name": "#%% md\n"
    }
   }
  },
  {
   "cell_type": "code",
   "execution_count": 21,
   "outputs": [
    {
     "data": {
      "text/plain": "        month  number of guests\n0      August              3257\n1        July              3137\n2     October              2577\n3       March              2573\n4       April              2550\n5         May              2535\n6    February              2308\n7   September              2102\n8        June              2038\n9    December              2017\n10   November              1976\n11    January              1868",
      "text/html": "<div>\n<style scoped>\n    .dataframe tbody tr th:only-of-type {\n        vertical-align: middle;\n    }\n\n    .dataframe tbody tr th {\n        vertical-align: top;\n    }\n\n    .dataframe thead th {\n        text-align: right;\n    }\n</style>\n<table border=\"1\" class=\"dataframe\">\n  <thead>\n    <tr style=\"text-align: right;\">\n      <th></th>\n      <th>month</th>\n      <th>number of guests</th>\n    </tr>\n  </thead>\n  <tbody>\n    <tr>\n      <th>0</th>\n      <td>August</td>\n      <td>3257</td>\n    </tr>\n    <tr>\n      <th>1</th>\n      <td>July</td>\n      <td>3137</td>\n    </tr>\n    <tr>\n      <th>2</th>\n      <td>October</td>\n      <td>2577</td>\n    </tr>\n    <tr>\n      <th>3</th>\n      <td>March</td>\n      <td>2573</td>\n    </tr>\n    <tr>\n      <th>4</th>\n      <td>April</td>\n      <td>2550</td>\n    </tr>\n    <tr>\n      <th>5</th>\n      <td>May</td>\n      <td>2535</td>\n    </tr>\n    <tr>\n      <th>6</th>\n      <td>February</td>\n      <td>2308</td>\n    </tr>\n    <tr>\n      <th>7</th>\n      <td>September</td>\n      <td>2102</td>\n    </tr>\n    <tr>\n      <th>8</th>\n      <td>June</td>\n      <td>2038</td>\n    </tr>\n    <tr>\n      <th>9</th>\n      <td>December</td>\n      <td>2017</td>\n    </tr>\n    <tr>\n      <th>10</th>\n      <td>November</td>\n      <td>1976</td>\n    </tr>\n    <tr>\n      <th>11</th>\n      <td>January</td>\n      <td>1868</td>\n    </tr>\n  </tbody>\n</table>\n</div>"
     },
     "execution_count": 21,
     "metadata": {},
     "output_type": "execute_result"
    }
   ],
   "source": [
    "rush_resort = resort['arrival_date_month'].value_counts().reset_index()\n",
    "rush_resort.columns = ['month', 'number of guests']\n",
    "rush_resort"
   ],
   "metadata": {
    "collapsed": false,
    "pycharm": {
     "name": "#%%\n"
    }
   }
  },
  {
   "cell_type": "code",
   "execution_count": 22,
   "outputs": [
    {
     "data": {
      "text/plain": "        month  number of guests\n0      August              5381\n1        July              4782\n2         May              4579\n3        June              4366\n4     October              4337\n5   September              4290\n6       March              4072\n7       April              4015\n8    February              3064\n9    November              2696\n10   December              2392\n11    January              2254",
      "text/html": "<div>\n<style scoped>\n    .dataframe tbody tr th:only-of-type {\n        vertical-align: middle;\n    }\n\n    .dataframe tbody tr th {\n        vertical-align: top;\n    }\n\n    .dataframe thead th {\n        text-align: right;\n    }\n</style>\n<table border=\"1\" class=\"dataframe\">\n  <thead>\n    <tr style=\"text-align: right;\">\n      <th></th>\n      <th>month</th>\n      <th>number of guests</th>\n    </tr>\n  </thead>\n  <tbody>\n    <tr>\n      <th>0</th>\n      <td>August</td>\n      <td>5381</td>\n    </tr>\n    <tr>\n      <th>1</th>\n      <td>July</td>\n      <td>4782</td>\n    </tr>\n    <tr>\n      <th>2</th>\n      <td>May</td>\n      <td>4579</td>\n    </tr>\n    <tr>\n      <th>3</th>\n      <td>June</td>\n      <td>4366</td>\n    </tr>\n    <tr>\n      <th>4</th>\n      <td>October</td>\n      <td>4337</td>\n    </tr>\n    <tr>\n      <th>5</th>\n      <td>September</td>\n      <td>4290</td>\n    </tr>\n    <tr>\n      <th>6</th>\n      <td>March</td>\n      <td>4072</td>\n    </tr>\n    <tr>\n      <th>7</th>\n      <td>April</td>\n      <td>4015</td>\n    </tr>\n    <tr>\n      <th>8</th>\n      <td>February</td>\n      <td>3064</td>\n    </tr>\n    <tr>\n      <th>9</th>\n      <td>November</td>\n      <td>2696</td>\n    </tr>\n    <tr>\n      <th>10</th>\n      <td>December</td>\n      <td>2392</td>\n    </tr>\n    <tr>\n      <th>11</th>\n      <td>January</td>\n      <td>2254</td>\n    </tr>\n  </tbody>\n</table>\n</div>"
     },
     "execution_count": 22,
     "metadata": {},
     "output_type": "execute_result"
    }
   ],
   "source": [
    "rush_city = city['arrival_date_month'].value_counts().reset_index()\n",
    "rush_city.columns = ['month', 'number of guests']\n",
    "rush_city"
   ],
   "metadata": {
    "collapsed": false,
    "pycharm": {
     "name": "#%%\n"
    }
   }
  },
  {
   "cell_type": "code",
   "execution_count": 23,
   "outputs": [
    {
     "data": {
      "text/plain": "        month  number of guest in city  number of guest in resort\n0      August                     5381                       3257\n1        July                     4782                       3137\n2         May                     4579                       2535\n3        June                     4366                       2038\n4     October                     4337                       2577\n5   September                     4290                       2102\n6       March                     4072                       2573\n7       April                     4015                       2550\n8    February                     3064                       2308\n9    November                     2696                       1976\n10   December                     2392                       2017\n11    January                     2254                       1868",
      "text/html": "<div>\n<style scoped>\n    .dataframe tbody tr th:only-of-type {\n        vertical-align: middle;\n    }\n\n    .dataframe tbody tr th {\n        vertical-align: top;\n    }\n\n    .dataframe thead th {\n        text-align: right;\n    }\n</style>\n<table border=\"1\" class=\"dataframe\">\n  <thead>\n    <tr style=\"text-align: right;\">\n      <th></th>\n      <th>month</th>\n      <th>number of guest in city</th>\n      <th>number of guest in resort</th>\n    </tr>\n  </thead>\n  <tbody>\n    <tr>\n      <th>0</th>\n      <td>August</td>\n      <td>5381</td>\n      <td>3257</td>\n    </tr>\n    <tr>\n      <th>1</th>\n      <td>July</td>\n      <td>4782</td>\n      <td>3137</td>\n    </tr>\n    <tr>\n      <th>2</th>\n      <td>May</td>\n      <td>4579</td>\n      <td>2535</td>\n    </tr>\n    <tr>\n      <th>3</th>\n      <td>June</td>\n      <td>4366</td>\n      <td>2038</td>\n    </tr>\n    <tr>\n      <th>4</th>\n      <td>October</td>\n      <td>4337</td>\n      <td>2577</td>\n    </tr>\n    <tr>\n      <th>5</th>\n      <td>September</td>\n      <td>4290</td>\n      <td>2102</td>\n    </tr>\n    <tr>\n      <th>6</th>\n      <td>March</td>\n      <td>4072</td>\n      <td>2573</td>\n    </tr>\n    <tr>\n      <th>7</th>\n      <td>April</td>\n      <td>4015</td>\n      <td>2550</td>\n    </tr>\n    <tr>\n      <th>8</th>\n      <td>February</td>\n      <td>3064</td>\n      <td>2308</td>\n    </tr>\n    <tr>\n      <th>9</th>\n      <td>November</td>\n      <td>2696</td>\n      <td>1976</td>\n    </tr>\n    <tr>\n      <th>10</th>\n      <td>December</td>\n      <td>2392</td>\n      <td>2017</td>\n    </tr>\n    <tr>\n      <th>11</th>\n      <td>January</td>\n      <td>2254</td>\n      <td>1868</td>\n    </tr>\n  </tbody>\n</table>\n</div>"
     },
     "execution_count": 23,
     "metadata": {},
     "output_type": "execute_result"
    }
   ],
   "source": [
    "final_rush = rush_city.merge(rush_resort, on='month')\n",
    "final_rush.columns= ['month', 'number of guest in city', 'number of guest in resort']\n",
    "final_rush"
   ],
   "metadata": {
    "collapsed": false,
    "pycharm": {
     "name": "#%%\n"
    }
   }
  },
  {
   "cell_type": "code",
   "execution_count": 66,
   "outputs": [
    {
     "data": {
      "text/plain": "        month  number of guest in city  number of guest in resort\n0     January                     2254                       1868\n1    February                     3064                       2308\n2       March                     4072                       2573\n3       April                     4015                       2550\n4         May                     4579                       2535\n5        June                     4366                       2038\n6        July                     4782                       3137\n7      August                     5381                       3257\n8   September                     4290                       2102\n9     October                     4337                       2577\n10   November                     2696                       1976\n11   December                     2392                       2017",
      "text/html": "<div>\n<style scoped>\n    .dataframe tbody tr th:only-of-type {\n        vertical-align: middle;\n    }\n\n    .dataframe tbody tr th {\n        vertical-align: top;\n    }\n\n    .dataframe thead th {\n        text-align: right;\n    }\n</style>\n<table border=\"1\" class=\"dataframe\">\n  <thead>\n    <tr style=\"text-align: right;\">\n      <th></th>\n      <th>month</th>\n      <th>number of guest in city</th>\n      <th>number of guest in resort</th>\n    </tr>\n  </thead>\n  <tbody>\n    <tr>\n      <th>0</th>\n      <td>January</td>\n      <td>2254</td>\n      <td>1868</td>\n    </tr>\n    <tr>\n      <th>1</th>\n      <td>February</td>\n      <td>3064</td>\n      <td>2308</td>\n    </tr>\n    <tr>\n      <th>2</th>\n      <td>March</td>\n      <td>4072</td>\n      <td>2573</td>\n    </tr>\n    <tr>\n      <th>3</th>\n      <td>April</td>\n      <td>4015</td>\n      <td>2550</td>\n    </tr>\n    <tr>\n      <th>4</th>\n      <td>May</td>\n      <td>4579</td>\n      <td>2535</td>\n    </tr>\n    <tr>\n      <th>5</th>\n      <td>June</td>\n      <td>4366</td>\n      <td>2038</td>\n    </tr>\n    <tr>\n      <th>6</th>\n      <td>July</td>\n      <td>4782</td>\n      <td>3137</td>\n    </tr>\n    <tr>\n      <th>7</th>\n      <td>August</td>\n      <td>5381</td>\n      <td>3257</td>\n    </tr>\n    <tr>\n      <th>8</th>\n      <td>September</td>\n      <td>4290</td>\n      <td>2102</td>\n    </tr>\n    <tr>\n      <th>9</th>\n      <td>October</td>\n      <td>4337</td>\n      <td>2577</td>\n    </tr>\n    <tr>\n      <th>10</th>\n      <td>November</td>\n      <td>2696</td>\n      <td>1976</td>\n    </tr>\n    <tr>\n      <th>11</th>\n      <td>December</td>\n      <td>2392</td>\n      <td>2017</td>\n    </tr>\n  </tbody>\n</table>\n</div>"
     },
     "execution_count": 66,
     "metadata": {},
     "output_type": "execute_result"
    }
   ],
   "source": [
    "final = sd.Sort_Dataframeby_Month(final_rush, 'month')\n",
    "final"
   ],
   "metadata": {
    "collapsed": false,
    "pycharm": {
     "name": "#%%\n"
    }
   }
  },
  {
   "cell_type": "code",
   "execution_count": 67,
   "outputs": [
    {
     "data": {
      "text/plain": "<Figure size 864x576 with 1 Axes>",
      "image/png": "[encoded data removed]"
     },
     "metadata": {
      "needs_background": "light"
     },
     "output_type": "display_data"
    },
    {
     "data": {
      "text/plain": "<Figure size 864x576 with 1 Axes>",
      "image/png": "[encoded data removed]"
     },
     "metadata": {
      "needs_background": "light"
     },
     "output_type": "display_data"
    }
   ],
   "source": [
    "plt.figure(figsize=(12,8))\n",
    "sns.lineplot(x = \"month\", y = 'number of guest in city', data = final)\n",
    "plt.show()\n",
    "plt.figure(figsize=(12,8))\n",
    "sns.lineplot(x = \"month\", y = 'number of guest in resort', data = final)\n",
    "plt.show()"
   ],
   "metadata": {
    "collapsed": false,
    "pycharm": {
     "name": "#%%\n"
    }
   }
  },
  {
   "cell_type": "markdown",
   "source": [
    "## Duration of the guests"
   ],
   "metadata": {
    "collapsed": false
   }
  },
  {
   "cell_type": "code",
   "execution_count": 26,
   "outputs": [
    {
     "name": "stderr",
     "output_type": "stream",
     "text": [
      "C:\\Users\\JesusSanchez\\AppData\\Local\\Temp\\ipykernel_12404\\2105373319.py:1: SettingWithCopyWarning:\n",
      "\n",
      "\n",
      "A value is trying to be set on a copy of a slice from a DataFrame.\n",
      "Try using .loc[row_indexer,col_indexer] = value instead\n",
      "\n",
      "See the caveats in the documentation: https://pandas.pydata.org/pandas-docs/stable/user_guide/indexing.html#returning-a-view-versus-a-copy\n",
      "\n"
     ]
    }
   ],
   "source": [
    "data_process['total_nights'] = data_process['stays_in_week_nights'] + data_process['stays_in_weekend_nights']"
   ],
   "metadata": {
    "collapsed": false,
    "pycharm": {
     "name": "#%%\n"
    }
   }
  },
  {
   "cell_type": "code",
   "execution_count": 27,
   "outputs": [
    {
     "data": {
      "text/plain": "   total_nights         hotel  is_canceled\n0             0    City Hotel          308\n1             0  Resort Hotel          372\n2             1    City Hotel         9169\n3             1  Resort Hotel         6580\n4             2    City Hotel        10992",
      "text/html": "<div>\n<style scoped>\n    .dataframe tbody tr th:only-of-type {\n        vertical-align: middle;\n    }\n\n    .dataframe tbody tr th {\n        vertical-align: top;\n    }\n\n    .dataframe thead th {\n        text-align: right;\n    }\n</style>\n<table border=\"1\" class=\"dataframe\">\n  <thead>\n    <tr style=\"text-align: right;\">\n      <th></th>\n      <th>total_nights</th>\n      <th>hotel</th>\n      <th>is_canceled</th>\n    </tr>\n  </thead>\n  <tbody>\n    <tr>\n      <th>0</th>\n      <td>0</td>\n      <td>City Hotel</td>\n      <td>308</td>\n    </tr>\n    <tr>\n      <th>1</th>\n      <td>0</td>\n      <td>Resort Hotel</td>\n      <td>372</td>\n    </tr>\n    <tr>\n      <th>2</th>\n      <td>1</td>\n      <td>City Hotel</td>\n      <td>9169</td>\n    </tr>\n    <tr>\n      <th>3</th>\n      <td>1</td>\n      <td>Resort Hotel</td>\n      <td>6580</td>\n    </tr>\n    <tr>\n      <th>4</th>\n      <td>2</td>\n      <td>City Hotel</td>\n      <td>10992</td>\n    </tr>\n  </tbody>\n</table>\n</div>"
     },
     "execution_count": 27,
     "metadata": {},
     "output_type": "execute_result"
    }
   ],
   "source": [
    "stay = data_process.groupby(['total_nights', 'hotel']).agg('count').reset_index()\n",
    "stay = stay.iloc[:,0:3]\n",
    "stay.head()"
   ],
   "metadata": {
    "collapsed": false,
    "pycharm": {
     "name": "#%%\n"
    }
   }
  },
  {
   "cell_type": "code",
   "execution_count": 28,
   "outputs": [
    {
     "data": {
      "text/plain": "   total_nights         hotel  numbers of stays\n0             0    City Hotel               308\n1             0  Resort Hotel               372\n2             1    City Hotel              9169\n3             1  Resort Hotel              6580\n4             2    City Hotel             10992",
      "text/html": "<div>\n<style scoped>\n    .dataframe tbody tr th:only-of-type {\n        vertical-align: middle;\n    }\n\n    .dataframe tbody tr th {\n        vertical-align: top;\n    }\n\n    .dataframe thead th {\n        text-align: right;\n    }\n</style>\n<table border=\"1\" class=\"dataframe\">\n  <thead>\n    <tr style=\"text-align: right;\">\n      <th></th>\n      <th>total_nights</th>\n      <th>hotel</th>\n      <th>numbers of stays</th>\n    </tr>\n  </thead>\n  <tbody>\n    <tr>\n      <th>0</th>\n      <td>0</td>\n      <td>City Hotel</td>\n      <td>308</td>\n    </tr>\n    <tr>\n      <th>1</th>\n      <td>0</td>\n      <td>Resort Hotel</td>\n      <td>372</td>\n    </tr>\n    <tr>\n      <th>2</th>\n      <td>1</td>\n      <td>City Hotel</td>\n      <td>9169</td>\n    </tr>\n    <tr>\n      <th>3</th>\n      <td>1</td>\n      <td>Resort Hotel</td>\n      <td>6580</td>\n    </tr>\n    <tr>\n      <th>4</th>\n      <td>2</td>\n      <td>City Hotel</td>\n      <td>10992</td>\n    </tr>\n  </tbody>\n</table>\n</div>"
     },
     "execution_count": 28,
     "metadata": {},
     "output_type": "execute_result"
    }
   ],
   "source": [
    "stay = stay.rename(columns={'is_canceled':'numbers of stays'})\n",
    "stay.head()"
   ],
   "metadata": {
    "collapsed": false,
    "pycharm": {
     "name": "#%%\n"
    }
   }
  },
  {
   "cell_type": "code",
   "execution_count": 29,
   "outputs": [
    {
     "data": {
      "text/plain": "<AxesSubplot:xlabel='total_nights', ylabel='numbers of stays'>"
     },
     "execution_count": 29,
     "metadata": {},
     "output_type": "execute_result"
    },
    {
     "data": {
      "text/plain": "<Figure size 1440x576 with 1 Axes>",
      "image/png": "[encoded data removed]"
     },
     "metadata": {
      "needs_background": "light"
     },
     "output_type": "display_data"
    }
   ],
   "source": [
    "plt.figure(figsize=(20,8))\n",
    "sns.barplot(x='total_nights', y='numbers of stays', hue='hotel', data=stay)"
   ],
   "metadata": {
    "collapsed": false,
    "pycharm": {
     "name": "#%%\n"
    }
   }
  },
  {
   "cell_type": "markdown",
   "source": [
    "## Other useful analysis"
   ],
   "metadata": {
    "collapsed": false
   }
  },
  {
   "cell_type": "code",
   "execution_count": 30,
   "outputs": [
    {
     "data": {
      "text/plain": "<AxesSubplot:xlabel='market_segment', ylabel='adr'>"
     },
     "execution_count": 30,
     "metadata": {},
     "output_type": "execute_result"
    },
    {
     "data": {
      "text/plain": "<Figure size 1440x720 with 1 Axes>",
      "image/png": "[encoded data removed]"
     },
     "metadata": {
      "needs_background": "light"
     },
     "output_type": "display_data"
    }
   ],
   "source": [
    "plt.figure(figsize=(20,10))\n",
    "sns.barplot(x='market_segment',y='adr', hue='reserved_room_type', data=data_process)"
   ],
   "metadata": {
    "collapsed": false,
    "pycharm": {
     "name": "#%%\n"
    }
   }
  },
  {
   "cell_type": "markdown",
   "source": [
    "## Cancellations analysis"
   ],
   "metadata": {
    "collapsed": false
   }
  },
  {
   "cell_type": "code",
   "execution_count": 31,
   "outputs": [
    {
     "data": {
      "text/plain": "           hotel  is_canceled  lead_time  arrival_date_year  \\\n8   Resort Hotel            1         85               2015   \n9   Resort Hotel            1         75               2015   \n10  Resort Hotel            1         23               2015   \n27  Resort Hotel            1         60               2015   \n32  Resort Hotel            1         96               2015   \n\n   arrival_date_month  arrival_date_week_number  arrival_date_day_of_month  \\\n8                July                        27                          1   \n9                July                        27                          1   \n10               July                        27                          1   \n27               July                        27                          1   \n32               July                        27                          1   \n\n    stays_in_weekend_nights  stays_in_week_nights  adults  ...  deposit_type  \\\n8                         0                     3       2  ...    No Deposit   \n9                         0                     3       2  ...    No Deposit   \n10                        0                     4       2  ...    No Deposit   \n27                        2                     5       2  ...    No Deposit   \n32                        2                     8       2  ...    No Deposit   \n\n    agent company days_in_waiting_list customer_type    adr  \\\n8   240.0     NaN                    0     Transient   82.0   \n9    15.0     NaN                    0     Transient  105.5   \n10  240.0     NaN                    0     Transient  123.0   \n27  240.0     NaN                    0     Transient  107.0   \n32    NaN     NaN                    0     Transient  108.3   \n\n    required_car_parking_spaces  total_of_special_requests  \\\n8                             0                          1   \n9                             0                          0   \n10                            0                          0   \n27                            0                          2   \n32                            0                          2   \n\n    reservation_status reservation_status_date  \n8             Canceled                5/6/2015  \n9             Canceled               4/22/2015  \n10            Canceled               6/23/2015  \n27            Canceled               5/11/2015  \n32            Canceled               5/29/2015  \n\n[5 rows x 32 columns]",
      "text/html": "<div>\n<style scoped>\n    .dataframe tbody tr th:only-of-type {\n        vertical-align: middle;\n    }\n\n    .dataframe tbody tr th {\n        vertical-align: top;\n    }\n\n    .dataframe thead th {\n        text-align: right;\n    }\n</style>\n<table border=\"1\" class=\"dataframe\">\n  <thead>\n    <tr style=\"text-align: right;\">\n      <th></th>\n      <th>hotel</th>\n      <th>is_canceled</th>\n      <th>lead_time</th>\n      <th>arrival_date_year</th>\n      <th>arrival_date_month</th>\n      <th>arrival_date_week_number</th>\n      <th>arrival_date_day_of_month</th>\n      <th>stays_in_weekend_nights</th>\n      <th>stays_in_week_nights</th>\n      <th>adults</th>\n      <th>...</th>\n      <th>deposit_type</th>\n      <th>agent</th>\n      <th>company</th>\n      <th>days_in_waiting_list</th>\n      <th>customer_type</th>\n      <th>adr</th>\n      <th>required_car_parking_spaces</th>\n      <th>total_of_special_requests</th>\n      <th>reservation_status</th>\n      <th>reservation_status_date</th>\n    </tr>\n  </thead>\n  <tbody>\n    <tr>\n      <th>8</th>\n      <td>Resort Hotel</td>\n      <td>1</td>\n      <td>85</td>\n      <td>2015</td>\n      <td>July</td>\n      <td>27</td>\n      <td>1</td>\n      <td>0</td>\n      <td>3</td>\n      <td>2</td>\n      <td>...</td>\n      <td>No Deposit</td>\n      <td>240.0</td>\n      <td>NaN</td>\n      <td>0</td>\n      <td>Transient</td>\n      <td>82.0</td>\n      <td>0</td>\n      <td>1</td>\n      <td>Canceled</td>\n      <td>5/6/2015</td>\n    </tr>\n    <tr>\n      <th>9</th>\n      <td>Resort Hotel</td>\n      <td>1</td>\n      <td>75</td>\n      <td>2015</td>\n      <td>July</td>\n      <td>27</td>\n      <td>1</td>\n      <td>0</td>\n      <td>3</td>\n      <td>2</td>\n      <td>...</td>\n      <td>No Deposit</td>\n      <td>15.0</td>\n      <td>NaN</td>\n      <td>0</td>\n      <td>Transient</td>\n      <td>105.5</td>\n      <td>0</td>\n      <td>0</td>\n      <td>Canceled</td>\n      <td>4/22/2015</td>\n    </tr>\n    <tr>\n      <th>10</th>\n      <td>Resort Hotel</td>\n      <td>1</td>\n      <td>23</td>\n      <td>2015</td>\n      <td>July</td>\n      <td>27</td>\n      <td>1</td>\n      <td>0</td>\n      <td>4</td>\n      <td>2</td>\n      <td>...</td>\n      <td>No Deposit</td>\n      <td>240.0</td>\n      <td>NaN</td>\n      <td>0</td>\n      <td>Transient</td>\n      <td>123.0</td>\n      <td>0</td>\n      <td>0</td>\n      <td>Canceled</td>\n      <td>6/23/2015</td>\n    </tr>\n    <tr>\n      <th>27</th>\n      <td>Resort Hotel</td>\n      <td>1</td>\n      <td>60</td>\n      <td>2015</td>\n      <td>July</td>\n      <td>27</td>\n      <td>1</td>\n      <td>2</td>\n      <td>5</td>\n      <td>2</td>\n      <td>...</td>\n      <td>No Deposit</td>\n      <td>240.0</td>\n      <td>NaN</td>\n      <td>0</td>\n      <td>Transient</td>\n      <td>107.0</td>\n      <td>0</td>\n      <td>2</td>\n      <td>Canceled</td>\n      <td>5/11/2015</td>\n    </tr>\n    <tr>\n      <th>32</th>\n      <td>Resort Hotel</td>\n      <td>1</td>\n      <td>96</td>\n      <td>2015</td>\n      <td>July</td>\n      <td>27</td>\n      <td>1</td>\n      <td>2</td>\n      <td>8</td>\n      <td>2</td>\n      <td>...</td>\n      <td>No Deposit</td>\n      <td>NaN</td>\n      <td>NaN</td>\n      <td>0</td>\n      <td>Transient</td>\n      <td>108.3</td>\n      <td>0</td>\n      <td>2</td>\n      <td>Canceled</td>\n      <td>5/29/2015</td>\n    </tr>\n  </tbody>\n</table>\n<p>5 rows × 32 columns</p>\n</div>"
     },
     "execution_count": 31,
     "metadata": {},
     "output_type": "execute_result"
    }
   ],
   "source": [
    "cancels = df[df['is_canceled'] == 1]\n",
    "cancels.head()"
   ],
   "metadata": {
    "collapsed": false,
    "pycharm": {
     "name": "#%%\n"
    }
   }
  },
  {
   "cell_type": "code",
   "execution_count": 73,
   "outputs": [
    {
     "data": {
      "text/plain": "<Figure size 864x576 with 1 Axes>",
      "image/png": "[encoded data removed]"
     },
     "metadata": {},
     "output_type": "display_data"
    }
   ],
   "source": [
    "labels = ['Resort cancellations', 'City cancellations']\n",
    "values = [len(cancels[cancels['hotel'] == 'Resort Hotel']), len(cancels[cancels['hotel'] == 'City Hotel'])]\n",
    "colors = sns.color_palette('bright')\n",
    "plt.figure(figsize=(12,8))\n",
    "plt.title('Cancellations per hotel', fontsize=16)\n",
    "plt.pie(values, labels = labels, colors = colors, autopct='%.0f%%')\n",
    "plt.show()"
   ],
   "metadata": {
    "collapsed": false,
    "pycharm": {
     "name": "#%%\n"
    }
   }
  },
  {
   "cell_type": "code",
   "execution_count": 33,
   "outputs": [
    {
     "data": {
      "text/plain": "    Country  Number of cancellations\n0       PRT                    27519\n1       GBR                     2453\n2       ESP                     2177\n3       FRA                     1934\n4       ITA                     1333\n..      ...                      ...\n122     UMI                        1\n123     HND                        1\n124     FJI                        1\n125     SYC                        1\n126     CRI                        1\n\n[127 rows x 2 columns]",
      "text/html": "<div>\n<style scoped>\n    .dataframe tbody tr th:only-of-type {\n        vertical-align: middle;\n    }\n\n    .dataframe tbody tr th {\n        vertical-align: top;\n    }\n\n    .dataframe thead th {\n        text-align: right;\n    }\n</style>\n<table border=\"1\" class=\"dataframe\">\n  <thead>\n    <tr style=\"text-align: right;\">\n      <th></th>\n      <th>Country</th>\n      <th>Number of cancellations</th>\n    </tr>\n  </thead>\n  <tbody>\n    <tr>\n      <th>0</th>\n      <td>PRT</td>\n      <td>27519</td>\n    </tr>\n    <tr>\n      <th>1</th>\n      <td>GBR</td>\n      <td>2453</td>\n    </tr>\n    <tr>\n      <th>2</th>\n      <td>ESP</td>\n      <td>2177</td>\n    </tr>\n    <tr>\n      <th>3</th>\n      <td>FRA</td>\n      <td>1934</td>\n    </tr>\n    <tr>\n      <th>4</th>\n      <td>ITA</td>\n      <td>1333</td>\n    </tr>\n    <tr>\n      <th>...</th>\n      <td>...</td>\n      <td>...</td>\n    </tr>\n    <tr>\n      <th>122</th>\n      <td>UMI</td>\n      <td>1</td>\n    </tr>\n    <tr>\n      <th>123</th>\n      <td>HND</td>\n      <td>1</td>\n    </tr>\n    <tr>\n      <th>124</th>\n      <td>FJI</td>\n      <td>1</td>\n    </tr>\n    <tr>\n      <th>125</th>\n      <td>SYC</td>\n      <td>1</td>\n    </tr>\n    <tr>\n      <th>126</th>\n      <td>CRI</td>\n      <td>1</td>\n    </tr>\n  </tbody>\n</table>\n<p>127 rows × 2 columns</p>\n</div>"
     },
     "execution_count": 33,
     "metadata": {},
     "output_type": "execute_result"
    }
   ],
   "source": [
    "country_data = cancels['country'].value_counts().reset_index()\n",
    "country_data.columns = ['Country', 'Number of cancellations']\n",
    "country_data"
   ],
   "metadata": {
    "collapsed": false,
    "pycharm": {
     "name": "#%%\n"
    }
   }
  },
  {
   "cell_type": "code",
   "execution_count": 34,
   "outputs": [
    {
     "data": {
      "application/vnd.plotly.v1+json": {
       "data": [
        {
         "coloraxis": "coloraxis",
         "geo": "geo",
         "hovertemplate": "<b>%{hovertext}</b><br><br>Country=%{location}<br>Number of cancellations=%{z}<extra></extra>",
         "hovertext": [
          "PRT",
          "GBR",
          "ESP",
          "FRA",
          "ITA",
          "DEU",
          "IRL",
          "BRA",
          "USA",
          "BEL",
          "CHN",
          "CHE",
          "NLD",
          "CN",
          "RUS",
          "AUT",
          "SWE",
          "POL",
          "AGO",
          "NOR",
          "ISR",
          "ROU",
          "LUX",
          "MAR",
          "DNK",
          "AUS",
          "TUR",
          "HUN",
          "FIN",
          "KOR",
          "ARG",
          "ARE",
          "CZE",
          "IND",
          "GRC",
          "SAU",
          "ZAF",
          "JPN",
          "HKG",
          "PHL",
          "HRV",
          "IDN",
          "SVK",
          "IRN",
          "COL",
          "DZA",
          "NGA",
          "UKR",
          "MOZ",
          "TUN",
          "EST",
          "THA",
          "SGP",
          "CHL",
          "MAC",
          "SVN",
          "GEO",
          "TWN",
          "VEN",
          "CPV",
          "BGR",
          "GIB",
          "CYP",
          "QAT",
          "EGY",
          "MEX",
          "BLR",
          "MDV",
          "BGD",
          "URY",
          "PAK",
          "AZE",
          "LVA",
          "LBN",
          "JEY",
          "SEN",
          "DOM",
          "TJK",
          "ECU",
          "LTU",
          "NZL",
          "PER",
          "KWT",
          "MLT",
          "AND",
          "KAZ",
          "FRO",
          "BHR",
          "OMN",
          "ISL",
          "TZA",
          "GGY",
          "BIH",
          "BEN",
          "JOR",
          "MYS",
          "SRB",
          "GLP",
          "GHA",
          "KEN",
          "PRI",
          "VNM",
          "MKD",
          "MYT",
          "GAB",
          "CIV",
          "MNE",
          "ARM",
          "KHM",
          "IMN",
          "UZB",
          "ZWE",
          "ALB",
          "NIC",
          "TMP",
          "VGB",
          "MCO",
          "MUS",
          "LIE",
          "GNB",
          "ETH",
          "ZMB",
          "UMI",
          "HND",
          "FJI",
          "SYC",
          "CRI"
         ],
         "locations": [
          "PRT",
          "GBR",
          "ESP",
          "FRA",
          "ITA",
          "DEU",
          "IRL",
          "BRA",
          "USA",
          "BEL",
          "CHN",
          "CHE",
          "NLD",
          "CN",
          "RUS",
          "AUT",
          "SWE",
          "POL",
          "AGO",
          "NOR",
          "ISR",
          "ROU",
          "LUX",
          "MAR",
          "DNK",
          "AUS",
          "TUR",
          "HUN",
          "FIN",
          "KOR",
          "ARG",
          "ARE",
          "CZE",
          "IND",
          "GRC",
          "SAU",
          "ZAF",
          "JPN",
          "HKG",
          "PHL",
          "HRV",
          "IDN",
          "SVK",
          "IRN",
          "COL",
          "DZA",
          "NGA",
          "UKR",
          "MOZ",
          "TUN",
          "EST",
          "THA",
          "SGP",
          "CHL",
          "MAC",
          "SVN",
          "GEO",
          "TWN",
          "VEN",
          "CPV",
          "BGR",
          "GIB",
          "CYP",
          "QAT",
          "EGY",
          "MEX",
          "BLR",
          "MDV",
          "BGD",
          "URY",
          "PAK",
          "AZE",
          "LVA",
          "LBN",
          "JEY",
          "SEN",
          "DOM",
          "TJK",
          "ECU",
          "LTU",
          "NZL",
          "PER",
          "KWT",
          "MLT",
          "AND",
          "KAZ",
          "FRO",
          "BHR",
          "OMN",
          "ISL",
          "TZA",
          "GGY",
          "BIH",
          "BEN",
          "JOR",
          "MYS",
          "SRB",
          "GLP",
          "GHA",
          "KEN",
          "PRI",
          "VNM",
          "MKD",
          "MYT",
          "GAB",
          "CIV",
          "MNE",
          "ARM",
          "KHM",
          "IMN",
          "UZB",
          "ZWE",
          "ALB",
          "NIC",
          "TMP",
          "VGB",
          "MCO",
          "MUS",
          "LIE",
          "GNB",
          "ETH",
          "ZMB",
          "UMI",
          "HND",
          "FJI",
          "SYC",
          "CRI"
         ],
         "name": "",
         "z": [
          27519,
          2453,
          2177,
          1934,
          1333,
          1218,
          832,
          830,
          501,
          474,
          462,
          428,
          387,
          254,
          239,
          230,
          227,
          215,
          205,
          181,
          169,
          134,
          109,
          109,
          109,
          107,
          102,
          77,
          69,
          55,
          54,
          43,
          37,
          35,
          35,
          33,
          31,
          28,
          26,
          25,
          25,
          24,
          24,
          23,
          23,
          21,
          21,
          20,
          19,
          19,
          18,
          18,
          16,
          16,
          15,
          15,
          15,
          14,
          12,
          12,
          12,
          11,
          11,
          11,
          11,
          10,
          9,
          9,
          9,
          9,
          9,
          9,
          9,
          9,
          8,
          8,
          8,
          8,
          8,
          7,
          6,
          6,
          6,
          5,
          5,
          5,
          4,
          4,
          4,
          4,
          3,
          3,
          3,
          3,
          3,
          3,
          3,
          2,
          2,
          2,
          2,
          2,
          2,
          2,
          2,
          2,
          2,
          2,
          2,
          2,
          2,
          2,
          2,
          1,
          1,
          1,
          1,
          1,
          1,
          1,
          1,
          1,
          1,
          1,
          1,
          1,
          1
         ],
         "type": "choropleth"
        }
       ],
       "layout": {
        "template": {
         "data": {
          "bar": [
           {
            "error_x": {
             "color": "#2a3f5f"
            },
            "error_y": {
             "color": "#2a3f5f"
            },
            "marker": {
             "line": {
              "color": "#E5ECF6",
              "width": 0.5
             },
             "pattern": {
              "fillmode": "overlay",
              "size": 10,
              "solidity": 0.2
             }
            },
            "type": "bar"
           }
          ],
          "barpolar": [
           {
            "marker": {
             "line": {
              "color": "#E5ECF6",
              "width": 0.5
             },
             "pattern": {
              "fillmode": "overlay",
              "size": 10,
              "solidity": 0.2
             }
            },
            "type": "barpolar"
           }
          ],
          "carpet": [
           {
            "aaxis": {
             "endlinecolor": "#2a3f5f",
             "gridcolor": "white",
             "linecolor": "white",
             "minorgridcolor": "white",
             "startlinecolor": "#2a3f5f"
            },
            "baxis": {
             "endlinecolor": "#2a3f5f",
             "gridcolor": "white",
             "linecolor": "white",
             "minorgridcolor": "white",
             "startlinecolor": "#2a3f5f"
            },
            "type": "carpet"
           }
          ],
          "choropleth": [
           {
            "colorbar": {
             "outlinewidth": 0,
             "ticks": ""
            },
            "type": "choropleth"
           }
          ],
          "contour": [
           {
            "colorbar": {
             "outlinewidth": 0,
             "ticks": ""
            },
            "colorscale": [
             [
              0.0,
              "#0d0887"
             ],
             [
              0.1111111111111111,
              "#46039f"
             ],
             [
              0.2222222222222222,
              "#7201a8"
             ],
             [
              0.3333333333333333,
              "#9c179e"
             ],
             [
              0.4444444444444444,
              "#bd3786"
             ],
             [
              0.5555555555555556,
              "#d8576b"
             ],
             [
              0.6666666666666666,
              "#ed7953"
             ],
             [
              0.7777777777777778,
              "#fb9f3a"
             ],
             [
              0.8888888888888888,
              "#fdca26"
             ],
             [
              1.0,
              "#f0f921"
             ]
            ],
            "type": "contour"
           }
          ],
          "contourcarpet": [
           {
            "colorbar": {
             "outlinewidth": 0,
             "ticks": ""
            },
            "type": "contourcarpet"
           }
          ],
          "heatmap": [
           {
            "colorbar": {
             "outlinewidth": 0,
             "ticks": ""
            },
            "colorscale": [
             [
              0.0,
              "#0d0887"
             ],
             [
              0.1111111111111111,
              "#46039f"
             ],
             [
              0.2222222222222222,
              "#7201a8"
             ],
             [
              0.3333333333333333,
              "#9c179e"
             ],
             [
              0.4444444444444444,
              "#bd3786"
             ],
             [
              0.5555555555555556,
              "#d8576b"
             ],
             [
              0.6666666666666666,
              "#ed7953"
             ],
             [
              0.7777777777777778,
              "#fb9f3a"
             ],
             [
              0.8888888888888888,
              "#fdca26"
             ],
             [
              1.0,
              "#f0f921"
             ]
            ],
            "type": "heatmap"
           }
          ],
          "heatmapgl": [
           {
            "colorbar": {
             "outlinewidth": 0,
             "ticks": ""
            },
            "colorscale": [
             [
              0.0,
              "#0d0887"
             ],
             [
              0.1111111111111111,
              "#46039f"
             ],
             [
              0.2222222222222222,
              "#7201a8"
             ],
             [
              0.3333333333333333,
              "#9c179e"
             ],
             [
              0.4444444444444444,
              "#bd3786"
             ],
             [
              0.5555555555555556,
              "#d8576b"
             ],
             [
              0.6666666666666666,
              "#ed7953"
             ],
             [
              0.7777777777777778,
              "#fb9f3a"
             ],
             [
              0.8888888888888888,
              "#fdca26"
             ],
             [
              1.0,
              "#f0f921"
             ]
            ],
            "type": "heatmapgl"
           }
          ],
          "histogram": [
           {
            "marker": {
             "pattern": {
              "fillmode": "overlay",
              "size": 10,
              "solidity": 0.2
             }
            },
            "type": "histogram"
           }
          ],
          "histogram2d": [
           {
            "colorbar": {
             "outlinewidth": 0,
             "ticks": ""
            },
            "colorscale": [
             [
              0.0,
              "#0d0887"
             ],
             [
              0.1111111111111111,
              "#46039f"
             ],
             [
              0.2222222222222222,
              "#7201a8"
             ],
             [
              0.3333333333333333,
              "#9c179e"
             ],
             [
              0.4444444444444444,
              "#bd3786"
             ],
             [
              0.5555555555555556,
              "#d8576b"
             ],
             [
              0.6666666666666666,
              "#ed7953"
             ],
             [
              0.7777777777777778,
              "#fb9f3a"
             ],
             [
              0.8888888888888888,
              "#fdca26"
             ],
             [
              1.0,
              "#f0f921"
             ]
            ],
            "type": "histogram2d"
           }
          ],
          "histogram2dcontour": [
           {
            "colorbar": {
             "outlinewidth": 0,
             "ticks": ""
            },
            "colorscale": [
             [
              0.0,
              "#0d0887"
             ],
             [
              0.1111111111111111,
              "#46039f"
             ],
             [
              0.2222222222222222,
              "#7201a8"
             ],
             [
              0.3333333333333333,
              "#9c179e"
             ],
             [
              0.4444444444444444,
              "#bd3786"
             ],
             [
              0.5555555555555556,
              "#d8576b"
             ],
             [
              0.6666666666666666,
              "#ed7953"
             ],
             [
              0.7777777777777778,
              "#fb9f3a"
             ],
             [
              0.8888888888888888,
              "#fdca26"
             ],
             [
              1.0,
              "#f0f921"
             ]
            ],
            "type": "histogram2dcontour"
           }
          ],
          "mesh3d": [
           {
            "colorbar": {
             "outlinewidth": 0,
             "ticks": ""
            },
            "type": "mesh3d"
           }
          ],
          "parcoords": [
           {
            "line": {
             "colorbar": {
              "outlinewidth": 0,
              "ticks": ""
             }
            },
            "type": "parcoords"
           }
          ],
          "pie": [
           {
            "automargin": true,
            "type": "pie"
           }
          ],
          "scatter": [
           {
            "marker": {
             "colorbar": {
              "outlinewidth": 0,
              "ticks": ""
             }
            },
            "type": "scatter"
           }
          ],
          "scatter3d": [
           {
            "line": {
             "colorbar": {
              "outlinewidth": 0,
              "ticks": ""
             }
            },
            "marker": {
             "colorbar": {
              "outlinewidth": 0,
              "ticks": ""
             }
            },
            "type": "scatter3d"
           }
          ],
          "scattercarpet": [
           {
            "marker": {
             "colorbar": {
              "outlinewidth": 0,
              "ticks": ""
             }
            },
            "type": "scattercarpet"
           }
          ],
          "scattergeo": [
           {
            "marker": {
             "colorbar": {
              "outlinewidth": 0,
              "ticks": ""
             }
            },
            "type": "scattergeo"
           }
          ],
          "scattergl": [
           {
            "marker": {
             "colorbar": {
              "outlinewidth": 0,
              "ticks": ""
             }
            },
            "type": "scattergl"
           }
          ],
          "scattermapbox": [
           {
            "marker": {
             "colorbar": {
              "outlinewidth": 0,
              "ticks": ""
             }
            },
            "type": "scattermapbox"
           }
          ],
          "scatterpolar": [
           {
            "marker": {
             "colorbar": {
              "outlinewidth": 0,
              "ticks": ""
             }
            },
            "type": "scatterpolar"
           }
          ],
          "scatterpolargl": [
           {
            "marker": {
             "colorbar": {
              "outlinewidth": 0,
              "ticks": ""
             }
            },
            "type": "scatterpolargl"
           }
          ],
          "scatterternary": [
           {
            "marker": {
             "colorbar": {
              "outlinewidth": 0,
              "ticks": ""
             }
            },
            "type": "scatterternary"
           }
          ],
          "surface": [
           {
            "colorbar": {
             "outlinewidth": 0,
             "ticks": ""
            },
            "colorscale": [
             [
              0.0,
              "#0d0887"
             ],
             [
              0.1111111111111111,
              "#46039f"
             ],
             [
              0.2222222222222222,
              "#7201a8"
             ],
             [
              0.3333333333333333,
              "#9c179e"
             ],
             [
              0.4444444444444444,
              "#bd3786"
             ],
             [
              0.5555555555555556,
              "#d8576b"
             ],
             [
              0.6666666666666666,
              "#ed7953"
             ],
             [
              0.7777777777777778,
              "#fb9f3a"
             ],
             [
              0.8888888888888888,
              "#fdca26"
             ],
             [
              1.0,
              "#f0f921"
             ]
            ],
            "type": "surface"
           }
          ],
          "table": [
           {
            "cells": {
             "fill": {
              "color": "#EBF0F8"
             },
             "line": {
              "color": "white"
             }
            },
            "header": {
             "fill": {
              "color": "#C8D4E3"
             },
             "line": {
              "color": "white"
             }
            },
            "type": "table"
           }
          ]
         },
         "layout": {
          "annotationdefaults": {
           "arrowcolor": "#2a3f5f",
           "arrowhead": 0,
           "arrowwidth": 1
          },
          "autotypenumbers": "strict",
          "coloraxis": {
           "colorbar": {
            "outlinewidth": 0,
            "ticks": ""
           }
          },
          "colorscale": {
           "diverging": [
            [
             0,
             "#8e0152"
            ],
            [
             0.1,
             "#c51b7d"
            ],
            [
             0.2,
             "#de77ae"
            ],
            [
             0.3,
             "#f1b6da"
            ],
            [
             0.4,
             "#fde0ef"
            ],
            [
             0.5,
             "#f7f7f7"
            ],
            [
             0.6,
             "#e6f5d0"
            ],
            [
             0.7,
             "#b8e186"
            ],
            [
             0.8,
             "#7fbc41"
            ],
            [
             0.9,
             "#4d9221"
            ],
            [
             1,
             "#276419"
            ]
           ],
           "sequential": [
            [
             0.0,
             "#0d0887"
            ],
            [
             0.1111111111111111,
             "#46039f"
            ],
            [
             0.2222222222222222,
             "#7201a8"
            ],
            [
             0.3333333333333333,
             "#9c179e"
            ],
            [
             0.4444444444444444,
             "#bd3786"
            ],
            [
             0.5555555555555556,
             "#d8576b"
            ],
            [
             0.6666666666666666,
             "#ed7953"
            ],
            [
             0.7777777777777778,
             "#fb9f3a"
            ],
            [
             0.8888888888888888,
             "#fdca26"
            ],
            [
             1.0,
             "#f0f921"
            ]
           ],
           "sequentialminus": [
            [
             0.0,
             "#0d0887"
            ],
            [
             0.1111111111111111,
             "#46039f"
            ],
            [
             0.2222222222222222,
             "#7201a8"
            ],
            [
             0.3333333333333333,
             "#9c179e"
            ],
            [
             0.4444444444444444,
             "#bd3786"
            ],
            [
             0.5555555555555556,
             "#d8576b"
            ],
            [
             0.6666666666666666,
             "#ed7953"
            ],
            [
             0.7777777777777778,
             "#fb9f3a"
            ],
            [
             0.8888888888888888,
             "#fdca26"
            ],
            [
             1.0,
             "#f0f921"
            ]
           ]
          },
          "colorway": [
           "#636efa",
           "#EF553B",
           "#00cc96",
           "#ab63fa",
           "#FFA15A",
           "#19d3f3",
           "#FF6692",
           "#B6E880",
           "#FF97FF",
           "#FECB52"
          ],
          "font": {
           "color": "#2a3f5f"
          },
          "geo": {
           "bgcolor": "white",
           "lakecolor": "white",
           "landcolor": "#E5ECF6",
           "showlakes": true,
           "showland": true,
           "subunitcolor": "white"
          },
          "hoverlabel": {
           "align": "left"
          },
          "hovermode": "closest",
          "mapbox": {
           "style": "light"
          },
          "paper_bgcolor": "white",
          "plot_bgcolor": "#E5ECF6",
          "polar": {
           "angularaxis": {
            "gridcolor": "white",
            "linecolor": "white",
            "ticks": ""
           },
           "bgcolor": "#E5ECF6",
           "radialaxis": {
            "gridcolor": "white",
            "linecolor": "white",
            "ticks": ""
           }
          },
          "scene": {
           "xaxis": {
            "backgroundcolor": "#E5ECF6",
            "gridcolor": "white",
            "gridwidth": 2,
            "linecolor": "white",
            "showbackground": true,
            "ticks": "",
            "zerolinecolor": "white"
           },
           "yaxis": {
            "backgroundcolor": "#E5ECF6",
            "gridcolor": "white",
            "gridwidth": 2,
            "linecolor": "white",
            "showbackground": true,
            "ticks": "",
            "zerolinecolor": "white"
           },
           "zaxis": {
            "backgroundcolor": "#E5ECF6",
            "gridcolor": "white",
            "gridwidth": 2,
            "linecolor": "white",
            "showbackground": true,
            "ticks": "",
            "zerolinecolor": "white"
           }
          },
          "shapedefaults": {
           "line": {
            "color": "#2a3f5f"
           }
          },
          "ternary": {
           "aaxis": {
            "gridcolor": "white",
            "linecolor": "white",
            "ticks": ""
           },
           "baxis": {
            "gridcolor": "white",
            "linecolor": "white",
            "ticks": ""
           },
           "bgcolor": "#E5ECF6",
           "caxis": {
            "gridcolor": "white",
            "linecolor": "white",
            "ticks": ""
           }
          },
          "title": {
           "x": 0.05
          },
          "xaxis": {
           "automargin": true,
           "gridcolor": "white",
           "linecolor": "white",
           "ticks": "",
           "title": {
            "standoff": 15
           },
           "zerolinecolor": "white",
           "zerolinewidth": 2
          },
          "yaxis": {
           "automargin": true,
           "gridcolor": "white",
           "linecolor": "white",
           "ticks": "",
           "title": {
            "standoff": 15
           },
           "zerolinecolor": "white",
           "zerolinewidth": 2
          }
         }
        },
        "geo": {
         "domain": {
          "x": [
           0.0,
           1.0
          ],
          "y": [
           0.0,
           1.0
          ]
         },
         "center": {}
        },
        "coloraxis": {
         "colorbar": {
          "title": {
           "text": "Number of cancellations"
          }
         },
         "colorscale": [
          [
           0.0,
           "#0d0887"
          ],
          [
           0.1111111111111111,
           "#46039f"
          ],
          [
           0.2222222222222222,
           "#7201a8"
          ],
          [
           0.3333333333333333,
           "#9c179e"
          ],
          [
           0.4444444444444444,
           "#bd3786"
          ],
          [
           0.5555555555555556,
           "#d8576b"
          ],
          [
           0.6666666666666666,
           "#ed7953"
          ],
          [
           0.7777777777777778,
           "#fb9f3a"
          ],
          [
           0.8888888888888888,
           "#fdca26"
          ],
          [
           1.0,
           "#f0f921"
          ]
         ]
        },
        "legend": {
         "tracegroupgap": 0
        },
        "title": {
         "text": "Home country of cancellations"
        }
       },
       "config": {
        "plotlyServerURL": "https://plot.ly"
       }
      },
      "text/html": "<div>                            <div id=\"89780179-385e-412f-bc18-d44f7845c8e6\" class=\"plotly-graph-div\" style=\"height:525px; width:100%;\"></div>            <script type=\"text/javascript\">                require([\"plotly\"], function(Plotly) {                    window.PLOTLYENV=window.PLOTLYENV || {};                                    if (document.getElementById(\"89780179-385e-412f-bc18-d44f7845c8e6\")) {                    Plotly.newPlot(                        \"89780179-385e-412f-bc18-d44f7845c8e6\",                        [{\"coloraxis\":\"coloraxis\",\"geo\":\"geo\",\"hovertemplate\":\"<b>%{hovertext}</b><br><br>Country=%{location}<br>Number of cancellations=%{z}<extra></extra>\",\"hovertext\":[\"PRT\",\"GBR\",\"ESP\",\"FRA\",\"ITA\",\"DEU\",\"IRL\",\"BRA\",\"USA\",\"BEL\",\"CHN\",\"CHE\",\"NLD\",\"CN\",\"RUS\",\"AUT\",\"SWE\",\"POL\",\"AGO\",\"NOR\",\"ISR\",\"ROU\",\"LUX\",\"MAR\",\"DNK\",\"AUS\",\"TUR\",\"HUN\",\"FIN\",\"KOR\",\"ARG\",\"ARE\",\"CZE\",\"IND\",\"GRC\",\"SAU\",\"ZAF\",\"JPN\",\"HKG\",\"PHL\",\"HRV\",\"IDN\",\"SVK\",\"IRN\",\"COL\",\"DZA\",\"NGA\",\"UKR\",\"MOZ\",\"TUN\",\"EST\",\"THA\",\"SGP\",\"CHL\",\"MAC\",\"SVN\",\"GEO\",\"TWN\",\"VEN\",\"CPV\",\"BGR\",\"GIB\",\"CYP\",\"QAT\",\"EGY\",\"MEX\",\"BLR\",\"MDV\",\"BGD\",\"URY\",\"PAK\",\"AZE\",\"LVA\",\"LBN\",\"JEY\",\"SEN\",\"DOM\",\"TJK\",\"ECU\",\"LTU\",\"NZL\",\"PER\",\"KWT\",\"MLT\",\"AND\",\"KAZ\",\"FRO\",\"BHR\",\"OMN\",\"ISL\",\"TZA\",\"GGY\",\"BIH\",\"BEN\",\"JOR\",\"MYS\",\"SRB\",\"GLP\",\"GHA\",\"KEN\",\"PRI\",\"VNM\",\"MKD\",\"MYT\",\"GAB\",\"CIV\",\"MNE\",\"ARM\",\"KHM\",\"IMN\",\"UZB\",\"ZWE\",\"ALB\",\"NIC\",\"TMP\",\"VGB\",\"MCO\",\"MUS\",\"LIE\",\"GNB\",\"ETH\",\"ZMB\",\"UMI\",\"HND\",\"FJI\",\"SYC\",\"CRI\"],\"locations\":[\"PRT\",\"GBR\",\"ESP\",\"FRA\",\"ITA\",\"DEU\",\"IRL\",\"BRA\",\"USA\",\"BEL\",\"CHN\",\"CHE\",\"NLD\",\"CN\",\"RUS\",\"AUT\",\"SWE\",\"POL\",\"AGO\",\"NOR\",\"ISR\",\"ROU\",\"LUX\",\"MAR\",\"DNK\",\"AUS\",\"TUR\",\"HUN\",\"FIN\",\"KOR\",\"ARG\",\"ARE\",\"CZE\",\"IND\",\"GRC\",\"SAU\",\"ZAF\",\"JPN\",\"HKG\",\"PHL\",\"HRV\",\"IDN\",\"SVK\",\"IRN\",\"COL\",\"DZA\",\"NGA\",\"UKR\",\"MOZ\",\"TUN\",\"EST\",\"THA\",\"SGP\",\"CHL\",\"MAC\",\"SVN\",\"GEO\",\"TWN\",\"VEN\",\"CPV\",\"BGR\",\"GIB\",\"CYP\",\"QAT\",\"EGY\",\"MEX\",\"BLR\",\"MDV\",\"BGD\",\"URY\",\"PAK\",\"AZE\",\"LVA\",\"LBN\",\"JEY\",\"SEN\",\"DOM\",\"TJK\",\"ECU\",\"LTU\",\"NZL\",\"PER\",\"KWT\",\"MLT\",\"AND\",\"KAZ\",\"FRO\",\"BHR\",\"OMN\",\"ISL\",\"TZA\",\"GGY\",\"BIH\",\"BEN\",\"JOR\",\"MYS\",\"SRB\",\"GLP\",\"GHA\",\"KEN\",\"PRI\",\"VNM\",\"MKD\",\"MYT\",\"GAB\",\"CIV\",\"MNE\",\"ARM\",\"KHM\",\"IMN\",\"UZB\",\"ZWE\",\"ALB\",\"NIC\",\"TMP\",\"VGB\",\"MCO\",\"MUS\",\"LIE\",\"GNB\",\"ETH\",\"ZMB\",\"UMI\",\"HND\",\"FJI\",\"SYC\",\"CRI\"],\"name\":\"\",\"z\":[27519,2453,2177,1934,1333,1218,832,830,501,474,462,428,387,254,239,230,227,215,205,181,169,134,109,109,109,107,102,77,69,55,54,43,37,35,35,33,31,28,26,25,25,24,24,23,23,21,21,20,19,19,18,18,16,16,15,15,15,14,12,12,12,11,11,11,11,10,9,9,9,9,9,9,9,9,8,8,8,8,8,7,6,6,6,5,5,5,4,4,4,4,3,3,3,3,3,3,3,2,2,2,2,2,2,2,2,2,2,2,2,2,2,2,2,1,1,1,1,1,1,1,1,1,1,1,1,1,1],\"type\":\"choropleth\"}],                        {\"template\":{\"data\":{\"bar\":[{\"error_x\":{\"color\":\"#2a3f5f\"},\"error_y\":{\"color\":\"#2a3f5f\"},\"marker\":{\"line\":{\"color\":\"#E5ECF6\",\"width\":0.5},\"pattern\":{\"fillmode\":\"overlay\",\"size\":10,\"solidity\":0.2}},\"type\":\"bar\"}],\"barpolar\":[{\"marker\":{\"line\":{\"color\":\"#E5ECF6\",\"width\":0.5},\"pattern\":{\"fillmode\":\"overlay\",\"size\":10,\"solidity\":0.2}},\"type\":\"barpolar\"}],\"carpet\":[{\"aaxis\":{\"endlinecolor\":\"#2a3f5f\",\"gridcolor\":\"white\",\"linecolor\":\"white\",\"minorgridcolor\":\"white\",\"startlinecolor\":\"#2a3f5f\"},\"baxis\":{\"endlinecolor\":\"#2a3f5f\",\"gridcolor\":\"white\",\"linecolor\":\"white\",\"minorgridcolor\":\"white\",\"startlinecolor\":\"#2a3f5f\"},\"type\":\"carpet\"}],\"choropleth\":[{\"colorbar\":{\"outlinewidth\":0,\"ticks\":\"\"},\"type\":\"choropleth\"}],\"contour\":[{\"colorbar\":{\"outlinewidth\":0,\"ticks\":\"\"},\"colorscale\":[[0.0,\"#0d0887\"],[0.1111111111111111,\"#46039f\"],[0.2222222222222222,\"#7201a8\"],[0.3333333333333333,\"#9c179e\"],[0.4444444444444444,\"#bd3786\"],[0.5555555555555556,\"#d8576b\"],[0.6666666666666666,\"#ed7953\"],[0.7777777777777778,\"#fb9f3a\"],[0.8888888888888888,\"#fdca26\"],[1.0,\"#f0f921\"]],\"type\":\"contour\"}],\"contourcarpet\":[{\"colorbar\":{\"outlinewidth\":0,\"ticks\":\"\"},\"type\":\"contourcarpet\"}],\"heatmap\":[{\"colorbar\":{\"outlinewidth\":0,\"ticks\":\"\"},\"colorscale\":[[0.0,\"#0d0887\"],[0.1111111111111111,\"#46039f\"],[0.2222222222222222,\"#7201a8\"],[0.3333333333333333,\"#9c179e\"],[0.4444444444444444,\"#bd3786\"],[0.5555555555555556,\"#d8576b\"],[0.6666666666666666,\"#ed7953\"],[0.7777777777777778,\"#fb9f3a\"],[0.8888888888888888,\"#fdca26\"],[1.0,\"#f0f921\"]],\"type\":\"heatmap\"}],\"heatmapgl\":[{\"colorbar\":{\"outlinewidth\":0,\"ticks\":\"\"},\"colorscale\":[[0.0,\"#0d0887\"],[0.1111111111111111,\"#46039f\"],[0.2222222222222222,\"#7201a8\"],[0.3333333333333333,\"#9c179e\"],[0.4444444444444444,\"#bd3786\"],[0.5555555555555556,\"#d8576b\"],[0.6666666666666666,\"#ed7953\"],[0.7777777777777778,\"#fb9f3a\"],[0.8888888888888888,\"#fdca26\"],[1.0,\"#f0f921\"]],\"type\":\"heatmapgl\"}],\"histogram\":[{\"marker\":{\"pattern\":{\"fillmode\":\"overlay\",\"size\":10,\"solidity\":0.2}},\"type\":\"histogram\"}],\"histogram2d\":[{\"colorbar\":{\"outlinewidth\":0,\"ticks\":\"\"},\"colorscale\":[[0.0,\"#0d0887\"],[0.1111111111111111,\"#46039f\"],[0.2222222222222222,\"#7201a8\"],[0.3333333333333333,\"#9c179e\"],[0.4444444444444444,\"#bd3786\"],[0.5555555555555556,\"#d8576b\"],[0.6666666666666666,\"#ed7953\"],[0.7777777777777778,\"#fb9f3a\"],[0.8888888888888888,\"#fdca26\"],[1.0,\"#f0f921\"]],\"type\":\"histogram2d\"}],\"histogram2dcontour\":[{\"colorbar\":{\"outlinewidth\":0,\"ticks\":\"\"},\"colorscale\":[[0.0,\"#0d0887\"],[0.1111111111111111,\"#46039f\"],[0.2222222222222222,\"#7201a8\"],[0.3333333333333333,\"#9c179e\"],[0.4444444444444444,\"#bd3786\"],[0.5555555555555556,\"#d8576b\"],[0.6666666666666666,\"#ed7953\"],[0.7777777777777778,\"#fb9f3a\"],[0.8888888888888888,\"#fdca26\"],[1.0,\"#f0f921\"]],\"type\":\"histogram2dcontour\"}],\"mesh3d\":[{\"colorbar\":{\"outlinewidth\":0,\"ticks\":\"\"},\"type\":\"mesh3d\"}],\"parcoords\":[{\"line\":{\"colorbar\":{\"outlinewidth\":0,\"ticks\":\"\"}},\"type\":\"parcoords\"}],\"pie\":[{\"automargin\":true,\"type\":\"pie\"}],\"scatter\":[{\"marker\":{\"colorbar\":{\"outlinewidth\":0,\"ticks\":\"\"}},\"type\":\"scatter\"}],\"scatter3d\":[{\"line\":{\"colorbar\":{\"outlinewidth\":0,\"ticks\":\"\"}},\"marker\":{\"colorbar\":{\"outlinewidth\":0,\"ticks\":\"\"}},\"type\":\"scatter3d\"}],\"scattercarpet\":[{\"marker\":{\"colorbar\":{\"outlinewidth\":0,\"ticks\":\"\"}},\"type\":\"scattercarpet\"}],\"scattergeo\":[{\"marker\":{\"colorbar\":{\"outlinewidth\":0,\"ticks\":\"\"}},\"type\":\"scattergeo\"}],\"scattergl\":[{\"marker\":{\"colorbar\":{\"outlinewidth\":0,\"ticks\":\"\"}},\"type\":\"scattergl\"}],\"scattermapbox\":[{\"marker\":{\"colorbar\":{\"outlinewidth\":0,\"ticks\":\"\"}},\"type\":\"scattermapbox\"}],\"scatterpolar\":[{\"marker\":{\"colorbar\":{\"outlinewidth\":0,\"ticks\":\"\"}},\"type\":\"scatterpolar\"}],\"scatterpolargl\":[{\"marker\":{\"colorbar\":{\"outlinewidth\":0,\"ticks\":\"\"}},\"type\":\"scatterpolargl\"}],\"scatterternary\":[{\"marker\":{\"colorbar\":{\"outlinewidth\":0,\"ticks\":\"\"}},\"type\":\"scatterternary\"}],\"surface\":[{\"colorbar\":{\"outlinewidth\":0,\"ticks\":\"\"},\"colorscale\":[[0.0,\"#0d0887\"],[0.1111111111111111,\"#46039f\"],[0.2222222222222222,\"#7201a8\"],[0.3333333333333333,\"#9c179e\"],[0.4444444444444444,\"#bd3786\"],[0.5555555555555556,\"#d8576b\"],[0.6666666666666666,\"#ed7953\"],[0.7777777777777778,\"#fb9f3a\"],[0.8888888888888888,\"#fdca26\"],[1.0,\"#f0f921\"]],\"type\":\"surface\"}],\"table\":[{\"cells\":{\"fill\":{\"color\":\"#EBF0F8\"},\"line\":{\"color\":\"white\"}},\"header\":{\"fill\":{\"color\":\"#C8D4E3\"},\"line\":{\"color\":\"white\"}},\"type\":\"table\"}]},\"layout\":{\"annotationdefaults\":{\"arrowcolor\":\"#2a3f5f\",\"arrowhead\":0,\"arrowwidth\":1},\"autotypenumbers\":\"strict\",\"coloraxis\":{\"colorbar\":{\"outlinewidth\":0,\"ticks\":\"\"}},\"colorscale\":{\"diverging\":[[0,\"#8e0152\"],[0.1,\"#c51b7d\"],[0.2,\"#de77ae\"],[0.3,\"#f1b6da\"],[0.4,\"#fde0ef\"],[0.5,\"#f7f7f7\"],[0.6,\"#e6f5d0\"],[0.7,\"#b8e186\"],[0.8,\"#7fbc41\"],[0.9,\"#4d9221\"],[1,\"#276419\"]],\"sequential\":[[0.0,\"#0d0887\"],[0.1111111111111111,\"#46039f\"],[0.2222222222222222,\"#7201a8\"],[0.3333333333333333,\"#9c179e\"],[0.4444444444444444,\"#bd3786\"],[0.5555555555555556,\"#d8576b\"],[0.6666666666666666,\"#ed7953\"],[0.7777777777777778,\"#fb9f3a\"],[0.8888888888888888,\"#fdca26\"],[1.0,\"#f0f921\"]],\"sequentialminus\":[[0.0,\"#0d0887\"],[0.1111111111111111,\"#46039f\"],[0.2222222222222222,\"#7201a8\"],[0.3333333333333333,\"#9c179e\"],[0.4444444444444444,\"#bd3786\"],[0.5555555555555556,\"#d8576b\"],[0.6666666666666666,\"#ed7953\"],[0.7777777777777778,\"#fb9f3a\"],[0.8888888888888888,\"#fdca26\"],[1.0,\"#f0f921\"]]},\"colorway\":[\"#636efa\",\"#EF553B\",\"#00cc96\",\"#ab63fa\",\"#FFA15A\",\"#19d3f3\",\"#FF6692\",\"#B6E880\",\"#FF97FF\",\"#FECB52\"],\"font\":{\"color\":\"#2a3f5f\"},\"geo\":{\"bgcolor\":\"white\",\"lakecolor\":\"white\",\"landcolor\":\"#E5ECF6\",\"showlakes\":true,\"showland\":true,\"subunitcolor\":\"white\"},\"hoverlabel\":{\"align\":\"left\"},\"hovermode\":\"closest\",\"mapbox\":{\"style\":\"light\"},\"paper_bgcolor\":\"white\",\"plot_bgcolor\":\"#E5ECF6\",\"polar\":{\"angularaxis\":{\"gridcolor\":\"white\",\"linecolor\":\"white\",\"ticks\":\"\"},\"bgcolor\":\"#E5ECF6\",\"radialaxis\":{\"gridcolor\":\"white\",\"linecolor\":\"white\",\"ticks\":\"\"}},\"scene\":{\"xaxis\":{\"backgroundcolor\":\"#E5ECF6\",\"gridcolor\":\"white\",\"gridwidth\":2,\"linecolor\":\"white\",\"showbackground\":true,\"ticks\":\"\",\"zerolinecolor\":\"white\"},\"yaxis\":{\"backgroundcolor\":\"#E5ECF6\",\"gridcolor\":\"white\",\"gridwidth\":2,\"linecolor\":\"white\",\"showbackground\":true,\"ticks\":\"\",\"zerolinecolor\":\"white\"},\"zaxis\":{\"backgroundcolor\":\"#E5ECF6\",\"gridcolor\":\"white\",\"gridwidth\":2,\"linecolor\":\"white\",\"showbackground\":true,\"ticks\":\"\",\"zerolinecolor\":\"white\"}},\"shapedefaults\":{\"line\":{\"color\":\"#2a3f5f\"}},\"ternary\":{\"aaxis\":{\"gridcolor\":\"white\",\"linecolor\":\"white\",\"ticks\":\"\"},\"baxis\":{\"gridcolor\":\"white\",\"linecolor\":\"white\",\"ticks\":\"\"},\"bgcolor\":\"#E5ECF6\",\"caxis\":{\"gridcolor\":\"white\",\"linecolor\":\"white\",\"ticks\":\"\"}},\"title\":{\"x\":0.05},\"xaxis\":{\"automargin\":true,\"gridcolor\":\"white\",\"linecolor\":\"white\",\"ticks\":\"\",\"title\":{\"standoff\":15},\"zerolinecolor\":\"white\",\"zerolinewidth\":2},\"yaxis\":{\"automargin\":true,\"gridcolor\":\"white\",\"linecolor\":\"white\",\"ticks\":\"\",\"title\":{\"standoff\":15},\"zerolinecolor\":\"white\",\"zerolinewidth\":2}}},\"geo\":{\"domain\":{\"x\":[0.0,1.0],\"y\":[0.0,1.0]},\"center\":{}},\"coloraxis\":{\"colorbar\":{\"title\":{\"text\":\"Number of cancellations\"}},\"colorscale\":[[0.0,\"#0d0887\"],[0.1111111111111111,\"#46039f\"],[0.2222222222222222,\"#7201a8\"],[0.3333333333333333,\"#9c179e\"],[0.4444444444444444,\"#bd3786\"],[0.5555555555555556,\"#d8576b\"],[0.6666666666666666,\"#ed7953\"],[0.7777777777777778,\"#fb9f3a\"],[0.8888888888888888,\"#fdca26\"],[1.0,\"#f0f921\"]]},\"legend\":{\"tracegroupgap\":0},\"title\":{\"text\":\"Home country of cancellations\"}},                        {\"responsive\": true}                    ).then(function(){\n                            \nvar gd = document.getElementById('89780179-385e-412f-bc18-d44f7845c8e6');\nvar x = new MutationObserver(function (mutations, observer) {{\n        var display = window.getComputedStyle(gd).display;\n        if (!display || display === 'none') {{\n            console.log([gd, 'removed!']);\n            Plotly.purge(gd);\n            observer.disconnect();\n        }}\n}});\n\n// Listen for the removal of the full notebook cells\nvar notebookContainer = gd.closest('#notebook-container');\nif (notebookContainer) {{\n    x.observe(notebookContainer, {childList: true});\n}}\n\n// Listen for the clearing of the current output cell\nvar outputEl = gd.closest('.output');\nif (outputEl) {{\n    x.observe(outputEl, {childList: true});\n}}\n\n                        })                };                });            </script>        </div>"
     },
     "metadata": {},
     "output_type": "display_data"
    }
   ],
   "source": [
    "px.choropleth(country_data, locations=country_data['Country'], color=country_data['Number of cancellations'],\n",
    "              hover_name=country_data['Country'], title='Home country of cancellations')"
   ],
   "metadata": {
    "collapsed": false,
    "pycharm": {
     "name": "#%%\n"
    }
   }
  },
  {
   "cell_type": "code",
   "execution_count": 35,
   "outputs": [],
   "source": [
    "resort = df[(df['hotel'] == 'Resort Hotel') & (df['is_canceled'] == 1)]\n",
    "city = df[(df['hotel'] == 'City Hotel') & (df['is_canceled'] == 1)]"
   ],
   "metadata": {
    "collapsed": false,
    "pycharm": {
     "name": "#%%\n"
    }
   }
  },
  {
   "cell_type": "code",
   "execution_count": 36,
   "outputs": [
    {
     "data": {
      "text/plain": "        month  number of cancellations\n0      August                     1637\n1        July                     1436\n2       April                     1059\n3         May                     1024\n4        June                     1007\n5   September                     1006\n6     October                      978\n7    February                      795\n8       March                      763\n9    December                      631\n10   November                      461\n11    January                      325",
      "text/html": "<div>\n<style scoped>\n    .dataframe tbody tr th:only-of-type {\n        vertical-align: middle;\n    }\n\n    .dataframe tbody tr th {\n        vertical-align: top;\n    }\n\n    .dataframe thead th {\n        text-align: right;\n    }\n</style>\n<table border=\"1\" class=\"dataframe\">\n  <thead>\n    <tr style=\"text-align: right;\">\n      <th></th>\n      <th>month</th>\n      <th>number of cancellations</th>\n    </tr>\n  </thead>\n  <tbody>\n    <tr>\n      <th>0</th>\n      <td>August</td>\n      <td>1637</td>\n    </tr>\n    <tr>\n      <th>1</th>\n      <td>July</td>\n      <td>1436</td>\n    </tr>\n    <tr>\n      <th>2</th>\n      <td>April</td>\n      <td>1059</td>\n    </tr>\n    <tr>\n      <th>3</th>\n      <td>May</td>\n      <td>1024</td>\n    </tr>\n    <tr>\n      <th>4</th>\n      <td>June</td>\n      <td>1007</td>\n    </tr>\n    <tr>\n      <th>5</th>\n      <td>September</td>\n      <td>1006</td>\n    </tr>\n    <tr>\n      <th>6</th>\n      <td>October</td>\n      <td>978</td>\n    </tr>\n    <tr>\n      <th>7</th>\n      <td>February</td>\n      <td>795</td>\n    </tr>\n    <tr>\n      <th>8</th>\n      <td>March</td>\n      <td>763</td>\n    </tr>\n    <tr>\n      <th>9</th>\n      <td>December</td>\n      <td>631</td>\n    </tr>\n    <tr>\n      <th>10</th>\n      <td>November</td>\n      <td>461</td>\n    </tr>\n    <tr>\n      <th>11</th>\n      <td>January</td>\n      <td>325</td>\n    </tr>\n  </tbody>\n</table>\n</div>"
     },
     "execution_count": 36,
     "metadata": {},
     "output_type": "execute_result"
    }
   ],
   "source": [
    "cancellations_resort = resort['arrival_date_month'].value_counts().reset_index()\n",
    "cancellations_resort.columns = ['month', 'number of cancellations']\n",
    "cancellations_resort"
   ],
   "metadata": {
    "collapsed": false,
    "pycharm": {
     "name": "#%%\n"
    }
   }
  },
  {
   "cell_type": "code",
   "execution_count": 37,
   "outputs": [
    {
     "data": {
      "text/plain": "        month  number of cancellations\n0         May                     3653\n1      August                     3602\n2        June                     3528\n3       April                     3465\n4        July                     3306\n5     October                     3268\n6   September                     3110\n7       March                     2386\n8    February                     1901\n9    December                     1740\n10   November                     1661\n11    January                     1482",
      "text/html": "<div>\n<style scoped>\n    .dataframe tbody tr th:only-of-type {\n        vertical-align: middle;\n    }\n\n    .dataframe tbody tr th {\n        vertical-align: top;\n    }\n\n    .dataframe thead th {\n        text-align: right;\n    }\n</style>\n<table border=\"1\" class=\"dataframe\">\n  <thead>\n    <tr style=\"text-align: right;\">\n      <th></th>\n      <th>month</th>\n      <th>number of cancellations</th>\n    </tr>\n  </thead>\n  <tbody>\n    <tr>\n      <th>0</th>\n      <td>May</td>\n      <td>3653</td>\n    </tr>\n    <tr>\n      <th>1</th>\n      <td>August</td>\n      <td>3602</td>\n    </tr>\n    <tr>\n      <th>2</th>\n      <td>June</td>\n      <td>3528</td>\n    </tr>\n    <tr>\n      <th>3</th>\n      <td>April</td>\n      <td>3465</td>\n    </tr>\n    <tr>\n      <th>4</th>\n      <td>July</td>\n      <td>3306</td>\n    </tr>\n    <tr>\n      <th>5</th>\n      <td>October</td>\n      <td>3268</td>\n    </tr>\n    <tr>\n      <th>6</th>\n      <td>September</td>\n      <td>3110</td>\n    </tr>\n    <tr>\n      <th>7</th>\n      <td>March</td>\n      <td>2386</td>\n    </tr>\n    <tr>\n      <th>8</th>\n      <td>February</td>\n      <td>1901</td>\n    </tr>\n    <tr>\n      <th>9</th>\n      <td>December</td>\n      <td>1740</td>\n    </tr>\n    <tr>\n      <th>10</th>\n      <td>November</td>\n      <td>1661</td>\n    </tr>\n    <tr>\n      <th>11</th>\n      <td>January</td>\n      <td>1482</td>\n    </tr>\n  </tbody>\n</table>\n</div>"
     },
     "execution_count": 37,
     "metadata": {},
     "output_type": "execute_result"
    }
   ],
   "source": [
    "cancellations_city = city['arrival_date_month'].value_counts().reset_index()\n",
    "cancellations_city.columns = ['month', 'number of cancellations']\n",
    "cancellations_city"
   ],
   "metadata": {
    "collapsed": false,
    "pycharm": {
     "name": "#%%\n"
    }
   }
  },
  {
   "cell_type": "code",
   "execution_count": 38,
   "outputs": [
    {
     "data": {
      "text/plain": "        month  number of cancellations in city  \\\n0         May                             3653   \n1      August                             3602   \n2        June                             3528   \n3       April                             3465   \n4        July                             3306   \n5     October                             3268   \n6   September                             3110   \n7       March                             2386   \n8    February                             1901   \n9    December                             1740   \n10   November                             1661   \n11    January                             1482   \n\n    number of cancellations in resort  \n0                                1024  \n1                                1637  \n2                                1007  \n3                                1059  \n4                                1436  \n5                                 978  \n6                                1006  \n7                                 763  \n8                                 795  \n9                                 631  \n10                                461  \n11                                325  ",
      "text/html": "<div>\n<style scoped>\n    .dataframe tbody tr th:only-of-type {\n        vertical-align: middle;\n    }\n\n    .dataframe tbody tr th {\n        vertical-align: top;\n    }\n\n    .dataframe thead th {\n        text-align: right;\n    }\n</style>\n<table border=\"1\" class=\"dataframe\">\n  <thead>\n    <tr style=\"text-align: right;\">\n      <th></th>\n      <th>month</th>\n      <th>number of cancellations in city</th>\n      <th>number of cancellations in resort</th>\n    </tr>\n  </thead>\n  <tbody>\n    <tr>\n      <th>0</th>\n      <td>May</td>\n      <td>3653</td>\n      <td>1024</td>\n    </tr>\n    <tr>\n      <th>1</th>\n      <td>August</td>\n      <td>3602</td>\n      <td>1637</td>\n    </tr>\n    <tr>\n      <th>2</th>\n      <td>June</td>\n      <td>3528</td>\n      <td>1007</td>\n    </tr>\n    <tr>\n      <th>3</th>\n      <td>April</td>\n      <td>3465</td>\n      <td>1059</td>\n    </tr>\n    <tr>\n      <th>4</th>\n      <td>July</td>\n      <td>3306</td>\n      <td>1436</td>\n    </tr>\n    <tr>\n      <th>5</th>\n      <td>October</td>\n      <td>3268</td>\n      <td>978</td>\n    </tr>\n    <tr>\n      <th>6</th>\n      <td>September</td>\n      <td>3110</td>\n      <td>1006</td>\n    </tr>\n    <tr>\n      <th>7</th>\n      <td>March</td>\n      <td>2386</td>\n      <td>763</td>\n    </tr>\n    <tr>\n      <th>8</th>\n      <td>February</td>\n      <td>1901</td>\n      <td>795</td>\n    </tr>\n    <tr>\n      <th>9</th>\n      <td>December</td>\n      <td>1740</td>\n      <td>631</td>\n    </tr>\n    <tr>\n      <th>10</th>\n      <td>November</td>\n      <td>1661</td>\n      <td>461</td>\n    </tr>\n    <tr>\n      <th>11</th>\n      <td>January</td>\n      <td>1482</td>\n      <td>325</td>\n    </tr>\n  </tbody>\n</table>\n</div>"
     },
     "execution_count": 38,
     "metadata": {},
     "output_type": "execute_result"
    }
   ],
   "source": [
    "final_cancellations = cancellations_city.merge(cancellations_resort, on='month')\n",
    "final_cancellations.columns= ['month', 'number of cancellations in city', 'number of cancellations in resort']\n",
    "final_cancellations"
   ],
   "metadata": {
    "collapsed": false,
    "pycharm": {
     "name": "#%%\n"
    }
   }
  },
  {
   "cell_type": "code",
   "execution_count": 69,
   "outputs": [
    {
     "data": {
      "text/plain": "        month  number of cancellations in city  \\\n0     January                             1482   \n1    February                             1901   \n2       March                             2386   \n3       April                             3465   \n4         May                             3653   \n5        June                             3528   \n6        July                             3306   \n7      August                             3602   \n8   September                             3110   \n9     October                             3268   \n10   November                             1661   \n11   December                             1740   \n\n    number of cancellations in resort  \n0                                 325  \n1                                 795  \n2                                 763  \n3                                1059  \n4                                1024  \n5                                1007  \n6                                1436  \n7                                1637  \n8                                1006  \n9                                 978  \n10                                461  \n11                                631  ",
      "text/html": "<div>\n<style scoped>\n    .dataframe tbody tr th:only-of-type {\n        vertical-align: middle;\n    }\n\n    .dataframe tbody tr th {\n        vertical-align: top;\n    }\n\n    .dataframe thead th {\n        text-align: right;\n    }\n</style>\n<table border=\"1\" class=\"dataframe\">\n  <thead>\n    <tr style=\"text-align: right;\">\n      <th></th>\n      <th>month</th>\n      <th>number of cancellations in city</th>\n      <th>number of cancellations in resort</th>\n    </tr>\n  </thead>\n  <tbody>\n    <tr>\n      <th>0</th>\n      <td>January</td>\n      <td>1482</td>\n      <td>325</td>\n    </tr>\n    <tr>\n      <th>1</th>\n      <td>February</td>\n      <td>1901</td>\n      <td>795</td>\n    </tr>\n    <tr>\n      <th>2</th>\n      <td>March</td>\n      <td>2386</td>\n      <td>763</td>\n    </tr>\n    <tr>\n      <th>3</th>\n      <td>April</td>\n      <td>3465</td>\n      <td>1059</td>\n    </tr>\n    <tr>\n      <th>4</th>\n      <td>May</td>\n      <td>3653</td>\n      <td>1024</td>\n    </tr>\n    <tr>\n      <th>5</th>\n      <td>June</td>\n      <td>3528</td>\n      <td>1007</td>\n    </tr>\n    <tr>\n      <th>6</th>\n      <td>July</td>\n      <td>3306</td>\n      <td>1436</td>\n    </tr>\n    <tr>\n      <th>7</th>\n      <td>August</td>\n      <td>3602</td>\n      <td>1637</td>\n    </tr>\n    <tr>\n      <th>8</th>\n      <td>September</td>\n      <td>3110</td>\n      <td>1006</td>\n    </tr>\n    <tr>\n      <th>9</th>\n      <td>October</td>\n      <td>3268</td>\n      <td>978</td>\n    </tr>\n    <tr>\n      <th>10</th>\n      <td>November</td>\n      <td>1661</td>\n      <td>461</td>\n    </tr>\n    <tr>\n      <th>11</th>\n      <td>December</td>\n      <td>1740</td>\n      <td>631</td>\n    </tr>\n  </tbody>\n</table>\n</div>"
     },
     "execution_count": 69,
     "metadata": {},
     "output_type": "execute_result"
    }
   ],
   "source": [
    "final_cancellations = sd.Sort_Dataframeby_Month(final_cancellations, 'month')\n",
    "final_cancellations"
   ],
   "metadata": {
    "collapsed": false,
    "pycharm": {
     "name": "#%%\n"
    }
   }
  },
  {
   "cell_type": "code",
   "execution_count": 72,
   "outputs": [
    {
     "data": {
      "text/plain": "<Figure size 864x576 with 1 Axes>",
      "image/png": "[encoded data removed]"
     },
     "metadata": {
      "needs_background": "light"
     },
     "output_type": "display_data"
    },
    {
     "data": {
      "text/plain": "<Figure size 864x576 with 1 Axes>",
      "image/png": "[encoded data removed]"
     },
     "metadata": {
      "needs_background": "light"
     },
     "output_type": "display_data"
    }
   ],
   "source": [
    "plt.figure(figsize=(12,8))\n",
    "sns.lineplot(x = \"month\", y = 'number of cancellations in city', data = final_cancellations)\n",
    "plt.show()\n",
    "plt.figure(figsize=(12,8))\n",
    "sns.lineplot(x = \"month\", y = 'number of cancellations in resort', data = final_cancellations)\n",
    "plt.show()"
   ],
   "metadata": {
    "collapsed": false,
    "pycharm": {
     "name": "#%%\n"
    }
   }
  },
  {
   "cell_type": "code",
   "execution_count": 1,
   "outputs": [
    {
     "name": "stdout",
     "output_type": "stream",
     "text": [
      "Finish analysis\n"
     ]
    }
   ],
   "source": [
    "print('Finish analysis')"
   ],
   "metadata": {
    "collapsed": false,
    "pycharm": {
     "name": "#%%\n"
    }
   }
  },
  {
   "cell_type": "code",
   "execution_count": null,
   "outputs": [],
   "source": [],
   "metadata": {
    "collapsed": false,
    "pycharm": {
     "name": "#%%\n"
    }
   }
  }
 ],
 "metadata": {
  "kernelspec": {
   "display_name": "Python 3 (ipykernel)",
   "language": "python",
   "name": "python3"
  },
  "language_info": {
   "codemirror_mode": {
    "name": "ipython",
    "version": 3
   },
   "file_extension": ".py",
   "mimetype": "text/x-python",
   "name": "python",
   "nbconvert_exporter": "python",
   "pygments_lexer": "ipython3",
   "version": "3.10.0"
  }
 },
 "nbformat": 4,
 "nbformat_minor": 1
}