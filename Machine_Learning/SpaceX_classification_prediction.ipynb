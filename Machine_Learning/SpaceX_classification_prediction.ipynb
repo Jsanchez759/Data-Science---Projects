{
 "cells": [
  {
   "cell_type": "markdown",
   "source": [
    "### The main idea es predict whether spacex will attempt to land a rocket or not using Spacex API Rest"
   ],
   "metadata": {
    "collapsed": false
   }
  },
  {
   "cell_type": "code",
   "execution_count": 69,
   "outputs": [],
   "source": [
    "import requests\n",
    "import pandas as pd\n",
    "import numpy as np\n",
    "import matplotlib.pyplot as plt\n",
    "import seaborn as sns\n",
    "import warnings\n",
    "warnings.filterwarnings('ignore')\n",
    "from sklearn.preprocessing import MinMaxScaler\n",
    "from sklearn.model_selection import train_test_split\n",
    "from sklearn.model_selection import GridSearchCV\n",
    "from sklearn.linear_model import LogisticRegression\n",
    "from sklearn.svm import SVC\n",
    "from sklearn.tree import DecisionTreeClassifier\n",
    "from sklearn.neighbors import KNeighborsClassifier"
   ],
   "metadata": {
    "collapsed": false,
    "pycharm": {
     "name": "#%%\n"
    }
   }
  },
  {
   "cell_type": "markdown",
   "source": [
    "### From the SpaceX API"
   ],
   "metadata": {
    "collapsed": false
   }
  },
  {
   "cell_type": "code",
   "execution_count": 44,
   "metadata": {
    "collapsed": true
   },
   "outputs": [],
   "source": [
    "spacex_url=\"https://api.spacexdata.com/v4/launches/past\"\n",
    "response = requests.get(spacex_url)"
   ]
  },
  {
   "cell_type": "code",
   "execution_count": 45,
   "outputs": [
    {
     "data": {
      "text/plain": "       static_fire_date_utc  static_fire_date_unix    net  window  \\\n0  2006-03-17T00:00:00.000Z           1.142554e+09  False     0.0   \n1                      None                    NaN  False     0.0   \n2                      None                    NaN  False     0.0   \n3  2008-09-20T00:00:00.000Z           1.221869e+09  False     0.0   \n4                      None                    NaN  False     0.0   \n\n                     rocket  success  \\\n0  5e9d0d95eda69955f709d1eb    False   \n1  5e9d0d95eda69955f709d1eb    False   \n2  5e9d0d95eda69955f709d1eb    False   \n3  5e9d0d95eda69955f709d1eb     True   \n4  5e9d0d95eda69955f709d1eb     True   \n\n                                            failures  \\\n0  [{'time': 33, 'altitude': None, 'reason': 'mer...   \n1  [{'time': 301, 'altitude': 289, 'reason': 'har...   \n2  [{'time': 140, 'altitude': 35, 'reason': 'resi...   \n3                                                 []   \n4                                                 []   \n\n                                             details crew ships  ...  \\\n0   Engine failure at 33 seconds and loss of vehicle   []    []  ...   \n1  Successful first stage burn and transition to ...   []    []  ...   \n2  Residual stage 1 thrust led to collision betwe...   []    []  ...   \n3  Ratsat was carried to orbit on the first succe...   []    []  ...   \n4                                               None   []    []  ...   \n\n  links.reddit.media links.reddit.recovery links.flickr.small  \\\n0               None                  None                 []   \n1               None                  None                 []   \n2               None                  None                 []   \n3               None                  None                 []   \n4               None                  None                 []   \n\n   links.flickr.original                                     links.presskit  \\\n0                     []                                               None   \n1                     []                                               None   \n2                     []                                               None   \n3                     []                                               None   \n4                     []  http://www.spacex.com/press/2012/12/19/spacexs...   \n\n                                 links.webcast  links.youtube_id  \\\n0  https://www.youtube.com/watch?v=0a_00nJ_Y88       0a_00nJ_Y88   \n1  https://www.youtube.com/watch?v=Lk4zQ2wP-Nc       Lk4zQ2wP-Nc   \n2  https://www.youtube.com/watch?v=v0w9p3U8860       v0w9p3U8860   \n3  https://www.youtube.com/watch?v=dLQ2tZEH6G0       dLQ2tZEH6G0   \n4  https://www.youtube.com/watch?v=yTaIDooc8Og       yTaIDooc8Og   \n\n                                       links.article  \\\n0  https://www.space.com/2196-spacex-inaugural-fa...   \n1  https://www.space.com/3590-spacex-falcon-1-roc...   \n2  http://www.spacex.com/news/2013/02/11/falcon-1...   \n3               https://en.wikipedia.org/wiki/Ratsat   \n4  http://www.spacex.com/news/2013/02/12/falcon-1...   \n\n                                     links.wikipedia  fairings  \n0              https://en.wikipedia.org/wiki/DemoSat       NaN  \n1              https://en.wikipedia.org/wiki/DemoSat       NaN  \n2  https://en.wikipedia.org/wiki/Trailblazer_(sat...       NaN  \n3               https://en.wikipedia.org/wiki/Ratsat       NaN  \n4             https://en.wikipedia.org/wiki/RazakSAT       NaN  \n\n[5 rows x 43 columns]",
      "text/html": "<div>\n<style scoped>\n    .dataframe tbody tr th:only-of-type {\n        vertical-align: middle;\n    }\n\n    .dataframe tbody tr th {\n        vertical-align: top;\n    }\n\n    .dataframe thead th {\n        text-align: right;\n    }\n</style>\n<table border=\"1\" class=\"dataframe\">\n  <thead>\n    <tr style=\"text-align: right;\">\n      <th></th>\n      <th>static_fire_date_utc</th>\n      <th>static_fire_date_unix</th>\n      <th>net</th>\n      <th>window</th>\n      <th>rocket</th>\n      <th>success</th>\n      <th>failures</th>\n      <th>details</th>\n      <th>crew</th>\n      <th>ships</th>\n      <th>...</th>\n      <th>links.reddit.media</th>\n      <th>links.reddit.recovery</th>\n      <th>links.flickr.small</th>\n      <th>links.flickr.original</th>\n      <th>links.presskit</th>\n      <th>links.webcast</th>\n      <th>links.youtube_id</th>\n      <th>links.article</th>\n      <th>links.wikipedia</th>\n      <th>fairings</th>\n    </tr>\n  </thead>\n  <tbody>\n    <tr>\n      <th>0</th>\n      <td>2006-03-17T00:00:00.000Z</td>\n      <td>1.142554e+09</td>\n      <td>False</td>\n      <td>0.0</td>\n      <td>5e9d0d95eda69955f709d1eb</td>\n      <td>False</td>\n      <td>[{'time': 33, 'altitude': None, 'reason': 'mer...</td>\n      <td>Engine failure at 33 seconds and loss of vehicle</td>\n      <td>[]</td>\n      <td>[]</td>\n      <td>...</td>\n      <td>None</td>\n      <td>None</td>\n      <td>[]</td>\n      <td>[]</td>\n      <td>None</td>\n      <td>https://www.youtube.com/watch?v=0a_00nJ_Y88</td>\n      <td>0a_00nJ_Y88</td>\n      <td>https://www.space.com/2196-spacex-inaugural-fa...</td>\n      <td>https://en.wikipedia.org/wiki/DemoSat</td>\n      <td>NaN</td>\n    </tr>\n    <tr>\n      <th>1</th>\n      <td>None</td>\n      <td>NaN</td>\n      <td>False</td>\n      <td>0.0</td>\n      <td>5e9d0d95eda69955f709d1eb</td>\n      <td>False</td>\n      <td>[{'time': 301, 'altitude': 289, 'reason': 'har...</td>\n      <td>Successful first stage burn and transition to ...</td>\n      <td>[]</td>\n      <td>[]</td>\n      <td>...</td>\n      <td>None</td>\n      <td>None</td>\n      <td>[]</td>\n      <td>[]</td>\n      <td>None</td>\n      <td>https://www.youtube.com/watch?v=Lk4zQ2wP-Nc</td>\n      <td>Lk4zQ2wP-Nc</td>\n      <td>https://www.space.com/3590-spacex-falcon-1-roc...</td>\n      <td>https://en.wikipedia.org/wiki/DemoSat</td>\n      <td>NaN</td>\n    </tr>\n    <tr>\n      <th>2</th>\n      <td>None</td>\n      <td>NaN</td>\n      <td>False</td>\n      <td>0.0</td>\n      <td>5e9d0d95eda69955f709d1eb</td>\n      <td>False</td>\n      <td>[{'time': 140, 'altitude': 35, 'reason': 'resi...</td>\n      <td>Residual stage 1 thrust led to collision betwe...</td>\n      <td>[]</td>\n      <td>[]</td>\n      <td>...</td>\n      <td>None</td>\n      <td>None</td>\n      <td>[]</td>\n      <td>[]</td>\n      <td>None</td>\n      <td>https://www.youtube.com/watch?v=v0w9p3U8860</td>\n      <td>v0w9p3U8860</td>\n      <td>http://www.spacex.com/news/2013/02/11/falcon-1...</td>\n      <td>https://en.wikipedia.org/wiki/Trailblazer_(sat...</td>\n      <td>NaN</td>\n    </tr>\n    <tr>\n      <th>3</th>\n      <td>2008-09-20T00:00:00.000Z</td>\n      <td>1.221869e+09</td>\n      <td>False</td>\n      <td>0.0</td>\n      <td>5e9d0d95eda69955f709d1eb</td>\n      <td>True</td>\n      <td>[]</td>\n      <td>Ratsat was carried to orbit on the first succe...</td>\n      <td>[]</td>\n      <td>[]</td>\n      <td>...</td>\n      <td>None</td>\n      <td>None</td>\n      <td>[]</td>\n      <td>[]</td>\n      <td>None</td>\n      <td>https://www.youtube.com/watch?v=dLQ2tZEH6G0</td>\n      <td>dLQ2tZEH6G0</td>\n      <td>https://en.wikipedia.org/wiki/Ratsat</td>\n      <td>https://en.wikipedia.org/wiki/Ratsat</td>\n      <td>NaN</td>\n    </tr>\n    <tr>\n      <th>4</th>\n      <td>None</td>\n      <td>NaN</td>\n      <td>False</td>\n      <td>0.0</td>\n      <td>5e9d0d95eda69955f709d1eb</td>\n      <td>True</td>\n      <td>[]</td>\n      <td>None</td>\n      <td>[]</td>\n      <td>[]</td>\n      <td>...</td>\n      <td>None</td>\n      <td>None</td>\n      <td>[]</td>\n      <td>[]</td>\n      <td>http://www.spacex.com/press/2012/12/19/spacexs...</td>\n      <td>https://www.youtube.com/watch?v=yTaIDooc8Og</td>\n      <td>yTaIDooc8Og</td>\n      <td>http://www.spacex.com/news/2013/02/12/falcon-1...</td>\n      <td>https://en.wikipedia.org/wiki/RazakSAT</td>\n      <td>NaN</td>\n    </tr>\n  </tbody>\n</table>\n<p>5 rows × 43 columns</p>\n</div>"
     },
     "execution_count": 45,
     "metadata": {},
     "output_type": "execute_result"
    }
   ],
   "source": [
    "data = pd.json_normalize(response.json())\n",
    "data.head()"
   ],
   "metadata": {
    "collapsed": false,
    "pycharm": {
     "name": "#%%\n"
    }
   }
  },
  {
   "cell_type": "code",
   "execution_count": 46,
   "outputs": [],
   "source": [
    "# Lets take a subset of our dataframe keeping only the features we want and the flight number, and date_utc.\n",
    "data = data[['rocket', 'payloads', 'launchpad', 'cores', 'flight_number', 'date_utc']]\n",
    "\n",
    "# We will remove rows with multiple cores because those are falcon rockets with 2 extra rocket boosters and rows that have multiple payloads in a single rocket.\n",
    "data = data[data['cores'].map(len) == 1]\n",
    "data = data[data['payloads'].map(len) == 1]\n",
    "\n",
    "# Since payloads and cores are lists of size 1 we will also extract the single value in the list and replace the feature.\n",
    "data['cores'] = data['cores'].map(lambda x : x[0])\n",
    "data['payloads'] = data['payloads'].map(lambda x : x[0])\n",
    "\n",
    "# We also want to convert the date_utc to a datetime datatype and then extracting the date leaving the time\n",
    "data['date'] = pd.to_datetime(data['date_utc']).dt.date"
   ],
   "metadata": {
    "collapsed": false,
    "pycharm": {
     "name": "#%%\n"
    }
   }
  },
  {
   "cell_type": "code",
   "execution_count": 47,
   "outputs": [
    {
     "data": {
      "text/plain": "                     rocket                  payloads  \\\n0  5e9d0d95eda69955f709d1eb  5eb0e4b5b6c3bb0006eeb1e1   \n1  5e9d0d95eda69955f709d1eb  5eb0e4b6b6c3bb0006eeb1e2   \n3  5e9d0d95eda69955f709d1eb  5eb0e4b7b6c3bb0006eeb1e5   \n4  5e9d0d95eda69955f709d1eb  5eb0e4b7b6c3bb0006eeb1e6   \n5  5e9d0d95eda69973a809d1ec  5eb0e4b7b6c3bb0006eeb1e7   \n\n                  launchpad  \\\n0  5e9e4502f5090995de566f86   \n1  5e9e4502f5090995de566f86   \n3  5e9e4502f5090995de566f86   \n4  5e9e4502f5090995de566f86   \n5  5e9e4501f509094ba4566f84   \n\n                                               cores  flight_number  \\\n0  {'core': '5e9e289df35918033d3b2623', 'flight':...              1   \n1  {'core': '5e9e289ef35918416a3b2624', 'flight':...              2   \n3  {'core': '5e9e289ef3591855dc3b2626', 'flight':...              4   \n4  {'core': '5e9e289ef359184f103b2627', 'flight':...              5   \n5  {'core': '5e9e289ef359185f2b3b2628', 'flight':...              6   \n\n                   date_utc        date  \n0  2006-03-24T22:30:00.000Z  2006-03-24  \n1  2007-03-21T01:10:00.000Z  2007-03-21  \n3  2008-09-28T23:15:00.000Z  2008-09-28  \n4  2009-07-13T03:35:00.000Z  2009-07-13  \n5  2010-06-04T18:45:00.000Z  2010-06-04  ",
      "text/html": "<div>\n<style scoped>\n    .dataframe tbody tr th:only-of-type {\n        vertical-align: middle;\n    }\n\n    .dataframe tbody tr th {\n        vertical-align: top;\n    }\n\n    .dataframe thead th {\n        text-align: right;\n    }\n</style>\n<table border=\"1\" class=\"dataframe\">\n  <thead>\n    <tr style=\"text-align: right;\">\n      <th></th>\n      <th>rocket</th>\n      <th>payloads</th>\n      <th>launchpad</th>\n      <th>cores</th>\n      <th>flight_number</th>\n      <th>date_utc</th>\n      <th>date</th>\n    </tr>\n  </thead>\n  <tbody>\n    <tr>\n      <th>0</th>\n      <td>5e9d0d95eda69955f709d1eb</td>\n      <td>5eb0e4b5b6c3bb0006eeb1e1</td>\n      <td>5e9e4502f5090995de566f86</td>\n      <td>{'core': '5e9e289df35918033d3b2623', 'flight':...</td>\n      <td>1</td>\n      <td>2006-03-24T22:30:00.000Z</td>\n      <td>2006-03-24</td>\n    </tr>\n    <tr>\n      <th>1</th>\n      <td>5e9d0d95eda69955f709d1eb</td>\n      <td>5eb0e4b6b6c3bb0006eeb1e2</td>\n      <td>5e9e4502f5090995de566f86</td>\n      <td>{'core': '5e9e289ef35918416a3b2624', 'flight':...</td>\n      <td>2</td>\n      <td>2007-03-21T01:10:00.000Z</td>\n      <td>2007-03-21</td>\n    </tr>\n    <tr>\n      <th>3</th>\n      <td>5e9d0d95eda69955f709d1eb</td>\n      <td>5eb0e4b7b6c3bb0006eeb1e5</td>\n      <td>5e9e4502f5090995de566f86</td>\n      <td>{'core': '5e9e289ef3591855dc3b2626', 'flight':...</td>\n      <td>4</td>\n      <td>2008-09-28T23:15:00.000Z</td>\n      <td>2008-09-28</td>\n    </tr>\n    <tr>\n      <th>4</th>\n      <td>5e9d0d95eda69955f709d1eb</td>\n      <td>5eb0e4b7b6c3bb0006eeb1e6</td>\n      <td>5e9e4502f5090995de566f86</td>\n      <td>{'core': '5e9e289ef359184f103b2627', 'flight':...</td>\n      <td>5</td>\n      <td>2009-07-13T03:35:00.000Z</td>\n      <td>2009-07-13</td>\n    </tr>\n    <tr>\n      <th>5</th>\n      <td>5e9d0d95eda69973a809d1ec</td>\n      <td>5eb0e4b7b6c3bb0006eeb1e7</td>\n      <td>5e9e4501f509094ba4566f84</td>\n      <td>{'core': '5e9e289ef359185f2b3b2628', 'flight':...</td>\n      <td>6</td>\n      <td>2010-06-04T18:45:00.000Z</td>\n      <td>2010-06-04</td>\n    </tr>\n  </tbody>\n</table>\n</div>"
     },
     "execution_count": 47,
     "metadata": {},
     "output_type": "execute_result"
    }
   ],
   "source": [
    "data.head()"
   ],
   "metadata": {
    "collapsed": false,
    "pycharm": {
     "name": "#%%\n"
    }
   }
  },
  {
   "cell_type": "code",
   "execution_count": 48,
   "outputs": [],
   "source": [
    "# Takes the dataset and uses the rocket column to call the API and append the data to the list\n",
    "# From the rocket column we would like to learn the booster name.\n",
    "BoosterVersion = []\n",
    "def getBoosterVersion(data):\n",
    "    for x in data['rocket']:\n",
    "        response = requests.get(\"https://api.spacexdata.com/v4/rockets/\"+str(x)).json()\n",
    "        BoosterVersion.append(response['name'])"
   ],
   "metadata": {
    "collapsed": false,
    "pycharm": {
     "name": "#%%\n"
    }
   }
  },
  {
   "cell_type": "code",
   "execution_count": 49,
   "outputs": [],
   "source": [
    "Longitude, Latitude, LaunchSite = [], [], []\n",
    "def getLaunchSite(data):\n",
    "    for x in data['launchpad']:\n",
    "        response = requests.get(\"https://api.spacexdata.com/v4/launchpads/\"+str(x)).json()\n",
    "        Longitude.append(response['longitude'])\n",
    "        Latitude.append(response['latitude'])\n",
    "        LaunchSite.append(response['name'])"
   ],
   "metadata": {
    "collapsed": false,
    "pycharm": {
     "name": "#%%\n"
    }
   }
  },
  {
   "cell_type": "code",
   "execution_count": 50,
   "outputs": [],
   "source": [
    "PayloadMass, Orbit = [], []\n",
    "def getPayloadData(data):\n",
    "    for load in data['payloads']:\n",
    "        response = requests.get(\"https://api.spacexdata.com/v4/payloads/\"+load).json()\n",
    "        PayloadMass.append(response['mass_kg'])\n",
    "        Orbit.append(response['orbit'])"
   ],
   "metadata": {
    "collapsed": false,
    "pycharm": {
     "name": "#%%\n"
    }
   }
  },
  {
   "cell_type": "code",
   "execution_count": 51,
   "outputs": [],
   "source": [
    "Block, ReusedCount, Serial, Outcome, Flights, GridFins, Reused, Legs, LandingPad = [], [], [], [], [], [], [], [], []\n",
    "def getCoreData(data):\n",
    "    for core in data['cores']:\n",
    "        if core['core'] != None:\n",
    "            response = requests.get(\"https://api.spacexdata.com/v4/cores/\"+core['core']).json()\n",
    "            Block.append(response['block'])\n",
    "            ReusedCount.append(response['reuse_count'])\n",
    "            Serial.append(response['serial'])\n",
    "        else:\n",
    "            Block.append(None)\n",
    "            ReusedCount.append(None)\n",
    "            Serial.append(None)\n",
    "        Outcome.append(str(core['landing_success'])+' '+str(core['landing_type']))\n",
    "        Flights.append(core['flight'])\n",
    "        GridFins.append(core['gridfins'])\n",
    "        Reused.append(core['reused'])\n",
    "        Legs.append(core['legs'])\n",
    "        LandingPad.append(core['landpad'])"
   ],
   "metadata": {
    "collapsed": false,
    "pycharm": {
     "name": "#%%\n"
    }
   }
  },
  {
   "cell_type": "code",
   "execution_count": 52,
   "outputs": [],
   "source": [
    "getBoosterVersion(data)\n",
    "getLaunchSite(data)\n",
    "getPayloadData(data)\n",
    "getCoreData(data)"
   ],
   "metadata": {
    "collapsed": false,
    "pycharm": {
     "name": "#%%\n"
    }
   }
  },
  {
   "cell_type": "code",
   "execution_count": 53,
   "outputs": [],
   "source": [
    "launch_dict = {'FlightNumber': list(data['flight_number']),\n",
    "               'Date': list(data['date']),\n",
    "               'BoosterVersion':BoosterVersion,\n",
    "               'PayloadMass':PayloadMass,\n",
    "               'Orbit':Orbit,\n",
    "               'LaunchSite':LaunchSite,\n",
    "               'Outcome':Outcome,\n",
    "               'Flights':Flights,\n",
    "               'GridFins':GridFins,\n",
    "               'Reused':Reused,\n",
    "               'Legs':Legs,\n",
    "               'LandingPad':LandingPad,\n",
    "               'Block':Block,\n",
    "               'ReusedCount':ReusedCount,\n",
    "               'Serial':Serial,\n",
    "               'Longitude': Longitude,\n",
    "               'Latitude': Latitude}"
   ],
   "metadata": {
    "collapsed": false,
    "pycharm": {
     "name": "#%%\n"
    }
   }
  },
  {
   "cell_type": "code",
   "execution_count": 54,
   "outputs": [
    {
     "data": {
      "text/plain": "     FlightNumber        Date BoosterVersion  PayloadMass Orbit  \\\n0               1  2006-03-24       Falcon 1         20.0   LEO   \n1               2  2007-03-21       Falcon 1          NaN   LEO   \n2               4  2008-09-28       Falcon 1        165.0   LEO   \n3               5  2009-07-13       Falcon 1        200.0   LEO   \n4               6  2010-06-04       Falcon 9          NaN   LEO   \n..            ...         ...            ...          ...   ...   \n138           152  2022-03-03       Falcon 9      13260.0  VLEO   \n139           153  2022-03-09       Falcon 9      13260.0  VLEO   \n140           154  2022-03-19       Falcon 9      13260.0  VLEO   \n141           155  2022-04-01       Falcon 9          NaN   SSO   \n142           156  2022-04-08       Falcon 9          NaN   ISS   \n\n          LaunchSite    Outcome  Flights  GridFins  Reused   Legs  \\\n0    Kwajalein Atoll  None None        1     False   False  False   \n1    Kwajalein Atoll  None None        1     False   False  False   \n2    Kwajalein Atoll  None None        1     False   False  False   \n3    Kwajalein Atoll  None None        1     False   False  False   \n4       CCSFS SLC 40  None None        1     False   False  False   \n..               ...        ...      ...       ...     ...    ...   \n138       KSC LC 39A  True ASDS       11      True    True   True   \n139     CCSFS SLC 40  True ASDS        4      True    True   True   \n140     CCSFS SLC 40  True ASDS       12      True    True   True   \n141     CCSFS SLC 40  True ASDS        7      True    True   True   \n142       KSC LC 39A  True ASDS        5      True    True   True   \n\n                   LandingPad  Block  ReusedCount    Serial   Longitude  \\\n0                        None    NaN            0  Merlin1A  167.743129   \n1                        None    NaN            0  Merlin2A  167.743129   \n2                        None    NaN            0  Merlin2C  167.743129   \n3                        None    NaN            0  Merlin3C  167.743129   \n4                        None    1.0            0     B0003  -80.577366   \n..                        ...    ...          ...       ...         ...   \n138  5e9e3033383ecbb9e534e7cc    5.0           10     B1060  -80.603956   \n139  5e9e3033383ecb075134e7cd    5.0            3     B1052  -80.577366   \n140  5e9e3033383ecbb9e534e7cc    5.0           11     B1051  -80.577366   \n141  5e9e3033383ecbb9e534e7cc    5.0            6     B1061  -80.577366   \n142  5e9e3033383ecb075134e7cd    5.0            4     B1062  -80.603956   \n\n      Latitude  \n0     9.047721  \n1     9.047721  \n2     9.047721  \n3     9.047721  \n4    28.561857  \n..         ...  \n138  28.608058  \n139  28.561857  \n140  28.561857  \n141  28.561857  \n142  28.608058  \n\n[143 rows x 17 columns]",
      "text/html": "<div>\n<style scoped>\n    .dataframe tbody tr th:only-of-type {\n        vertical-align: middle;\n    }\n\n    .dataframe tbody tr th {\n        vertical-align: top;\n    }\n\n    .dataframe thead th {\n        text-align: right;\n    }\n</style>\n<table border=\"1\" class=\"dataframe\">\n  <thead>\n    <tr style=\"text-align: right;\">\n      <th></th>\n      <th>FlightNumber</th>\n      <th>Date</th>\n      <th>BoosterVersion</th>\n      <th>PayloadMass</th>\n      <th>Orbit</th>\n      <th>LaunchSite</th>\n      <th>Outcome</th>\n      <th>Flights</th>\n      <th>GridFins</th>\n      <th>Reused</th>\n      <th>Legs</th>\n      <th>LandingPad</th>\n      <th>Block</th>\n      <th>ReusedCount</th>\n      <th>Serial</th>\n      <th>Longitude</th>\n      <th>Latitude</th>\n    </tr>\n  </thead>\n  <tbody>\n    <tr>\n      <th>0</th>\n      <td>1</td>\n      <td>2006-03-24</td>\n      <td>Falcon 1</td>\n      <td>20.0</td>\n      <td>LEO</td>\n      <td>Kwajalein Atoll</td>\n      <td>None None</td>\n      <td>1</td>\n      <td>False</td>\n      <td>False</td>\n      <td>False</td>\n      <td>None</td>\n      <td>NaN</td>\n      <td>0</td>\n      <td>Merlin1A</td>\n      <td>167.743129</td>\n      <td>9.047721</td>\n    </tr>\n    <tr>\n      <th>1</th>\n      <td>2</td>\n      <td>2007-03-21</td>\n      <td>Falcon 1</td>\n      <td>NaN</td>\n      <td>LEO</td>\n      <td>Kwajalein Atoll</td>\n      <td>None None</td>\n      <td>1</td>\n      <td>False</td>\n      <td>False</td>\n      <td>False</td>\n      <td>None</td>\n      <td>NaN</td>\n      <td>0</td>\n      <td>Merlin2A</td>\n      <td>167.743129</td>\n      <td>9.047721</td>\n    </tr>\n    <tr>\n      <th>2</th>\n      <td>4</td>\n      <td>2008-09-28</td>\n      <td>Falcon 1</td>\n      <td>165.0</td>\n      <td>LEO</td>\n      <td>Kwajalein Atoll</td>\n      <td>None None</td>\n      <td>1</td>\n      <td>False</td>\n      <td>False</td>\n      <td>False</td>\n      <td>None</td>\n      <td>NaN</td>\n      <td>0</td>\n      <td>Merlin2C</td>\n      <td>167.743129</td>\n      <td>9.047721</td>\n    </tr>\n    <tr>\n      <th>3</th>\n      <td>5</td>\n      <td>2009-07-13</td>\n      <td>Falcon 1</td>\n      <td>200.0</td>\n      <td>LEO</td>\n      <td>Kwajalein Atoll</td>\n      <td>None None</td>\n      <td>1</td>\n      <td>False</td>\n      <td>False</td>\n      <td>False</td>\n      <td>None</td>\n      <td>NaN</td>\n      <td>0</td>\n      <td>Merlin3C</td>\n      <td>167.743129</td>\n      <td>9.047721</td>\n    </tr>\n    <tr>\n      <th>4</th>\n      <td>6</td>\n      <td>2010-06-04</td>\n      <td>Falcon 9</td>\n      <td>NaN</td>\n      <td>LEO</td>\n      <td>CCSFS SLC 40</td>\n      <td>None None</td>\n      <td>1</td>\n      <td>False</td>\n      <td>False</td>\n      <td>False</td>\n      <td>None</td>\n      <td>1.0</td>\n      <td>0</td>\n      <td>B0003</td>\n      <td>-80.577366</td>\n      <td>28.561857</td>\n    </tr>\n    <tr>\n      <th>...</th>\n      <td>...</td>\n      <td>...</td>\n      <td>...</td>\n      <td>...</td>\n      <td>...</td>\n      <td>...</td>\n      <td>...</td>\n      <td>...</td>\n      <td>...</td>\n      <td>...</td>\n      <td>...</td>\n      <td>...</td>\n      <td>...</td>\n      <td>...</td>\n      <td>...</td>\n      <td>...</td>\n      <td>...</td>\n    </tr>\n    <tr>\n      <th>138</th>\n      <td>152</td>\n      <td>2022-03-03</td>\n      <td>Falcon 9</td>\n      <td>13260.0</td>\n      <td>VLEO</td>\n      <td>KSC LC 39A</td>\n      <td>True ASDS</td>\n      <td>11</td>\n      <td>True</td>\n      <td>True</td>\n      <td>True</td>\n      <td>5e9e3033383ecbb9e534e7cc</td>\n      <td>5.0</td>\n      <td>10</td>\n      <td>B1060</td>\n      <td>-80.603956</td>\n      <td>28.608058</td>\n    </tr>\n    <tr>\n      <th>139</th>\n      <td>153</td>\n      <td>2022-03-09</td>\n      <td>Falcon 9</td>\n      <td>13260.0</td>\n      <td>VLEO</td>\n      <td>CCSFS SLC 40</td>\n      <td>True ASDS</td>\n      <td>4</td>\n      <td>True</td>\n      <td>True</td>\n      <td>True</td>\n      <td>5e9e3033383ecb075134e7cd</td>\n      <td>5.0</td>\n      <td>3</td>\n      <td>B1052</td>\n      <td>-80.577366</td>\n      <td>28.561857</td>\n    </tr>\n    <tr>\n      <th>140</th>\n      <td>154</td>\n      <td>2022-03-19</td>\n      <td>Falcon 9</td>\n      <td>13260.0</td>\n      <td>VLEO</td>\n      <td>CCSFS SLC 40</td>\n      <td>True ASDS</td>\n      <td>12</td>\n      <td>True</td>\n      <td>True</td>\n      <td>True</td>\n      <td>5e9e3033383ecbb9e534e7cc</td>\n      <td>5.0</td>\n      <td>11</td>\n      <td>B1051</td>\n      <td>-80.577366</td>\n      <td>28.561857</td>\n    </tr>\n    <tr>\n      <th>141</th>\n      <td>155</td>\n      <td>2022-04-01</td>\n      <td>Falcon 9</td>\n      <td>NaN</td>\n      <td>SSO</td>\n      <td>CCSFS SLC 40</td>\n      <td>True ASDS</td>\n      <td>7</td>\n      <td>True</td>\n      <td>True</td>\n      <td>True</td>\n      <td>5e9e3033383ecbb9e534e7cc</td>\n      <td>5.0</td>\n      <td>6</td>\n      <td>B1061</td>\n      <td>-80.577366</td>\n      <td>28.561857</td>\n    </tr>\n    <tr>\n      <th>142</th>\n      <td>156</td>\n      <td>2022-04-08</td>\n      <td>Falcon 9</td>\n      <td>NaN</td>\n      <td>ISS</td>\n      <td>KSC LC 39A</td>\n      <td>True ASDS</td>\n      <td>5</td>\n      <td>True</td>\n      <td>True</td>\n      <td>True</td>\n      <td>5e9e3033383ecb075134e7cd</td>\n      <td>5.0</td>\n      <td>4</td>\n      <td>B1062</td>\n      <td>-80.603956</td>\n      <td>28.608058</td>\n    </tr>\n  </tbody>\n</table>\n<p>143 rows × 17 columns</p>\n</div>"
     },
     "execution_count": 54,
     "metadata": {},
     "output_type": "execute_result"
    }
   ],
   "source": [
    "df = pd.DataFrame.from_dict(launch_dict)\n",
    "df"
   ],
   "metadata": {
    "collapsed": false,
    "pycharm": {
     "name": "#%%\n"
    }
   }
  },
  {
   "cell_type": "markdown",
   "source": [
    "Finally we will remove the Falcon 1 launches keeping only the Falcon 9 launches"
   ],
   "metadata": {
    "collapsed": false
   }
  },
  {
   "cell_type": "code",
   "execution_count": 55,
   "outputs": [
    {
     "data": {
      "text/plain": "     FlightNumber        Date BoosterVersion  PayloadMass Orbit    LaunchSite  \\\n4               1  2010-06-04       Falcon 9          NaN   LEO  CCSFS SLC 40   \n5               2  2012-05-22       Falcon 9        525.0   LEO  CCSFS SLC 40   \n6               3  2013-03-01       Falcon 9        677.0   ISS  CCSFS SLC 40   \n7               4  2013-09-29       Falcon 9        500.0    PO   VAFB SLC 4E   \n8               5  2013-12-03       Falcon 9       3170.0   GTO  CCSFS SLC 40   \n..            ...         ...            ...          ...   ...           ...   \n138           135  2022-03-03       Falcon 9      13260.0  VLEO    KSC LC 39A   \n139           136  2022-03-09       Falcon 9      13260.0  VLEO  CCSFS SLC 40   \n140           137  2022-03-19       Falcon 9      13260.0  VLEO  CCSFS SLC 40   \n141           138  2022-04-01       Falcon 9          NaN   SSO  CCSFS SLC 40   \n142           139  2022-04-08       Falcon 9          NaN   ISS    KSC LC 39A   \n\n         Outcome  Flights  GridFins  Reused   Legs                LandingPad  \\\n4      None None        1     False   False  False                      None   \n5      None None        1     False   False  False                      None   \n6      None None        1     False   False  False                      None   \n7    False Ocean        1     False   False  False                      None   \n8      None None        1     False   False  False                      None   \n..           ...      ...       ...     ...    ...                       ...   \n138    True ASDS       11      True    True   True  5e9e3033383ecbb9e534e7cc   \n139    True ASDS        4      True    True   True  5e9e3033383ecb075134e7cd   \n140    True ASDS       12      True    True   True  5e9e3033383ecbb9e534e7cc   \n141    True ASDS        7      True    True   True  5e9e3033383ecbb9e534e7cc   \n142    True ASDS        5      True    True   True  5e9e3033383ecb075134e7cd   \n\n     Block  ReusedCount Serial   Longitude   Latitude  \n4      1.0            0  B0003  -80.577366  28.561857  \n5      1.0            0  B0005  -80.577366  28.561857  \n6      1.0            0  B0007  -80.577366  28.561857  \n7      1.0            0  B1003 -120.610829  34.632093  \n8      1.0            0  B1004  -80.577366  28.561857  \n..     ...          ...    ...         ...        ...  \n138    5.0           10  B1060  -80.603956  28.608058  \n139    5.0            3  B1052  -80.577366  28.561857  \n140    5.0           11  B1051  -80.577366  28.561857  \n141    5.0            6  B1061  -80.577366  28.561857  \n142    5.0            4  B1062  -80.603956  28.608058  \n\n[139 rows x 17 columns]",
      "text/html": "<div>\n<style scoped>\n    .dataframe tbody tr th:only-of-type {\n        vertical-align: middle;\n    }\n\n    .dataframe tbody tr th {\n        vertical-align: top;\n    }\n\n    .dataframe thead th {\n        text-align: right;\n    }\n</style>\n<table border=\"1\" class=\"dataframe\">\n  <thead>\n    <tr style=\"text-align: right;\">\n      <th></th>\n      <th>FlightNumber</th>\n      <th>Date</th>\n      <th>BoosterVersion</th>\n      <th>PayloadMass</th>\n      <th>Orbit</th>\n      <th>LaunchSite</th>\n      <th>Outcome</th>\n      <th>Flights</th>\n      <th>GridFins</th>\n      <th>Reused</th>\n      <th>Legs</th>\n      <th>LandingPad</th>\n      <th>Block</th>\n      <th>ReusedCount</th>\n      <th>Serial</th>\n      <th>Longitude</th>\n      <th>Latitude</th>\n    </tr>\n  </thead>\n  <tbody>\n    <tr>\n      <th>4</th>\n      <td>1</td>\n      <td>2010-06-04</td>\n      <td>Falcon 9</td>\n      <td>NaN</td>\n      <td>LEO</td>\n      <td>CCSFS SLC 40</td>\n      <td>None None</td>\n      <td>1</td>\n      <td>False</td>\n      <td>False</td>\n      <td>False</td>\n      <td>None</td>\n      <td>1.0</td>\n      <td>0</td>\n      <td>B0003</td>\n      <td>-80.577366</td>\n      <td>28.561857</td>\n    </tr>\n    <tr>\n      <th>5</th>\n      <td>2</td>\n      <td>2012-05-22</td>\n      <td>Falcon 9</td>\n      <td>525.0</td>\n      <td>LEO</td>\n      <td>CCSFS SLC 40</td>\n      <td>None None</td>\n      <td>1</td>\n      <td>False</td>\n      <td>False</td>\n      <td>False</td>\n      <td>None</td>\n      <td>1.0</td>\n      <td>0</td>\n      <td>B0005</td>\n      <td>-80.577366</td>\n      <td>28.561857</td>\n    </tr>\n    <tr>\n      <th>6</th>\n      <td>3</td>\n      <td>2013-03-01</td>\n      <td>Falcon 9</td>\n      <td>677.0</td>\n      <td>ISS</td>\n      <td>CCSFS SLC 40</td>\n      <td>None None</td>\n      <td>1</td>\n      <td>False</td>\n      <td>False</td>\n      <td>False</td>\n      <td>None</td>\n      <td>1.0</td>\n      <td>0</td>\n      <td>B0007</td>\n      <td>-80.577366</td>\n      <td>28.561857</td>\n    </tr>\n    <tr>\n      <th>7</th>\n      <td>4</td>\n      <td>2013-09-29</td>\n      <td>Falcon 9</td>\n      <td>500.0</td>\n      <td>PO</td>\n      <td>VAFB SLC 4E</td>\n      <td>False Ocean</td>\n      <td>1</td>\n      <td>False</td>\n      <td>False</td>\n      <td>False</td>\n      <td>None</td>\n      <td>1.0</td>\n      <td>0</td>\n      <td>B1003</td>\n      <td>-120.610829</td>\n      <td>34.632093</td>\n    </tr>\n    <tr>\n      <th>8</th>\n      <td>5</td>\n      <td>2013-12-03</td>\n      <td>Falcon 9</td>\n      <td>3170.0</td>\n      <td>GTO</td>\n      <td>CCSFS SLC 40</td>\n      <td>None None</td>\n      <td>1</td>\n      <td>False</td>\n      <td>False</td>\n      <td>False</td>\n      <td>None</td>\n      <td>1.0</td>\n      <td>0</td>\n      <td>B1004</td>\n      <td>-80.577366</td>\n      <td>28.561857</td>\n    </tr>\n    <tr>\n      <th>...</th>\n      <td>...</td>\n      <td>...</td>\n      <td>...</td>\n      <td>...</td>\n      <td>...</td>\n      <td>...</td>\n      <td>...</td>\n      <td>...</td>\n      <td>...</td>\n      <td>...</td>\n      <td>...</td>\n      <td>...</td>\n      <td>...</td>\n      <td>...</td>\n      <td>...</td>\n      <td>...</td>\n      <td>...</td>\n    </tr>\n    <tr>\n      <th>138</th>\n      <td>135</td>\n      <td>2022-03-03</td>\n      <td>Falcon 9</td>\n      <td>13260.0</td>\n      <td>VLEO</td>\n      <td>KSC LC 39A</td>\n      <td>True ASDS</td>\n      <td>11</td>\n      <td>True</td>\n      <td>True</td>\n      <td>True</td>\n      <td>5e9e3033383ecbb9e534e7cc</td>\n      <td>5.0</td>\n      <td>10</td>\n      <td>B1060</td>\n      <td>-80.603956</td>\n      <td>28.608058</td>\n    </tr>\n    <tr>\n      <th>139</th>\n      <td>136</td>\n      <td>2022-03-09</td>\n      <td>Falcon 9</td>\n      <td>13260.0</td>\n      <td>VLEO</td>\n      <td>CCSFS SLC 40</td>\n      <td>True ASDS</td>\n      <td>4</td>\n      <td>True</td>\n      <td>True</td>\n      <td>True</td>\n      <td>5e9e3033383ecb075134e7cd</td>\n      <td>5.0</td>\n      <td>3</td>\n      <td>B1052</td>\n      <td>-80.577366</td>\n      <td>28.561857</td>\n    </tr>\n    <tr>\n      <th>140</th>\n      <td>137</td>\n      <td>2022-03-19</td>\n      <td>Falcon 9</td>\n      <td>13260.0</td>\n      <td>VLEO</td>\n      <td>CCSFS SLC 40</td>\n      <td>True ASDS</td>\n      <td>12</td>\n      <td>True</td>\n      <td>True</td>\n      <td>True</td>\n      <td>5e9e3033383ecbb9e534e7cc</td>\n      <td>5.0</td>\n      <td>11</td>\n      <td>B1051</td>\n      <td>-80.577366</td>\n      <td>28.561857</td>\n    </tr>\n    <tr>\n      <th>141</th>\n      <td>138</td>\n      <td>2022-04-01</td>\n      <td>Falcon 9</td>\n      <td>NaN</td>\n      <td>SSO</td>\n      <td>CCSFS SLC 40</td>\n      <td>True ASDS</td>\n      <td>7</td>\n      <td>True</td>\n      <td>True</td>\n      <td>True</td>\n      <td>5e9e3033383ecbb9e534e7cc</td>\n      <td>5.0</td>\n      <td>6</td>\n      <td>B1061</td>\n      <td>-80.577366</td>\n      <td>28.561857</td>\n    </tr>\n    <tr>\n      <th>142</th>\n      <td>139</td>\n      <td>2022-04-08</td>\n      <td>Falcon 9</td>\n      <td>NaN</td>\n      <td>ISS</td>\n      <td>KSC LC 39A</td>\n      <td>True ASDS</td>\n      <td>5</td>\n      <td>True</td>\n      <td>True</td>\n      <td>True</td>\n      <td>5e9e3033383ecb075134e7cd</td>\n      <td>5.0</td>\n      <td>4</td>\n      <td>B1062</td>\n      <td>-80.603956</td>\n      <td>28.608058</td>\n    </tr>\n  </tbody>\n</table>\n<p>139 rows × 17 columns</p>\n</div>"
     },
     "execution_count": 55,
     "metadata": {},
     "output_type": "execute_result"
    }
   ],
   "source": [
    "df = df[df['BoosterVersion'] != 'Falcon 1']\n",
    "df.loc[:,'FlightNumber'] = list(range(1, df.shape[0]+1))\n",
    "df"
   ],
   "metadata": {
    "collapsed": false,
    "pycharm": {
     "name": "#%%\n"
    }
   }
  },
  {
   "cell_type": "code",
   "execution_count": 56,
   "outputs": [
    {
     "data": {
      "text/plain": "FlightNumber       0\nDate               0\nBoosterVersion     0\nPayloadMass       17\nOrbit              1\nLaunchSite         0\nOutcome            0\nFlights            0\nGridFins           0\nReused             0\nLegs               0\nLandingPad        26\nBlock              0\nReusedCount        0\nSerial             0\nLongitude          0\nLatitude           0\ndtype: int64"
     },
     "execution_count": 56,
     "metadata": {},
     "output_type": "execute_result"
    }
   ],
   "source": [
    "df.isnull().sum()"
   ],
   "metadata": {
    "collapsed": false,
    "pycharm": {
     "name": "#%%\n"
    }
   }
  },
  {
   "cell_type": "code",
   "execution_count": 57,
   "outputs": [],
   "source": [
    "# Calculate the mean value of PayloadMass column\n",
    "payload_mean = df['PayloadMass'].mean()\n",
    "df['PayloadMass'] = df['PayloadMass'].replace(np.nan, payload_mean)"
   ],
   "metadata": {
    "collapsed": false,
    "pycharm": {
     "name": "#%%\n"
    }
   }
  },
  {
   "cell_type": "markdown",
   "source": [
    "### Data Wrangling\n",
    "In the data set, there are several different cases where the booster did not land successfully. Sometimes a landing was attempted but failed due to an accident; for example, True Ocean means the mission outcome was successfully  landed to a specific region of the ocean while False Ocean means the mission outcome was unsuccessfully landed to a specific region of the ocean. True RTLS means the mission outcome was successfully  landed to a ground pad False RTLS means the mission outcome was unsuccessfully landed to a ground pad.True ASDS means the mission outcome was successfully landed on  a drone ship False ASDS means the mission outcome was unsuccessfully landed on a drone ship.\n",
    "\n",
    "In this project we will mainly convert those outcomes into Training Labels with `1` means the booster successfully landed `0` means it was unsuccessful.\n"
   ],
   "metadata": {
    "collapsed": false
   }
  },
  {
   "cell_type": "code",
   "execution_count": 58,
   "outputs": [
    {
     "data": {
      "text/plain": "True ASDS      83\nTrue RTLS      20\nNone None      19\nFalse ASDS      7\nTrue Ocean      5\nFalse Ocean     2\nNone ASDS       2\nFalse RTLS      1\nName: Outcome, dtype: int64"
     },
     "execution_count": 58,
     "metadata": {},
     "output_type": "execute_result"
    }
   ],
   "source": [
    "landing_outcomes = df['Outcome'].value_counts()\n",
    "landing_outcomes"
   ],
   "metadata": {
    "collapsed": false,
    "pycharm": {
     "name": "#%%\n"
    }
   }
  },
  {
   "cell_type": "code",
   "execution_count": 59,
   "outputs": [
    {
     "name": "stdout",
     "output_type": "stream",
     "text": [
      "0 True ASDS\n",
      "1 True RTLS\n",
      "2 None None\n",
      "3 False ASDS\n",
      "4 True Ocean\n",
      "5 False Ocean\n",
      "6 None ASDS\n",
      "7 False RTLS\n"
     ]
    }
   ],
   "source": [
    "for i, outcome in enumerate(landing_outcomes.keys()):\n",
    "    print(i, outcome)"
   ],
   "metadata": {
    "collapsed": false,
    "pycharm": {
     "name": "#%%\n"
    }
   }
  },
  {
   "cell_type": "code",
   "execution_count": 60,
   "outputs": [
    {
     "data": {
      "text/plain": "{'False ASDS', 'False Ocean', 'False RTLS', 'None ASDS', 'None None'}"
     },
     "execution_count": 60,
     "metadata": {},
     "output_type": "execute_result"
    }
   ],
   "source": [
    "bad_outcomes= set(landing_outcomes.keys()[[2,3,5,6,7]])\n",
    "bad_outcomes"
   ],
   "metadata": {
    "collapsed": false,
    "pycharm": {
     "name": "#%%\n"
    }
   }
  },
  {
   "cell_type": "code",
   "execution_count": 61,
   "outputs": [
    {
     "data": {
      "text/plain": "     Class\n4        0\n5        0\n6        0\n7        0\n8        0\n..     ...\n138      1\n139      1\n140      1\n141      1\n142      1\n\n[139 rows x 1 columns]",
      "text/html": "<div>\n<style scoped>\n    .dataframe tbody tr th:only-of-type {\n        vertical-align: middle;\n    }\n\n    .dataframe tbody tr th {\n        vertical-align: top;\n    }\n\n    .dataframe thead th {\n        text-align: right;\n    }\n</style>\n<table border=\"1\" class=\"dataframe\">\n  <thead>\n    <tr style=\"text-align: right;\">\n      <th></th>\n      <th>Class</th>\n    </tr>\n  </thead>\n  <tbody>\n    <tr>\n      <th>4</th>\n      <td>0</td>\n    </tr>\n    <tr>\n      <th>5</th>\n      <td>0</td>\n    </tr>\n    <tr>\n      <th>6</th>\n      <td>0</td>\n    </tr>\n    <tr>\n      <th>7</th>\n      <td>0</td>\n    </tr>\n    <tr>\n      <th>8</th>\n      <td>0</td>\n    </tr>\n    <tr>\n      <th>...</th>\n      <td>...</td>\n    </tr>\n    <tr>\n      <th>138</th>\n      <td>1</td>\n    </tr>\n    <tr>\n      <th>139</th>\n      <td>1</td>\n    </tr>\n    <tr>\n      <th>140</th>\n      <td>1</td>\n    </tr>\n    <tr>\n      <th>141</th>\n      <td>1</td>\n    </tr>\n    <tr>\n      <th>142</th>\n      <td>1</td>\n    </tr>\n  </tbody>\n</table>\n<p>139 rows × 1 columns</p>\n</div>"
     },
     "execution_count": 61,
     "metadata": {},
     "output_type": "execute_result"
    }
   ],
   "source": [
    "landing_class = df['Outcome'].map(lambda x: 0 if x in bad_outcomes else 1)\n",
    "df['Class'] = landing_class\n",
    "df[['Class']]"
   ],
   "metadata": {
    "collapsed": false,
    "pycharm": {
     "name": "#%%\n"
    }
   }
  },
  {
   "cell_type": "code",
   "execution_count": 62,
   "outputs": [
    {
     "data": {
      "text/plain": "     FlightNumber        Date BoosterVersion   PayloadMass Orbit  \\\n4               1  2010-06-04       Falcon 9   7647.061885   LEO   \n5               2  2012-05-22       Falcon 9    525.000000   LEO   \n6               3  2013-03-01       Falcon 9    677.000000   ISS   \n7               4  2013-09-29       Falcon 9    500.000000    PO   \n8               5  2013-12-03       Falcon 9   3170.000000   GTO   \n..            ...         ...            ...           ...   ...   \n138           135  2022-03-03       Falcon 9  13260.000000  VLEO   \n139           136  2022-03-09       Falcon 9  13260.000000  VLEO   \n140           137  2022-03-19       Falcon 9  13260.000000  VLEO   \n141           138  2022-04-01       Falcon 9   7647.061885   SSO   \n142           139  2022-04-08       Falcon 9   7647.061885   ISS   \n\n       LaunchSite      Outcome  Flights  GridFins  Reused   Legs  \\\n4    CCSFS SLC 40    None None        1     False   False  False   \n5    CCSFS SLC 40    None None        1     False   False  False   \n6    CCSFS SLC 40    None None        1     False   False  False   \n7     VAFB SLC 4E  False Ocean        1     False   False  False   \n8    CCSFS SLC 40    None None        1     False   False  False   \n..            ...          ...      ...       ...     ...    ...   \n138    KSC LC 39A    True ASDS       11      True    True   True   \n139  CCSFS SLC 40    True ASDS        4      True    True   True   \n140  CCSFS SLC 40    True ASDS       12      True    True   True   \n141  CCSFS SLC 40    True ASDS        7      True    True   True   \n142    KSC LC 39A    True ASDS        5      True    True   True   \n\n                   LandingPad  Block  ReusedCount Serial   Longitude  \\\n4                        None    1.0            0  B0003  -80.577366   \n5                        None    1.0            0  B0005  -80.577366   \n6                        None    1.0            0  B0007  -80.577366   \n7                        None    1.0            0  B1003 -120.610829   \n8                        None    1.0            0  B1004  -80.577366   \n..                        ...    ...          ...    ...         ...   \n138  5e9e3033383ecbb9e534e7cc    5.0           10  B1060  -80.603956   \n139  5e9e3033383ecb075134e7cd    5.0            3  B1052  -80.577366   \n140  5e9e3033383ecbb9e534e7cc    5.0           11  B1051  -80.577366   \n141  5e9e3033383ecbb9e534e7cc    5.0            6  B1061  -80.577366   \n142  5e9e3033383ecb075134e7cd    5.0            4  B1062  -80.603956   \n\n      Latitude  Class  \n4    28.561857      0  \n5    28.561857      0  \n6    28.561857      0  \n7    34.632093      0  \n8    28.561857      0  \n..         ...    ...  \n138  28.608058      1  \n139  28.561857      1  \n140  28.561857      1  \n141  28.561857      1  \n142  28.608058      1  \n\n[139 rows x 18 columns]",
      "text/html": "<div>\n<style scoped>\n    .dataframe tbody tr th:only-of-type {\n        vertical-align: middle;\n    }\n\n    .dataframe tbody tr th {\n        vertical-align: top;\n    }\n\n    .dataframe thead th {\n        text-align: right;\n    }\n</style>\n<table border=\"1\" class=\"dataframe\">\n  <thead>\n    <tr style=\"text-align: right;\">\n      <th></th>\n      <th>FlightNumber</th>\n      <th>Date</th>\n      <th>BoosterVersion</th>\n      <th>PayloadMass</th>\n      <th>Orbit</th>\n      <th>LaunchSite</th>\n      <th>Outcome</th>\n      <th>Flights</th>\n      <th>GridFins</th>\n      <th>Reused</th>\n      <th>Legs</th>\n      <th>LandingPad</th>\n      <th>Block</th>\n      <th>ReusedCount</th>\n      <th>Serial</th>\n      <th>Longitude</th>\n      <th>Latitude</th>\n      <th>Class</th>\n    </tr>\n  </thead>\n  <tbody>\n    <tr>\n      <th>4</th>\n      <td>1</td>\n      <td>2010-06-04</td>\n      <td>Falcon 9</td>\n      <td>7647.061885</td>\n      <td>LEO</td>\n      <td>CCSFS SLC 40</td>\n      <td>None None</td>\n      <td>1</td>\n      <td>False</td>\n      <td>False</td>\n      <td>False</td>\n      <td>None</td>\n      <td>1.0</td>\n      <td>0</td>\n      <td>B0003</td>\n      <td>-80.577366</td>\n      <td>28.561857</td>\n      <td>0</td>\n    </tr>\n    <tr>\n      <th>5</th>\n      <td>2</td>\n      <td>2012-05-22</td>\n      <td>Falcon 9</td>\n      <td>525.000000</td>\n      <td>LEO</td>\n      <td>CCSFS SLC 40</td>\n      <td>None None</td>\n      <td>1</td>\n      <td>False</td>\n      <td>False</td>\n      <td>False</td>\n      <td>None</td>\n      <td>1.0</td>\n      <td>0</td>\n      <td>B0005</td>\n      <td>-80.577366</td>\n      <td>28.561857</td>\n      <td>0</td>\n    </tr>\n    <tr>\n      <th>6</th>\n      <td>3</td>\n      <td>2013-03-01</td>\n      <td>Falcon 9</td>\n      <td>677.000000</td>\n      <td>ISS</td>\n      <td>CCSFS SLC 40</td>\n      <td>None None</td>\n      <td>1</td>\n      <td>False</td>\n      <td>False</td>\n      <td>False</td>\n      <td>None</td>\n      <td>1.0</td>\n      <td>0</td>\n      <td>B0007</td>\n      <td>-80.577366</td>\n      <td>28.561857</td>\n      <td>0</td>\n    </tr>\n    <tr>\n      <th>7</th>\n      <td>4</td>\n      <td>2013-09-29</td>\n      <td>Falcon 9</td>\n      <td>500.000000</td>\n      <td>PO</td>\n      <td>VAFB SLC 4E</td>\n      <td>False Ocean</td>\n      <td>1</td>\n      <td>False</td>\n      <td>False</td>\n      <td>False</td>\n      <td>None</td>\n      <td>1.0</td>\n      <td>0</td>\n      <td>B1003</td>\n      <td>-120.610829</td>\n      <td>34.632093</td>\n      <td>0</td>\n    </tr>\n    <tr>\n      <th>8</th>\n      <td>5</td>\n      <td>2013-12-03</td>\n      <td>Falcon 9</td>\n      <td>3170.000000</td>\n      <td>GTO</td>\n      <td>CCSFS SLC 40</td>\n      <td>None None</td>\n      <td>1</td>\n      <td>False</td>\n      <td>False</td>\n      <td>False</td>\n      <td>None</td>\n      <td>1.0</td>\n      <td>0</td>\n      <td>B1004</td>\n      <td>-80.577366</td>\n      <td>28.561857</td>\n      <td>0</td>\n    </tr>\n    <tr>\n      <th>...</th>\n      <td>...</td>\n      <td>...</td>\n      <td>...</td>\n      <td>...</td>\n      <td>...</td>\n      <td>...</td>\n      <td>...</td>\n      <td>...</td>\n      <td>...</td>\n      <td>...</td>\n      <td>...</td>\n      <td>...</td>\n      <td>...</td>\n      <td>...</td>\n      <td>...</td>\n      <td>...</td>\n      <td>...</td>\n      <td>...</td>\n    </tr>\n    <tr>\n      <th>138</th>\n      <td>135</td>\n      <td>2022-03-03</td>\n      <td>Falcon 9</td>\n      <td>13260.000000</td>\n      <td>VLEO</td>\n      <td>KSC LC 39A</td>\n      <td>True ASDS</td>\n      <td>11</td>\n      <td>True</td>\n      <td>True</td>\n      <td>True</td>\n      <td>5e9e3033383ecbb9e534e7cc</td>\n      <td>5.0</td>\n      <td>10</td>\n      <td>B1060</td>\n      <td>-80.603956</td>\n      <td>28.608058</td>\n      <td>1</td>\n    </tr>\n    <tr>\n      <th>139</th>\n      <td>136</td>\n      <td>2022-03-09</td>\n      <td>Falcon 9</td>\n      <td>13260.000000</td>\n      <td>VLEO</td>\n      <td>CCSFS SLC 40</td>\n      <td>True ASDS</td>\n      <td>4</td>\n      <td>True</td>\n      <td>True</td>\n      <td>True</td>\n      <td>5e9e3033383ecb075134e7cd</td>\n      <td>5.0</td>\n      <td>3</td>\n      <td>B1052</td>\n      <td>-80.577366</td>\n      <td>28.561857</td>\n      <td>1</td>\n    </tr>\n    <tr>\n      <th>140</th>\n      <td>137</td>\n      <td>2022-03-19</td>\n      <td>Falcon 9</td>\n      <td>13260.000000</td>\n      <td>VLEO</td>\n      <td>CCSFS SLC 40</td>\n      <td>True ASDS</td>\n      <td>12</td>\n      <td>True</td>\n      <td>True</td>\n      <td>True</td>\n      <td>5e9e3033383ecbb9e534e7cc</td>\n      <td>5.0</td>\n      <td>11</td>\n      <td>B1051</td>\n      <td>-80.577366</td>\n      <td>28.561857</td>\n      <td>1</td>\n    </tr>\n    <tr>\n      <th>141</th>\n      <td>138</td>\n      <td>2022-04-01</td>\n      <td>Falcon 9</td>\n      <td>7647.061885</td>\n      <td>SSO</td>\n      <td>CCSFS SLC 40</td>\n      <td>True ASDS</td>\n      <td>7</td>\n      <td>True</td>\n      <td>True</td>\n      <td>True</td>\n      <td>5e9e3033383ecbb9e534e7cc</td>\n      <td>5.0</td>\n      <td>6</td>\n      <td>B1061</td>\n      <td>-80.577366</td>\n      <td>28.561857</td>\n      <td>1</td>\n    </tr>\n    <tr>\n      <th>142</th>\n      <td>139</td>\n      <td>2022-04-08</td>\n      <td>Falcon 9</td>\n      <td>7647.061885</td>\n      <td>ISS</td>\n      <td>KSC LC 39A</td>\n      <td>True ASDS</td>\n      <td>5</td>\n      <td>True</td>\n      <td>True</td>\n      <td>True</td>\n      <td>5e9e3033383ecb075134e7cd</td>\n      <td>5.0</td>\n      <td>4</td>\n      <td>B1062</td>\n      <td>-80.603956</td>\n      <td>28.608058</td>\n      <td>1</td>\n    </tr>\n  </tbody>\n</table>\n<p>139 rows × 18 columns</p>\n</div>"
     },
     "execution_count": 62,
     "metadata": {},
     "output_type": "execute_result"
    }
   ],
   "source": [
    "df"
   ],
   "metadata": {
    "collapsed": false,
    "pycharm": {
     "name": "#%%\n"
    }
   }
  },
  {
   "cell_type": "markdown",
   "source": [
    "### Some data visualizations\n",
    "Visualize the relationship between success rate of each feature"
   ],
   "metadata": {
    "collapsed": false
   }
  },
  {
   "cell_type": "code",
   "execution_count": 63,
   "outputs": [
    {
     "data": {
      "text/plain": "<Figure size 1080x1800 with 7 Axes>",
      "image/png": "[encoded data removed]"
     },
     "metadata": {
      "needs_background": "light"
     },
     "output_type": "display_data"
    }
   ],
   "source": [
    "features = ['Orbit', 'LaunchSite', 'Flights', 'GridFins', 'Reused', 'Legs', 'ReusedCount']\n",
    "fig, axes = plt.subplots(len(features), 1, figsize=(15,25))\n",
    "for i in enumerate(features):\n",
    "    df_group = df.groupby([i[1]], as_index=False).mean()\n",
    "    sns.barplot(x=i[1], y=\"Class\", data=df_group, ax=axes[i[0]])"
   ],
   "metadata": {
    "collapsed": false,
    "pycharm": {
     "name": "#%%\n"
    }
   }
  },
  {
   "cell_type": "code",
   "execution_count": 64,
   "outputs": [
    {
     "data": {
      "text/plain": "<AxesSubplot:xlabel='FlightNumber', ylabel='PayloadMass'>"
     },
     "execution_count": 64,
     "metadata": {},
     "output_type": "execute_result"
    },
    {
     "data": {
      "text/plain": "<Figure size 864x720 with 1 Axes>",
      "image/png": "[encoded data removed]"
     },
     "metadata": {
      "needs_background": "light"
     },
     "output_type": "display_data"
    }
   ],
   "source": [
    "plt.figure(figsize=(12, 10))\n",
    "sns.scatterplot(y=\"PayloadMass\", x=\"FlightNumber\", hue=\"Class\", data=df)"
   ],
   "metadata": {
    "collapsed": false,
    "pycharm": {
     "name": "#%%\n"
    }
   }
  },
  {
   "cell_type": "code",
   "execution_count": 65,
   "outputs": [
    {
     "data": {
      "text/plain": "   FlightNumber        Date BoosterVersion  PayloadMass      Outcome  Flights  \\\n4             1  2010-06-04       Falcon 9  7647.061885    None None        1   \n5             2  2012-05-22       Falcon 9   525.000000    None None        1   \n6             3  2013-03-01       Falcon 9   677.000000    None None        1   \n7             4  2013-09-29       Falcon 9   500.000000  False Ocean        1   \n8             5  2013-12-03       Falcon 9  3170.000000    None None        1   \n\n   GridFins  Reused   Legs LandingPad  ...  Orbit_LEO  Orbit_MEO Orbit_PO  \\\n4     False   False  False       None  ...          1          0        0   \n5     False   False  False       None  ...          1          0        0   \n6     False   False  False       None  ...          0          0        0   \n7     False   False  False       None  ...          0          0        1   \n8     False   False  False       None  ...          0          0        0   \n\n   Orbit_SO  Orbit_SSO  Orbit_TLI  Orbit_VLEO  LaunchSite_CCSFS SLC 40  \\\n4         0          0          0           0                        1   \n5         0          0          0           0                        1   \n6         0          0          0           0                        1   \n7         0          0          0           0                        0   \n8         0          0          0           0                        1   \n\n   LaunchSite_KSC LC 39A  LaunchSite_VAFB SLC 4E  \n4                      0                       0  \n5                      0                       0  \n6                      0                       0  \n7                      0                       1  \n8                      0                       0  \n\n[5 rows x 31 columns]",
      "text/html": "<div>\n<style scoped>\n    .dataframe tbody tr th:only-of-type {\n        vertical-align: middle;\n    }\n\n    .dataframe tbody tr th {\n        vertical-align: top;\n    }\n\n    .dataframe thead th {\n        text-align: right;\n    }\n</style>\n<table border=\"1\" class=\"dataframe\">\n  <thead>\n    <tr style=\"text-align: right;\">\n      <th></th>\n      <th>FlightNumber</th>\n      <th>Date</th>\n      <th>BoosterVersion</th>\n      <th>PayloadMass</th>\n      <th>Outcome</th>\n      <th>Flights</th>\n      <th>GridFins</th>\n      <th>Reused</th>\n      <th>Legs</th>\n      <th>LandingPad</th>\n      <th>...</th>\n      <th>Orbit_LEO</th>\n      <th>Orbit_MEO</th>\n      <th>Orbit_PO</th>\n      <th>Orbit_SO</th>\n      <th>Orbit_SSO</th>\n      <th>Orbit_TLI</th>\n      <th>Orbit_VLEO</th>\n      <th>LaunchSite_CCSFS SLC 40</th>\n      <th>LaunchSite_KSC LC 39A</th>\n      <th>LaunchSite_VAFB SLC 4E</th>\n    </tr>\n  </thead>\n  <tbody>\n    <tr>\n      <th>4</th>\n      <td>1</td>\n      <td>2010-06-04</td>\n      <td>Falcon 9</td>\n      <td>7647.061885</td>\n      <td>None None</td>\n      <td>1</td>\n      <td>False</td>\n      <td>False</td>\n      <td>False</td>\n      <td>None</td>\n      <td>...</td>\n      <td>1</td>\n      <td>0</td>\n      <td>0</td>\n      <td>0</td>\n      <td>0</td>\n      <td>0</td>\n      <td>0</td>\n      <td>1</td>\n      <td>0</td>\n      <td>0</td>\n    </tr>\n    <tr>\n      <th>5</th>\n      <td>2</td>\n      <td>2012-05-22</td>\n      <td>Falcon 9</td>\n      <td>525.000000</td>\n      <td>None None</td>\n      <td>1</td>\n      <td>False</td>\n      <td>False</td>\n      <td>False</td>\n      <td>None</td>\n      <td>...</td>\n      <td>1</td>\n      <td>0</td>\n      <td>0</td>\n      <td>0</td>\n      <td>0</td>\n      <td>0</td>\n      <td>0</td>\n      <td>1</td>\n      <td>0</td>\n      <td>0</td>\n    </tr>\n    <tr>\n      <th>6</th>\n      <td>3</td>\n      <td>2013-03-01</td>\n      <td>Falcon 9</td>\n      <td>677.000000</td>\n      <td>None None</td>\n      <td>1</td>\n      <td>False</td>\n      <td>False</td>\n      <td>False</td>\n      <td>None</td>\n      <td>...</td>\n      <td>0</td>\n      <td>0</td>\n      <td>0</td>\n      <td>0</td>\n      <td>0</td>\n      <td>0</td>\n      <td>0</td>\n      <td>1</td>\n      <td>0</td>\n      <td>0</td>\n    </tr>\n    <tr>\n      <th>7</th>\n      <td>4</td>\n      <td>2013-09-29</td>\n      <td>Falcon 9</td>\n      <td>500.000000</td>\n      <td>False Ocean</td>\n      <td>1</td>\n      <td>False</td>\n      <td>False</td>\n      <td>False</td>\n      <td>None</td>\n      <td>...</td>\n      <td>0</td>\n      <td>0</td>\n      <td>1</td>\n      <td>0</td>\n      <td>0</td>\n      <td>0</td>\n      <td>0</td>\n      <td>0</td>\n      <td>0</td>\n      <td>1</td>\n    </tr>\n    <tr>\n      <th>8</th>\n      <td>5</td>\n      <td>2013-12-03</td>\n      <td>Falcon 9</td>\n      <td>3170.000000</td>\n      <td>None None</td>\n      <td>1</td>\n      <td>False</td>\n      <td>False</td>\n      <td>False</td>\n      <td>None</td>\n      <td>...</td>\n      <td>0</td>\n      <td>0</td>\n      <td>0</td>\n      <td>0</td>\n      <td>0</td>\n      <td>0</td>\n      <td>0</td>\n      <td>1</td>\n      <td>0</td>\n      <td>0</td>\n    </tr>\n  </tbody>\n</table>\n<p>5 rows × 31 columns</p>\n</div>"
     },
     "execution_count": 65,
     "metadata": {},
     "output_type": "execute_result"
    }
   ],
   "source": [
    "df = pd.get_dummies(df, columns=['Orbit', 'LaunchSite'], drop_first=False)\n",
    "df.head()"
   ],
   "metadata": {
    "collapsed": false,
    "pycharm": {
     "name": "#%%\n"
    }
   }
  },
  {
   "cell_type": "code",
   "execution_count": 66,
   "outputs": [
    {
     "data": {
      "text/plain": "     FlightNumber        Date BoosterVersion   PayloadMass      Outcome  \\\n4               1  2010-06-04       Falcon 9   7647.061885    None None   \n5               2  2012-05-22       Falcon 9    525.000000    None None   \n6               3  2013-03-01       Falcon 9    677.000000    None None   \n7               4  2013-09-29       Falcon 9    500.000000  False Ocean   \n8               5  2013-12-03       Falcon 9   3170.000000    None None   \n..            ...         ...            ...           ...          ...   \n138           135  2022-03-03       Falcon 9  13260.000000    True ASDS   \n139           136  2022-03-09       Falcon 9  13260.000000    True ASDS   \n140           137  2022-03-19       Falcon 9  13260.000000    True ASDS   \n141           138  2022-04-01       Falcon 9   7647.061885    True ASDS   \n142           139  2022-04-08       Falcon 9   7647.061885    True ASDS   \n\n     Flights  GridFins  Reused  Legs                LandingPad  ...  \\\n4          1         0       0     0                      None  ...   \n5          1         0       0     0                      None  ...   \n6          1         0       0     0                      None  ...   \n7          1         0       0     0                      None  ...   \n8          1         0       0     0                      None  ...   \n..       ...       ...     ...   ...                       ...  ...   \n138       11         1       1     1  5e9e3033383ecbb9e534e7cc  ...   \n139        4         1       1     1  5e9e3033383ecb075134e7cd  ...   \n140       12         1       1     1  5e9e3033383ecbb9e534e7cc  ...   \n141        7         1       1     1  5e9e3033383ecbb9e534e7cc  ...   \n142        5         1       1     1  5e9e3033383ecb075134e7cd  ...   \n\n     Orbit_LEO  Orbit_MEO  Orbit_PO  Orbit_SO  Orbit_SSO  Orbit_TLI  \\\n4            1          0         0         0          0          0   \n5            1          0         0         0          0          0   \n6            0          0         0         0          0          0   \n7            0          0         1         0          0          0   \n8            0          0         0         0          0          0   \n..         ...        ...       ...       ...        ...        ...   \n138          0          0         0         0          0          0   \n139          0          0         0         0          0          0   \n140          0          0         0         0          0          0   \n141          0          0         0         0          1          0   \n142          0          0         0         0          0          0   \n\n     Orbit_VLEO  LaunchSite_CCSFS SLC 40  LaunchSite_KSC LC 39A  \\\n4             0                        1                      0   \n5             0                        1                      0   \n6             0                        1                      0   \n7             0                        0                      0   \n8             0                        1                      0   \n..          ...                      ...                    ...   \n138           1                        0                      1   \n139           1                        1                      0   \n140           1                        1                      0   \n141           0                        1                      0   \n142           0                        0                      1   \n\n     LaunchSite_VAFB SLC 4E  \n4                         0  \n5                         0  \n6                         0  \n7                         1  \n8                         0  \n..                      ...  \n138                       0  \n139                       0  \n140                       0  \n141                       0  \n142                       0  \n\n[139 rows x 31 columns]",
      "text/html": "<div>\n<style scoped>\n    .dataframe tbody tr th:only-of-type {\n        vertical-align: middle;\n    }\n\n    .dataframe tbody tr th {\n        vertical-align: top;\n    }\n\n    .dataframe thead th {\n        text-align: right;\n    }\n</style>\n<table border=\"1\" class=\"dataframe\">\n  <thead>\n    <tr style=\"text-align: right;\">\n      <th></th>\n      <th>FlightNumber</th>\n      <th>Date</th>\n      <th>BoosterVersion</th>\n      <th>PayloadMass</th>\n      <th>Outcome</th>\n      <th>Flights</th>\n      <th>GridFins</th>\n      <th>Reused</th>\n      <th>Legs</th>\n      <th>LandingPad</th>\n      <th>...</th>\n      <th>Orbit_LEO</th>\n      <th>Orbit_MEO</th>\n      <th>Orbit_PO</th>\n      <th>Orbit_SO</th>\n      <th>Orbit_SSO</th>\n      <th>Orbit_TLI</th>\n      <th>Orbit_VLEO</th>\n      <th>LaunchSite_CCSFS SLC 40</th>\n      <th>LaunchSite_KSC LC 39A</th>\n      <th>LaunchSite_VAFB SLC 4E</th>\n    </tr>\n  </thead>\n  <tbody>\n    <tr>\n      <th>4</th>\n      <td>1</td>\n      <td>2010-06-04</td>\n      <td>Falcon 9</td>\n      <td>7647.061885</td>\n      <td>None None</td>\n      <td>1</td>\n      <td>0</td>\n      <td>0</td>\n      <td>0</td>\n      <td>None</td>\n      <td>...</td>\n      <td>1</td>\n      <td>0</td>\n      <td>0</td>\n      <td>0</td>\n      <td>0</td>\n      <td>0</td>\n      <td>0</td>\n      <td>1</td>\n      <td>0</td>\n      <td>0</td>\n    </tr>\n    <tr>\n      <th>5</th>\n      <td>2</td>\n      <td>2012-05-22</td>\n      <td>Falcon 9</td>\n      <td>525.000000</td>\n      <td>None None</td>\n      <td>1</td>\n      <td>0</td>\n      <td>0</td>\n      <td>0</td>\n      <td>None</td>\n      <td>...</td>\n      <td>1</td>\n      <td>0</td>\n      <td>0</td>\n      <td>0</td>\n      <td>0</td>\n      <td>0</td>\n      <td>0</td>\n      <td>1</td>\n      <td>0</td>\n      <td>0</td>\n    </tr>\n    <tr>\n      <th>6</th>\n      <td>3</td>\n      <td>2013-03-01</td>\n      <td>Falcon 9</td>\n      <td>677.000000</td>\n      <td>None None</td>\n      <td>1</td>\n      <td>0</td>\n      <td>0</td>\n      <td>0</td>\n      <td>None</td>\n      <td>...</td>\n      <td>0</td>\n      <td>0</td>\n      <td>0</td>\n      <td>0</td>\n      <td>0</td>\n      <td>0</td>\n      <td>0</td>\n      <td>1</td>\n      <td>0</td>\n      <td>0</td>\n    </tr>\n    <tr>\n      <th>7</th>\n      <td>4</td>\n      <td>2013-09-29</td>\n      <td>Falcon 9</td>\n      <td>500.000000</td>\n      <td>False Ocean</td>\n      <td>1</td>\n      <td>0</td>\n      <td>0</td>\n      <td>0</td>\n      <td>None</td>\n      <td>...</td>\n      <td>0</td>\n      <td>0</td>\n      <td>1</td>\n      <td>0</td>\n      <td>0</td>\n      <td>0</td>\n      <td>0</td>\n      <td>0</td>\n      <td>0</td>\n      <td>1</td>\n    </tr>\n    <tr>\n      <th>8</th>\n      <td>5</td>\n      <td>2013-12-03</td>\n      <td>Falcon 9</td>\n      <td>3170.000000</td>\n      <td>None None</td>\n      <td>1</td>\n      <td>0</td>\n      <td>0</td>\n      <td>0</td>\n      <td>None</td>\n      <td>...</td>\n      <td>0</td>\n      <td>0</td>\n      <td>0</td>\n      <td>0</td>\n      <td>0</td>\n      <td>0</td>\n      <td>0</td>\n      <td>1</td>\n      <td>0</td>\n      <td>0</td>\n    </tr>\n    <tr>\n      <th>...</th>\n      <td>...</td>\n      <td>...</td>\n      <td>...</td>\n      <td>...</td>\n      <td>...</td>\n      <td>...</td>\n      <td>...</td>\n      <td>...</td>\n      <td>...</td>\n      <td>...</td>\n      <td>...</td>\n      <td>...</td>\n      <td>...</td>\n      <td>...</td>\n      <td>...</td>\n      <td>...</td>\n      <td>...</td>\n      <td>...</td>\n      <td>...</td>\n      <td>...</td>\n      <td>...</td>\n    </tr>\n    <tr>\n      <th>138</th>\n      <td>135</td>\n      <td>2022-03-03</td>\n      <td>Falcon 9</td>\n      <td>13260.000000</td>\n      <td>True ASDS</td>\n      <td>11</td>\n      <td>1</td>\n      <td>1</td>\n      <td>1</td>\n      <td>5e9e3033383ecbb9e534e7cc</td>\n      <td>...</td>\n      <td>0</td>\n      <td>0</td>\n      <td>0</td>\n      <td>0</td>\n      <td>0</td>\n      <td>0</td>\n      <td>1</td>\n      <td>0</td>\n      <td>1</td>\n      <td>0</td>\n    </tr>\n    <tr>\n      <th>139</th>\n      <td>136</td>\n      <td>2022-03-09</td>\n      <td>Falcon 9</td>\n      <td>13260.000000</td>\n      <td>True ASDS</td>\n      <td>4</td>\n      <td>1</td>\n      <td>1</td>\n      <td>1</td>\n      <td>5e9e3033383ecb075134e7cd</td>\n      <td>...</td>\n      <td>0</td>\n      <td>0</td>\n      <td>0</td>\n      <td>0</td>\n      <td>0</td>\n      <td>0</td>\n      <td>1</td>\n      <td>1</td>\n      <td>0</td>\n      <td>0</td>\n    </tr>\n    <tr>\n      <th>140</th>\n      <td>137</td>\n      <td>2022-03-19</td>\n      <td>Falcon 9</td>\n      <td>13260.000000</td>\n      <td>True ASDS</td>\n      <td>12</td>\n      <td>1</td>\n      <td>1</td>\n      <td>1</td>\n      <td>5e9e3033383ecbb9e534e7cc</td>\n      <td>...</td>\n      <td>0</td>\n      <td>0</td>\n      <td>0</td>\n      <td>0</td>\n      <td>0</td>\n      <td>0</td>\n      <td>1</td>\n      <td>1</td>\n      <td>0</td>\n      <td>0</td>\n    </tr>\n    <tr>\n      <th>141</th>\n      <td>138</td>\n      <td>2022-04-01</td>\n      <td>Falcon 9</td>\n      <td>7647.061885</td>\n      <td>True ASDS</td>\n      <td>7</td>\n      <td>1</td>\n      <td>1</td>\n      <td>1</td>\n      <td>5e9e3033383ecbb9e534e7cc</td>\n      <td>...</td>\n      <td>0</td>\n      <td>0</td>\n      <td>0</td>\n      <td>0</td>\n      <td>1</td>\n      <td>0</td>\n      <td>0</td>\n      <td>1</td>\n      <td>0</td>\n      <td>0</td>\n    </tr>\n    <tr>\n      <th>142</th>\n      <td>139</td>\n      <td>2022-04-08</td>\n      <td>Falcon 9</td>\n      <td>7647.061885</td>\n      <td>True ASDS</td>\n      <td>5</td>\n      <td>1</td>\n      <td>1</td>\n      <td>1</td>\n      <td>5e9e3033383ecb075134e7cd</td>\n      <td>...</td>\n      <td>0</td>\n      <td>0</td>\n      <td>0</td>\n      <td>0</td>\n      <td>0</td>\n      <td>0</td>\n      <td>0</td>\n      <td>0</td>\n      <td>1</td>\n      <td>0</td>\n    </tr>\n  </tbody>\n</table>\n<p>139 rows × 31 columns</p>\n</div>"
     },
     "execution_count": 66,
     "metadata": {},
     "output_type": "execute_result"
    }
   ],
   "source": [
    "df['GridFins'] = df['GridFins'].map(lambda x: 0 if x is False else 1)\n",
    "df['Reused'] = df['Reused'].map(lambda x: 0 if x is False else 1)\n",
    "df['Legs'] = df['Legs'].map(lambda x: 0 if x is False else 1)\n",
    "df['Serial'] = df['Serial'].map(lambda x: int(x[1:]))\n",
    "df"
   ],
   "metadata": {
    "collapsed": false,
    "pycharm": {
     "name": "#%%\n"
    }
   }
  },
  {
   "cell_type": "markdown",
   "source": [
    "### Predictive analysis using different classification models"
   ],
   "metadata": {
    "collapsed": false
   }
  },
  {
   "cell_type": "code",
   "execution_count": 71,
   "outputs": [
    {
     "data": {
      "text/plain": "     FlightNumber        Date BoosterVersion  PayloadMass      Outcome  \\\n4               1  2010-06-04       Falcon 9     0.479179    None None   \n5               2  2012-05-22       Falcon 9     0.012770    None None   \n6               3  2013-03-01       Falcon 9     0.022724    None None   \n7               4  2013-09-29       Falcon 9     0.011133  False Ocean   \n8               5  2013-12-03       Falcon 9     0.185986    None None   \n..            ...         ...            ...          ...          ...   \n138           135  2022-03-03       Falcon 9     0.846758    True ASDS   \n139           136  2022-03-09       Falcon 9     0.846758    True ASDS   \n140           137  2022-03-19       Falcon 9     0.846758    True ASDS   \n141           138  2022-04-01       Falcon 9     0.479179    True ASDS   \n142           139  2022-04-08       Falcon 9     0.479179    True ASDS   \n\n     Flights  GridFins  Reused  Legs                LandingPad  ...  \\\n4          1         0       0     0                      None  ...   \n5          1         0       0     0                      None  ...   \n6          1         0       0     0                      None  ...   \n7          1         0       0     0                      None  ...   \n8          1         0       0     0                      None  ...   \n..       ...       ...     ...   ...                       ...  ...   \n138       11         1       1     1  5e9e3033383ecbb9e534e7cc  ...   \n139        4         1       1     1  5e9e3033383ecb075134e7cd  ...   \n140       12         1       1     1  5e9e3033383ecbb9e534e7cc  ...   \n141        7         1       1     1  5e9e3033383ecbb9e534e7cc  ...   \n142        5         1       1     1  5e9e3033383ecb075134e7cd  ...   \n\n     Orbit_LEO  Orbit_MEO  Orbit_PO  Orbit_SO  Orbit_SSO  Orbit_TLI  \\\n4            1          0         0         0          0          0   \n5            1          0         0         0          0          0   \n6            0          0         0         0          0          0   \n7            0          0         1         0          0          0   \n8            0          0         0         0          0          0   \n..         ...        ...       ...       ...        ...        ...   \n138          0          0         0         0          0          0   \n139          0          0         0         0          0          0   \n140          0          0         0         0          0          0   \n141          0          0         0         0          1          0   \n142          0          0         0         0          0          0   \n\n     Orbit_VLEO  LaunchSite_CCSFS SLC 40  LaunchSite_KSC LC 39A  \\\n4             0                        1                      0   \n5             0                        1                      0   \n6             0                        1                      0   \n7             0                        0                      0   \n8             0                        1                      0   \n..          ...                      ...                    ...   \n138           1                        0                      1   \n139           1                        1                      0   \n140           1                        1                      0   \n141           0                        1                      0   \n142           0                        0                      1   \n\n     LaunchSite_VAFB SLC 4E  \n4                         0  \n5                         0  \n6                         0  \n7                         1  \n8                         0  \n..                      ...  \n138                       0  \n139                       0  \n140                       0  \n141                       0  \n142                       0  \n\n[139 rows x 31 columns]",
      "text/html": "<div>\n<style scoped>\n    .dataframe tbody tr th:only-of-type {\n        vertical-align: middle;\n    }\n\n    .dataframe tbody tr th {\n        vertical-align: top;\n    }\n\n    .dataframe thead th {\n        text-align: right;\n    }\n</style>\n<table border=\"1\" class=\"dataframe\">\n  <thead>\n    <tr style=\"text-align: right;\">\n      <th></th>\n      <th>FlightNumber</th>\n      <th>Date</th>\n      <th>BoosterVersion</th>\n      <th>PayloadMass</th>\n      <th>Outcome</th>\n      <th>Flights</th>\n      <th>GridFins</th>\n      <th>Reused</th>\n      <th>Legs</th>\n      <th>LandingPad</th>\n      <th>...</th>\n      <th>Orbit_LEO</th>\n      <th>Orbit_MEO</th>\n      <th>Orbit_PO</th>\n      <th>Orbit_SO</th>\n      <th>Orbit_SSO</th>\n      <th>Orbit_TLI</th>\n      <th>Orbit_VLEO</th>\n      <th>LaunchSite_CCSFS SLC 40</th>\n      <th>LaunchSite_KSC LC 39A</th>\n      <th>LaunchSite_VAFB SLC 4E</th>\n    </tr>\n  </thead>\n  <tbody>\n    <tr>\n      <th>4</th>\n      <td>1</td>\n      <td>2010-06-04</td>\n      <td>Falcon 9</td>\n      <td>0.479179</td>\n      <td>None None</td>\n      <td>1</td>\n      <td>0</td>\n      <td>0</td>\n      <td>0</td>\n      <td>None</td>\n      <td>...</td>\n      <td>1</td>\n      <td>0</td>\n      <td>0</td>\n      <td>0</td>\n      <td>0</td>\n      <td>0</td>\n      <td>0</td>\n      <td>1</td>\n      <td>0</td>\n      <td>0</td>\n    </tr>\n    <tr>\n      <th>5</th>\n      <td>2</td>\n      <td>2012-05-22</td>\n      <td>Falcon 9</td>\n      <td>0.012770</td>\n      <td>None None</td>\n      <td>1</td>\n      <td>0</td>\n      <td>0</td>\n      <td>0</td>\n      <td>None</td>\n      <td>...</td>\n      <td>1</td>\n      <td>0</td>\n      <td>0</td>\n      <td>0</td>\n      <td>0</td>\n      <td>0</td>\n      <td>0</td>\n      <td>1</td>\n      <td>0</td>\n      <td>0</td>\n    </tr>\n    <tr>\n      <th>6</th>\n      <td>3</td>\n      <td>2013-03-01</td>\n      <td>Falcon 9</td>\n      <td>0.022724</td>\n      <td>None None</td>\n      <td>1</td>\n      <td>0</td>\n      <td>0</td>\n      <td>0</td>\n      <td>None</td>\n      <td>...</td>\n      <td>0</td>\n      <td>0</td>\n      <td>0</td>\n      <td>0</td>\n      <td>0</td>\n      <td>0</td>\n      <td>0</td>\n      <td>1</td>\n      <td>0</td>\n      <td>0</td>\n    </tr>\n    <tr>\n      <th>7</th>\n      <td>4</td>\n      <td>2013-09-29</td>\n      <td>Falcon 9</td>\n      <td>0.011133</td>\n      <td>False Ocean</td>\n      <td>1</td>\n      <td>0</td>\n      <td>0</td>\n      <td>0</td>\n      <td>None</td>\n      <td>...</td>\n      <td>0</td>\n      <td>0</td>\n      <td>1</td>\n      <td>0</td>\n      <td>0</td>\n      <td>0</td>\n      <td>0</td>\n      <td>0</td>\n      <td>0</td>\n      <td>1</td>\n    </tr>\n    <tr>\n      <th>8</th>\n      <td>5</td>\n      <td>2013-12-03</td>\n      <td>Falcon 9</td>\n      <td>0.185986</td>\n      <td>None None</td>\n      <td>1</td>\n      <td>0</td>\n      <td>0</td>\n      <td>0</td>\n      <td>None</td>\n      <td>...</td>\n      <td>0</td>\n      <td>0</td>\n      <td>0</td>\n      <td>0</td>\n      <td>0</td>\n      <td>0</td>\n      <td>0</td>\n      <td>1</td>\n      <td>0</td>\n      <td>0</td>\n    </tr>\n    <tr>\n      <th>...</th>\n      <td>...</td>\n      <td>...</td>\n      <td>...</td>\n      <td>...</td>\n      <td>...</td>\n      <td>...</td>\n      <td>...</td>\n      <td>...</td>\n      <td>...</td>\n      <td>...</td>\n      <td>...</td>\n      <td>...</td>\n      <td>...</td>\n      <td>...</td>\n      <td>...</td>\n      <td>...</td>\n      <td>...</td>\n      <td>...</td>\n      <td>...</td>\n      <td>...</td>\n      <td>...</td>\n    </tr>\n    <tr>\n      <th>138</th>\n      <td>135</td>\n      <td>2022-03-03</td>\n      <td>Falcon 9</td>\n      <td>0.846758</td>\n      <td>True ASDS</td>\n      <td>11</td>\n      <td>1</td>\n      <td>1</td>\n      <td>1</td>\n      <td>5e9e3033383ecbb9e534e7cc</td>\n      <td>...</td>\n      <td>0</td>\n      <td>0</td>\n      <td>0</td>\n      <td>0</td>\n      <td>0</td>\n      <td>0</td>\n      <td>1</td>\n      <td>0</td>\n      <td>1</td>\n      <td>0</td>\n    </tr>\n    <tr>\n      <th>139</th>\n      <td>136</td>\n      <td>2022-03-09</td>\n      <td>Falcon 9</td>\n      <td>0.846758</td>\n      <td>True ASDS</td>\n      <td>4</td>\n      <td>1</td>\n      <td>1</td>\n      <td>1</td>\n      <td>5e9e3033383ecb075134e7cd</td>\n      <td>...</td>\n      <td>0</td>\n      <td>0</td>\n      <td>0</td>\n      <td>0</td>\n      <td>0</td>\n      <td>0</td>\n      <td>1</td>\n      <td>1</td>\n      <td>0</td>\n      <td>0</td>\n    </tr>\n    <tr>\n      <th>140</th>\n      <td>137</td>\n      <td>2022-03-19</td>\n      <td>Falcon 9</td>\n      <td>0.846758</td>\n      <td>True ASDS</td>\n      <td>12</td>\n      <td>1</td>\n      <td>1</td>\n      <td>1</td>\n      <td>5e9e3033383ecbb9e534e7cc</td>\n      <td>...</td>\n      <td>0</td>\n      <td>0</td>\n      <td>0</td>\n      <td>0</td>\n      <td>0</td>\n      <td>0</td>\n      <td>1</td>\n      <td>1</td>\n      <td>0</td>\n      <td>0</td>\n    </tr>\n    <tr>\n      <th>141</th>\n      <td>138</td>\n      <td>2022-04-01</td>\n      <td>Falcon 9</td>\n      <td>0.479179</td>\n      <td>True ASDS</td>\n      <td>7</td>\n      <td>1</td>\n      <td>1</td>\n      <td>1</td>\n      <td>5e9e3033383ecbb9e534e7cc</td>\n      <td>...</td>\n      <td>0</td>\n      <td>0</td>\n      <td>0</td>\n      <td>0</td>\n      <td>1</td>\n      <td>0</td>\n      <td>0</td>\n      <td>1</td>\n      <td>0</td>\n      <td>0</td>\n    </tr>\n    <tr>\n      <th>142</th>\n      <td>139</td>\n      <td>2022-04-08</td>\n      <td>Falcon 9</td>\n      <td>0.479179</td>\n      <td>True ASDS</td>\n      <td>5</td>\n      <td>1</td>\n      <td>1</td>\n      <td>1</td>\n      <td>5e9e3033383ecb075134e7cd</td>\n      <td>...</td>\n      <td>0</td>\n      <td>0</td>\n      <td>0</td>\n      <td>0</td>\n      <td>0</td>\n      <td>0</td>\n      <td>0</td>\n      <td>0</td>\n      <td>1</td>\n      <td>0</td>\n    </tr>\n  </tbody>\n</table>\n<p>139 rows × 31 columns</p>\n</div>"
     },
     "execution_count": 71,
     "metadata": {},
     "output_type": "execute_result"
    }
   ],
   "source": [
    "# Standardize the data\n",
    "standard = ['PayloadMass', 'Serial']\n",
    "scaler = MinMaxScaler(feature_range=(0,1))\n",
    "for i in standard:\n",
    "    scaler = scaler.fit(df[[i]])\n",
    "    df[i] = scaler.transform(df[[i]])\n",
    "df"
   ],
   "metadata": {
    "collapsed": false,
    "pycharm": {
     "name": "#%%\n"
    }
   }
  },
  {
   "cell_type": "code",
   "execution_count": 72,
   "outputs": [
    {
     "data": {
      "text/plain": "     FlightNumber        Date BoosterVersion  PayloadMass      Outcome  \\\n4               1  2010-06-04       Falcon 9     0.479179    None None   \n5               2  2012-05-22       Falcon 9     0.012770    None None   \n6               3  2013-03-01       Falcon 9     0.022724    None None   \n7               4  2013-09-29       Falcon 9     0.011133  False Ocean   \n8               5  2013-12-03       Falcon 9     0.185986    None None   \n..            ...         ...            ...          ...          ...   \n138           135  2022-03-03       Falcon 9     0.846758    True ASDS   \n139           136  2022-03-09       Falcon 9     0.846758    True ASDS   \n140           137  2022-03-19       Falcon 9     0.846758    True ASDS   \n141           138  2022-04-01       Falcon 9     0.479179    True ASDS   \n142           139  2022-04-08       Falcon 9     0.479179    True ASDS   \n\n     Flights  GridFins  Reused  Legs                LandingPad  ...  \\\n4          1         0       0     0                      None  ...   \n5          1         0       0     0                      None  ...   \n6          1         0       0     0                      None  ...   \n7          1         0       0     0                      None  ...   \n8          1         0       0     0                      None  ...   \n..       ...       ...     ...   ...                       ...  ...   \n138       11         1       1     1  5e9e3033383ecbb9e534e7cc  ...   \n139        4         1       1     1  5e9e3033383ecb075134e7cd  ...   \n140       12         1       1     1  5e9e3033383ecbb9e534e7cc  ...   \n141        7         1       1     1  5e9e3033383ecbb9e534e7cc  ...   \n142        5         1       1     1  5e9e3033383ecb075134e7cd  ...   \n\n     Orbit_LEO  Orbit_MEO  Orbit_PO  Orbit_SO  Orbit_SSO  Orbit_TLI  \\\n4            1          0         0         0          0          0   \n5            1          0         0         0          0          0   \n6            0          0         0         0          0          0   \n7            0          0         1         0          0          0   \n8            0          0         0         0          0          0   \n..         ...        ...       ...       ...        ...        ...   \n138          0          0         0         0          0          0   \n139          0          0         0         0          0          0   \n140          0          0         0         0          0          0   \n141          0          0         0         0          1          0   \n142          0          0         0         0          0          0   \n\n     Orbit_VLEO  LaunchSite_CCSFS SLC 40  LaunchSite_KSC LC 39A  \\\n4             0                        1                      0   \n5             0                        1                      0   \n6             0                        1                      0   \n7             0                        0                      0   \n8             0                        1                      0   \n..          ...                      ...                    ...   \n138           1                        0                      1   \n139           1                        1                      0   \n140           1                        1                      0   \n141           0                        1                      0   \n142           0                        0                      1   \n\n     LaunchSite_VAFB SLC 4E  \n4                         0  \n5                         0  \n6                         0  \n7                         1  \n8                         0  \n..                      ...  \n138                       0  \n139                       0  \n140                       0  \n141                       0  \n142                       0  \n\n[139 rows x 31 columns]",
      "text/html": "<div>\n<style scoped>\n    .dataframe tbody tr th:only-of-type {\n        vertical-align: middle;\n    }\n\n    .dataframe tbody tr th {\n        vertical-align: top;\n    }\n\n    .dataframe thead th {\n        text-align: right;\n    }\n</style>\n<table border=\"1\" class=\"dataframe\">\n  <thead>\n    <tr style=\"text-align: right;\">\n      <th></th>\n      <th>FlightNumber</th>\n      <th>Date</th>\n      <th>BoosterVersion</th>\n      <th>PayloadMass</th>\n      <th>Outcome</th>\n      <th>Flights</th>\n      <th>GridFins</th>\n      <th>Reused</th>\n      <th>Legs</th>\n      <th>LandingPad</th>\n      <th>...</th>\n      <th>Orbit_LEO</th>\n      <th>Orbit_MEO</th>\n      <th>Orbit_PO</th>\n      <th>Orbit_SO</th>\n      <th>Orbit_SSO</th>\n      <th>Orbit_TLI</th>\n      <th>Orbit_VLEO</th>\n      <th>LaunchSite_CCSFS SLC 40</th>\n      <th>LaunchSite_KSC LC 39A</th>\n      <th>LaunchSite_VAFB SLC 4E</th>\n    </tr>\n  </thead>\n  <tbody>\n    <tr>\n      <th>4</th>\n      <td>1</td>\n      <td>2010-06-04</td>\n      <td>Falcon 9</td>\n      <td>0.479179</td>\n      <td>None None</td>\n      <td>1</td>\n      <td>0</td>\n      <td>0</td>\n      <td>0</td>\n      <td>None</td>\n      <td>...</td>\n      <td>1</td>\n      <td>0</td>\n      <td>0</td>\n      <td>0</td>\n      <td>0</td>\n      <td>0</td>\n      <td>0</td>\n      <td>1</td>\n      <td>0</td>\n      <td>0</td>\n    </tr>\n    <tr>\n      <th>5</th>\n      <td>2</td>\n      <td>2012-05-22</td>\n      <td>Falcon 9</td>\n      <td>0.012770</td>\n      <td>None None</td>\n      <td>1</td>\n      <td>0</td>\n      <td>0</td>\n      <td>0</td>\n      <td>None</td>\n      <td>...</td>\n      <td>1</td>\n      <td>0</td>\n      <td>0</td>\n      <td>0</td>\n      <td>0</td>\n      <td>0</td>\n      <td>0</td>\n      <td>1</td>\n      <td>0</td>\n      <td>0</td>\n    </tr>\n    <tr>\n      <th>6</th>\n      <td>3</td>\n      <td>2013-03-01</td>\n      <td>Falcon 9</td>\n      <td>0.022724</td>\n      <td>None None</td>\n      <td>1</td>\n      <td>0</td>\n      <td>0</td>\n      <td>0</td>\n      <td>None</td>\n      <td>...</td>\n      <td>0</td>\n      <td>0</td>\n      <td>0</td>\n      <td>0</td>\n      <td>0</td>\n      <td>0</td>\n      <td>0</td>\n      <td>1</td>\n      <td>0</td>\n      <td>0</td>\n    </tr>\n    <tr>\n      <th>7</th>\n      <td>4</td>\n      <td>2013-09-29</td>\n      <td>Falcon 9</td>\n      <td>0.011133</td>\n      <td>False Ocean</td>\n      <td>1</td>\n      <td>0</td>\n      <td>0</td>\n      <td>0</td>\n      <td>None</td>\n      <td>...</td>\n      <td>0</td>\n      <td>0</td>\n      <td>1</td>\n      <td>0</td>\n      <td>0</td>\n      <td>0</td>\n      <td>0</td>\n      <td>0</td>\n      <td>0</td>\n      <td>1</td>\n    </tr>\n    <tr>\n      <th>8</th>\n      <td>5</td>\n      <td>2013-12-03</td>\n      <td>Falcon 9</td>\n      <td>0.185986</td>\n      <td>None None</td>\n      <td>1</td>\n      <td>0</td>\n      <td>0</td>\n      <td>0</td>\n      <td>None</td>\n      <td>...</td>\n      <td>0</td>\n      <td>0</td>\n      <td>0</td>\n      <td>0</td>\n      <td>0</td>\n      <td>0</td>\n      <td>0</td>\n      <td>1</td>\n      <td>0</td>\n      <td>0</td>\n    </tr>\n    <tr>\n      <th>...</th>\n      <td>...</td>\n      <td>...</td>\n      <td>...</td>\n      <td>...</td>\n      <td>...</td>\n      <td>...</td>\n      <td>...</td>\n      <td>...</td>\n      <td>...</td>\n      <td>...</td>\n      <td>...</td>\n      <td>...</td>\n      <td>...</td>\n      <td>...</td>\n      <td>...</td>\n      <td>...</td>\n      <td>...</td>\n      <td>...</td>\n      <td>...</td>\n      <td>...</td>\n      <td>...</td>\n    </tr>\n    <tr>\n      <th>138</th>\n      <td>135</td>\n      <td>2022-03-03</td>\n      <td>Falcon 9</td>\n      <td>0.846758</td>\n      <td>True ASDS</td>\n      <td>11</td>\n      <td>1</td>\n      <td>1</td>\n      <td>1</td>\n      <td>5e9e3033383ecbb9e534e7cc</td>\n      <td>...</td>\n      <td>0</td>\n      <td>0</td>\n      <td>0</td>\n      <td>0</td>\n      <td>0</td>\n      <td>0</td>\n      <td>1</td>\n      <td>0</td>\n      <td>1</td>\n      <td>0</td>\n    </tr>\n    <tr>\n      <th>139</th>\n      <td>136</td>\n      <td>2022-03-09</td>\n      <td>Falcon 9</td>\n      <td>0.846758</td>\n      <td>True ASDS</td>\n      <td>4</td>\n      <td>1</td>\n      <td>1</td>\n      <td>1</td>\n      <td>5e9e3033383ecb075134e7cd</td>\n      <td>...</td>\n      <td>0</td>\n      <td>0</td>\n      <td>0</td>\n      <td>0</td>\n      <td>0</td>\n      <td>0</td>\n      <td>1</td>\n      <td>1</td>\n      <td>0</td>\n      <td>0</td>\n    </tr>\n    <tr>\n      <th>140</th>\n      <td>137</td>\n      <td>2022-03-19</td>\n      <td>Falcon 9</td>\n      <td>0.846758</td>\n      <td>True ASDS</td>\n      <td>12</td>\n      <td>1</td>\n      <td>1</td>\n      <td>1</td>\n      <td>5e9e3033383ecbb9e534e7cc</td>\n      <td>...</td>\n      <td>0</td>\n      <td>0</td>\n      <td>0</td>\n      <td>0</td>\n      <td>0</td>\n      <td>0</td>\n      <td>1</td>\n      <td>1</td>\n      <td>0</td>\n      <td>0</td>\n    </tr>\n    <tr>\n      <th>141</th>\n      <td>138</td>\n      <td>2022-04-01</td>\n      <td>Falcon 9</td>\n      <td>0.479179</td>\n      <td>True ASDS</td>\n      <td>7</td>\n      <td>1</td>\n      <td>1</td>\n      <td>1</td>\n      <td>5e9e3033383ecbb9e534e7cc</td>\n      <td>...</td>\n      <td>0</td>\n      <td>0</td>\n      <td>0</td>\n      <td>0</td>\n      <td>1</td>\n      <td>0</td>\n      <td>0</td>\n      <td>1</td>\n      <td>0</td>\n      <td>0</td>\n    </tr>\n    <tr>\n      <th>142</th>\n      <td>139</td>\n      <td>2022-04-08</td>\n      <td>Falcon 9</td>\n      <td>0.479179</td>\n      <td>True ASDS</td>\n      <td>5</td>\n      <td>1</td>\n      <td>1</td>\n      <td>1</td>\n      <td>5e9e3033383ecb075134e7cd</td>\n      <td>...</td>\n      <td>0</td>\n      <td>0</td>\n      <td>0</td>\n      <td>0</td>\n      <td>0</td>\n      <td>0</td>\n      <td>0</td>\n      <td>0</td>\n      <td>1</td>\n      <td>0</td>\n    </tr>\n  </tbody>\n</table>\n<p>139 rows × 31 columns</p>\n</div>"
     },
     "execution_count": 72,
     "metadata": {},
     "output_type": "execute_result"
    }
   ],
   "source": [
    "df"
   ],
   "metadata": {
    "collapsed": false,
    "pycharm": {
     "name": "#%%\n"
    }
   }
  },
  {
   "cell_type": "code",
   "execution_count": 95,
   "outputs": [],
   "source": [
    "df_dummies = df[list(df.columns[16:])]"
   ],
   "metadata": {
    "collapsed": false,
    "pycharm": {
     "name": "#%%\n"
    }
   }
  },
  {
   "cell_type": "code",
   "execution_count": 117,
   "outputs": [],
   "source": [
    "x = df[['PayloadMass', 'Flights', 'GridFins', 'Reused', 'Legs', 'ReusedCount', 'Serial']]\n",
    "x = x.add(df_dummies, fill_value=0)\n",
    "y = df['Class']"
   ],
   "metadata": {
    "collapsed": false,
    "pycharm": {
     "name": "#%%\n"
    }
   }
  },
  {
   "cell_type": "code",
   "execution_count": 118,
   "outputs": [],
   "source": [
    "x_train, x_test, y_train, y_test = train_test_split(x, y, test_size=0.10, random_state=1)"
   ],
   "metadata": {
    "collapsed": false,
    "pycharm": {
     "name": "#%%\n"
    }
   }
  },
  {
   "cell_type": "code",
   "execution_count": 122,
   "outputs": [],
   "source": [
    "def plot_confusion_matrix(y ,y_predict):\n",
    "    from sklearn.metrics import confusion_matrix\n",
    "\n",
    "    cm = confusion_matrix(y, y_predict)\n",
    "    ax= plt.subplot()\n",
    "    sns.heatmap(cm, annot=True, ax = ax) #annot=True to annotate cells\n",
    "    ax.set_xlabel('Predicted labels')\n",
    "    ax.set_ylabel('True labels')\n",
    "    ax.set_title('Confusion Matrix')\n",
    "    ax.xaxis.set_ticklabels(['did not land', 'land']); ax.yaxis.set_ticklabels(['did not land', 'landed'])"
   ],
   "metadata": {
    "collapsed": false,
    "pycharm": {
     "name": "#%%\n"
    }
   }
  },
  {
   "cell_type": "markdown",
   "source": [
    "Logistic regression"
   ],
   "metadata": {
    "collapsed": false
   }
  },
  {
   "cell_type": "code",
   "execution_count": 104,
   "outputs": [],
   "source": [
    "parameters ={\"C\":[0.01,0.1,1], 'penalty':['l2'], 'solver':['lbfgs']}\n",
    "lr=LogisticRegression()"
   ],
   "metadata": {
    "collapsed": false,
    "pycharm": {
     "name": "#%%\n"
    }
   }
  },
  {
   "cell_type": "code",
   "execution_count": 105,
   "outputs": [],
   "source": [
    "grid_1 = GridSearchCV(lr, parameters, cv=4)"
   ],
   "metadata": {
    "collapsed": false,
    "pycharm": {
     "name": "#%%\n"
    }
   }
  },
  {
   "cell_type": "code",
   "execution_count": 106,
   "outputs": [
    {
     "data": {
      "text/plain": "GridSearchCV(cv=4, estimator=LogisticRegression(),\n             param_grid={'C': [0.01, 0.1, 1], 'penalty': ['l2'],\n                         'solver': ['lbfgs']})"
     },
     "execution_count": 106,
     "metadata": {},
     "output_type": "execute_result"
    }
   ],
   "source": [
    "grid_1.fit(x_train, y_train)"
   ],
   "metadata": {
    "collapsed": false,
    "pycharm": {
     "name": "#%%\n"
    }
   }
  },
  {
   "cell_type": "code",
   "execution_count": 121,
   "outputs": [
    {
     "name": "stdout",
     "output_type": "stream",
     "text": [
      "tuned hpyerparameters :(best parameters)  {'C': 1, 'penalty': 'l2', 'solver': 'lbfgs'}\n",
      "accuracy for the best estimator : 92.86 % percent\n"
     ]
    }
   ],
   "source": [
    "best_estimator=grid_1.best_estimator_\n",
    "print(\"tuned hpyerparameters :(best parameters) \", grid_1.best_params_)\n",
    "print(\"accuracy for the best estimator :\", round(best_estimator.score(x_test, y_test),4) * 100,'% percent')"
   ],
   "metadata": {
    "collapsed": false,
    "pycharm": {
     "name": "#%%\n"
    }
   }
  },
  {
   "cell_type": "code",
   "execution_count": 123,
   "outputs": [
    {
     "data": {
      "text/plain": "<Figure size 432x288 with 2 Axes>",
      "image/png": "[encoded data removed]"
     },
     "metadata": {
      "needs_background": "light"
     },
     "output_type": "display_data"
    }
   ],
   "source": [
    "yhat = best_estimator.predict(x_test)\n",
    "plot_confusion_matrix(y_test,yhat)"
   ],
   "metadata": {
    "collapsed": false,
    "pycharm": {
     "name": "#%%\n"
    }
   }
  },
  {
   "cell_type": "markdown",
   "source": [
    "Support Vector Machine"
   ],
   "metadata": {
    "collapsed": false
   }
  },
  {
   "cell_type": "code",
   "execution_count": 124,
   "outputs": [],
   "source": [
    "parameters = {'kernel':('linear', 'rbf','poly','rbf', 'sigmoid'),\n",
    "              'C': np.logspace(-3, 3, 5),\n",
    "              'gamma':np.logspace(-3, 3, 5)}\n",
    "svm = SVC()"
   ],
   "metadata": {
    "collapsed": false,
    "pycharm": {
     "name": "#%%\n"
    }
   }
  },
  {
   "cell_type": "code",
   "execution_count": 125,
   "outputs": [
    {
     "data": {
      "text/plain": "GridSearchCV(cv=4, estimator=SVC(),\n             param_grid={'C': array([1.00000000e-03, 3.16227766e-02, 1.00000000e+00, 3.16227766e+01,\n       1.00000000e+03]),\n                         'gamma': array([1.00000000e-03, 3.16227766e-02, 1.00000000e+00, 3.16227766e+01,\n       1.00000000e+03]),\n                         'kernel': ('linear', 'rbf', 'poly', 'rbf', 'sigmoid')})"
     },
     "execution_count": 125,
     "metadata": {},
     "output_type": "execute_result"
    }
   ],
   "source": [
    "grid_2 = GridSearchCV(svm, parameters, cv=4)\n",
    "grid_2.fit(x_train, y_train)"
   ],
   "metadata": {
    "collapsed": false,
    "pycharm": {
     "name": "#%%\n"
    }
   }
  },
  {
   "cell_type": "code",
   "execution_count": 126,
   "outputs": [
    {
     "name": "stdout",
     "output_type": "stream",
     "text": [
      "tuned hpyerparameters :(best parameters)  {'C': 0.03162277660168379, 'gamma': 1.0, 'kernel': 'poly'}\n",
      "accuracy for the best estimator : 92.86 % percent\n"
     ]
    }
   ],
   "source": [
    "best_estimator=grid_2.best_estimator_\n",
    "print(\"tuned hpyerparameters :(best parameters) \", grid_2.best_params_)\n",
    "print(\"accuracy for the best estimator :\", round(best_estimator.score(x_test, y_test),4) * 100,'% percent')"
   ],
   "metadata": {
    "collapsed": false,
    "pycharm": {
     "name": "#%%\n"
    }
   }
  },
  {
   "cell_type": "code",
   "execution_count": 127,
   "outputs": [
    {
     "data": {
      "text/plain": "<Figure size 432x288 with 2 Axes>",
      "image/png": "[encoded data removed]"
     },
     "metadata": {
      "needs_background": "light"
     },
     "output_type": "display_data"
    }
   ],
   "source": [
    "yhat = best_estimator.predict(x_test)\n",
    "plot_confusion_matrix(y_test,yhat)"
   ],
   "metadata": {
    "collapsed": false,
    "pycharm": {
     "name": "#%%\n"
    }
   }
  },
  {
   "cell_type": "markdown",
   "source": [
    "Decision Tree Classifier"
   ],
   "metadata": {
    "collapsed": false
   }
  },
  {
   "cell_type": "code",
   "execution_count": 128,
   "outputs": [],
   "source": [
    "parameters = {'criterion': ['gini', 'entropy'],\n",
    "              'splitter': ['best', 'random'],\n",
    "              'max_depth': [2*n for n in range(1,10)],\n",
    "              'max_features': ['auto', 'sqrt'],\n",
    "              'min_samples_leaf': [1, 2, 4],\n",
    "              'min_samples_split': [2, 5, 10]}\n",
    "\n",
    "tree = DecisionTreeClassifier()"
   ],
   "metadata": {
    "collapsed": false,
    "pycharm": {
     "name": "#%%\n"
    }
   }
  },
  {
   "cell_type": "code",
   "execution_count": 129,
   "outputs": [
    {
     "data": {
      "text/plain": "GridSearchCV(cv=4, estimator=DecisionTreeClassifier(),\n             param_grid={'criterion': ['gini', 'entropy'],\n                         'max_depth': [2, 4, 6, 8, 10, 12, 14, 16, 18],\n                         'max_features': ['auto', 'sqrt'],\n                         'min_samples_leaf': [1, 2, 4],\n                         'min_samples_split': [2, 5, 10],\n                         'splitter': ['best', 'random']})"
     },
     "execution_count": 129,
     "metadata": {},
     "output_type": "execute_result"
    }
   ],
   "source": [
    "grid_3 = GridSearchCV(tree, parameters, cv=4)\n",
    "grid_3.fit(x_train, y_train)"
   ],
   "metadata": {
    "collapsed": false,
    "pycharm": {
     "name": "#%%\n"
    }
   }
  },
  {
   "cell_type": "code",
   "execution_count": 130,
   "outputs": [
    {
     "name": "stdout",
     "output_type": "stream",
     "text": [
      "tuned hpyerparameters :(best parameters)  {'criterion': 'gini', 'max_depth': 14, 'max_features': 'sqrt', 'min_samples_leaf': 1, 'min_samples_split': 2, 'splitter': 'best'}\n",
      "accuracy for the best estimator : 85.71 % percent\n"
     ]
    }
   ],
   "source": [
    "best_estimator=grid_3.best_estimator_\n",
    "print(\"tuned hpyerparameters :(best parameters) \", grid_3.best_params_)\n",
    "print(\"accuracy for the best estimator :\", round(best_estimator.score(x_test, y_test),4) * 100,'% percent')"
   ],
   "metadata": {
    "collapsed": false,
    "pycharm": {
     "name": "#%%\n"
    }
   }
  },
  {
   "cell_type": "code",
   "execution_count": 131,
   "outputs": [
    {
     "data": {
      "text/plain": "<Figure size 432x288 with 2 Axes>",
      "image/png": "[encoded data removed]"
     },
     "metadata": {
      "needs_background": "light"
     },
     "output_type": "display_data"
    }
   ],
   "source": [
    "yhat = best_estimator.predict(x_test)\n",
    "plot_confusion_matrix(y_test,yhat)"
   ],
   "metadata": {
    "collapsed": false,
    "pycharm": {
     "name": "#%%\n"
    }
   }
  },
  {
   "cell_type": "markdown",
   "source": [
    "k nearest neighbors"
   ],
   "metadata": {
    "collapsed": false
   }
  },
  {
   "cell_type": "code",
   "execution_count": 132,
   "outputs": [],
   "source": [
    "parameters = {'n_neighbors': [1, 2, 3, 4, 5, 6, 7, 8, 9, 10],\n",
    "              'algorithm': ['auto', 'ball_tree', 'kd_tree', 'brute'],\n",
    "              'p': [1,2]}\n",
    "\n",
    "KNN = KNeighborsClassifier()"
   ],
   "metadata": {
    "collapsed": false,
    "pycharm": {
     "name": "#%%\n"
    }
   }
  },
  {
   "cell_type": "code",
   "execution_count": 133,
   "outputs": [
    {
     "data": {
      "text/plain": "GridSearchCV(cv=4, estimator=KNeighborsClassifier(),\n             param_grid={'algorithm': ['auto', 'ball_tree', 'kd_tree', 'brute'],\n                         'n_neighbors': [1, 2, 3, 4, 5, 6, 7, 8, 9, 10],\n                         'p': [1, 2]})"
     },
     "execution_count": 133,
     "metadata": {},
     "output_type": "execute_result"
    }
   ],
   "source": [
    "grid_4 = GridSearchCV(KNN, parameters, cv=4)\n",
    "grid_4.fit(x_train, y_train)"
   ],
   "metadata": {
    "collapsed": false,
    "pycharm": {
     "name": "#%%\n"
    }
   }
  },
  {
   "cell_type": "code",
   "execution_count": 134,
   "outputs": [
    {
     "name": "stdout",
     "output_type": "stream",
     "text": [
      "tuned hpyerparameters :(best parameters)  {'algorithm': 'auto', 'n_neighbors': 6, 'p': 2}\n",
      "accuracy for the best estimator : 85.71 % percent\n"
     ]
    }
   ],
   "source": [
    "best_estimator=grid_4.best_estimator_\n",
    "print(\"tuned hpyerparameters :(best parameters) \", grid_4.best_params_)\n",
    "print(\"accuracy for the best estimator :\", round(best_estimator.score(x_test, y_test),4) * 100,'% percent')"
   ],
   "metadata": {
    "collapsed": false,
    "pycharm": {
     "name": "#%%\n"
    }
   }
  },
  {
   "cell_type": "code",
   "execution_count": 135,
   "outputs": [
    {
     "data": {
      "text/plain": "<Figure size 432x288 with 2 Axes>",
      "image/png": "[encoded data removed]"
     },
     "metadata": {
      "needs_background": "light"
     },
     "output_type": "display_data"
    }
   ],
   "source": [
    "yhat = best_estimator.predict(x_test)\n",
    "plot_confusion_matrix(y_test,yhat)"
   ],
   "metadata": {
    "collapsed": false,
    "pycharm": {
     "name": "#%%\n"
    }
   }
  },
  {
   "cell_type": "markdown",
   "source": [
    "### We choose the SVM model as the better model to model this Dataset and try to predict if a Launch will be success or nor"
   ],
   "metadata": {
    "collapsed": false
   }
  },
  {
   "cell_type": "code",
   "execution_count": 136,
   "outputs": [],
   "source": [
    "model = grid_2.best_estimator_"
   ],
   "metadata": {
    "collapsed": false,
    "pycharm": {
     "name": "#%%\n"
    }
   }
  }
 ],
 "metadata": {
  "kernelspec": {
   "display_name": "Python 3",
   "language": "python",
   "name": "python3"
  },
  "language_info": {
   "codemirror_mode": {
    "name": "ipython",
    "version": 2
   },
   "file_extension": ".py",
   "mimetype": "text/x-python",
   "name": "python",
   "nbconvert_exporter": "python",
   "pygments_lexer": "ipython2",
   "version": "2.7.6"
  }
 },
 "nbformat": 4,
 "nbformat_minor": 0
}